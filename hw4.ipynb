{
 "cells": [
  {
   "cell_type": "markdown",
   "metadata": {},
   "source": [
    "## 문제 1\n",
    "_01_code/_15_lstm_and_its_application/g_crypto_currency_regression_train_lstm.py 실행결과 제시, Wandb URL #1 \\\n",
    "_01_code/_15_lstm_and_its_application/h_crypto_currency_regression_test_lstm.py 실행결과 제시, 출력 그래프 제시 \\\n",
    "_01_code/_15_lstm_and_its_application/i_crypto_currency_classification_train_lstm.py 실행결과 제시, Wandb URL #2 \\\n",
    "_01_code/_15_lstm_and_its_application/j_crypto_currency_classification_test_lstm.py 실행결과 제시"
   ]
  },
  {
   "cell_type": "code",
   "execution_count": 1,
   "metadata": {},
   "outputs": [],
   "source": [
    "import torch\n",
    "from torch import nn, optim\n",
    "from torch.utils.data import DataLoader\n",
    "from datetime import datetime\n",
    "from matplotlib import pyplot as plt\n",
    "import os\n",
    "import wandb\n",
    "from pathlib import Path\n",
    "\n",
    "from _01_code._15_lstm_and_its_application.f_arg_parser import get_parser\n",
    "from _01_code._14_rnn.g_rnn_trainer import RegressionTrainer\n",
    "from _01_code._03_real_world_data_to_tensors.p_cryptocurrency_dataset_dataloader import get_cryptocurrency_data, CryptoCurrencyDataset\n",
    "from _01_code._08_fcn_best_practice.c_trainer import ClassificationTrainer\n",
    "\n",
    "BASE_PATH = \"./_01_code/_15_lstm_and_its_application\" # BASE_PATH: /Users/yhhan/git/link_dl\n",
    "CHECKPOINT_FILE_PATH = os.path.join(BASE_PATH, \"checkpoints\")\n",
    "if not os.path.isdir(CHECKPOINT_FILE_PATH):\n",
    "  os.makedirs(os.path.join(BASE_PATH, \"checkpoints\"))"
   ]
  },
  {
   "cell_type": "code",
   "execution_count": 2,
   "metadata": {},
   "outputs": [],
   "source": [
    "def get_btc_krw_data(sequence_size=10, validation_size=100, test_size=10, is_regression=True, config=None):\n",
    "  X_train, X_validation, X_test, y_train, y_validation, y_test, y_train_date, y_validation_date, y_test_date \\\n",
    "    = get_cryptocurrency_data(\n",
    "      sequence_size=sequence_size, validation_size=validation_size, test_size=test_size,\n",
    "      target_column='Close', y_normalizer=1.0e7, is_regression=is_regression\n",
    "  )\n",
    "\n",
    "  # print(X_train.shape, X_validation.shape, X_test.shape, y_train.shape, y_validation.shape, y_test.shape, \"!!! - 1\")\n",
    "\n",
    "  # X_train.shape: [3212, 10, 5]\n",
    "  # X_validation.shape: [100, 10, 5]\n",
    "  # X_test.shape: [10, 10, 5]\n",
    "  # y_train.shape: [3212]\n",
    "  # y_validation.shape: [100]\n",
    "  # y_test.shape: [10]\n",
    "\n",
    "  train_crypto_currency_dataset = CryptoCurrencyDataset(X=X_train, y=y_train)\n",
    "  validation_crypto_currency_dataset = CryptoCurrencyDataset(X=X_validation, y=y_validation)\n",
    "  test_crypto_currency_dataset = CryptoCurrencyDataset(X=X_test, y=y_test)\n",
    "\n",
    "  if config:\n",
    "    train_data_loader = DataLoader(\n",
    "      dataset=train_crypto_currency_dataset, batch_size=config[\"batch_size\"], shuffle=True\n",
    "    )\n",
    "    validation_data_loader = DataLoader(\n",
    "      dataset=validation_crypto_currency_dataset, batch_size=config[\"batch_size\"], shuffle=True\n",
    "    )\n",
    "    test_data_loader = DataLoader(\n",
    "      dataset=test_crypto_currency_dataset, batch_size=len(test_crypto_currency_dataset), shuffle=True\n",
    "    )\n",
    "  else:\n",
    "    train_data_loader = DataLoader(\n",
    "      dataset=train_crypto_currency_dataset, batch_size=wandb.config.batch_size, shuffle=True\n",
    "    )\n",
    "    validation_data_loader = DataLoader(\n",
    "      dataset=validation_crypto_currency_dataset, batch_size=wandb.config.batch_size, shuffle=True\n",
    "    )\n",
    "    test_data_loader = DataLoader(\n",
    "      dataset=test_crypto_currency_dataset, batch_size=len(test_crypto_currency_dataset), shuffle=True\n",
    "    )\n",
    "\n",
    "  return train_data_loader, validation_data_loader, test_data_loader"
   ]
  },
  {
   "cell_type": "markdown",
   "metadata": {},
   "source": [
    "_01_code/_15_lstm_and_its_application/g_crypto_currency_regression_train_lstm.py"
   ]
  },
  {
   "cell_type": "code",
   "execution_count": 3,
   "metadata": {},
   "outputs": [
    {
     "name": "stderr",
     "output_type": "stream",
     "text": [
      "\u001b[34m\u001b[1mwandb\u001b[0m: Using wandb-core as the SDK backend. Please refer to https://wandb.me/wandb-core for more information.\n",
      "\u001b[34m\u001b[1mwandb\u001b[0m: Currently logged in as: \u001b[33mcudje\u001b[0m (\u001b[33mcudje-cudje\u001b[0m). Use \u001b[1m`wandb login --relogin`\u001b[0m to force relogin\n"
     ]
    },
    {
     "data": {
      "text/html": [
       "Tracking run with wandb version 0.18.2"
      ],
      "text/plain": [
       "<IPython.core.display.HTML object>"
      ]
     },
     "metadata": {},
     "output_type": "display_data"
    },
    {
     "data": {
      "text/html": [
       "Run data is saved locally in <code>/home/cuj/Python/deeplearning_hw4/wandb/run-20241217_165804-0m83px3q</code>"
      ],
      "text/plain": [
       "<IPython.core.display.HTML object>"
      ]
     },
     "metadata": {},
     "output_type": "display_data"
    },
    {
     "data": {
      "text/html": [
       "Syncing run <strong><a href='https://wandb.ai/cudje-cudje/lstm_regression_btc_krw/runs/0m83px3q' target=\"_blank\">2024-12-17_16-58-03</a></strong> to <a href='https://wandb.ai/cudje-cudje/lstm_regression_btc_krw' target=\"_blank\">Weights & Biases</a> (<a href='https://wandb.me/run' target=\"_blank\">docs</a>)<br/>"
      ],
      "text/plain": [
       "<IPython.core.display.HTML object>"
      ]
     },
     "metadata": {},
     "output_type": "display_data"
    },
    {
     "data": {
      "text/html": [
       " View project at <a href='https://wandb.ai/cudje-cudje/lstm_regression_btc_krw' target=\"_blank\">https://wandb.ai/cudje-cudje/lstm_regression_btc_krw</a>"
      ],
      "text/plain": [
       "<IPython.core.display.HTML object>"
      ]
     },
     "metadata": {},
     "output_type": "display_data"
    },
    {
     "data": {
      "text/html": [
       " View run at <a href='https://wandb.ai/cudje-cudje/lstm_regression_btc_krw/runs/0m83px3q' target=\"_blank\">https://wandb.ai/cudje-cudje/lstm_regression_btc_krw/runs/0m83px3q</a>"
      ],
      "text/plain": [
       "<IPython.core.display.HTML object>"
      ]
     },
     "metadata": {},
     "output_type": "display_data"
    },
    {
     "name": "stdout",
     "output_type": "stream",
     "text": [
      "Namespace(wandb=True, batch_size=2048, epochs=10000, learning_rate=0.0001, weight_decay=0.0, validation_intervals=30, early_stop_patience=30, early_stop_delta=1e-06)\n",
      "{'epochs': 10000, 'batch_size': 2048, 'validation_intervals': 30, 'learning_rate': 0.0001, 'early_stop_patience': 30, 'early_stop_delta': 1e-06, 'weight_decay': 0.0}\n",
      "Training on device cuda:0.\n",
      "[Epoch   1] T_loss: 10.20037, V_loss: 79.71881, Early stopping is stated! | T_time: 00:00:00, T_speed: 0.006\n",
      "[Epoch  30] T_loss: 5.99404, V_loss: 46.31964, V_loss decreased (79.71881 --> 46.31964). Saving model... | T_time: 00:00:01, T_speed: 0.710\n",
      "[Epoch  60] T_loss: 0.65166, V_loss: 11.13410, V_loss decreased (46.31964 --> 11.13410). Saving model... | T_time: 00:00:01, T_speed: 0.072\n",
      "[Epoch  90] T_loss: 0.37324, V_loss: 7.40732, V_loss decreased (11.13410 --> 7.40732). Saving model... | T_time: 00:00:02, T_speed: 0.143\n",
      "[Epoch 120] T_loss: 0.26639, V_loss: 5.32899, V_loss decreased (7.40732 --> 5.32899). Saving model... | T_time: 00:00:03, T_speed: 0.228\n",
      "[Epoch 150] T_loss: 0.19875, V_loss: 4.12718, V_loss decreased (5.32899 --> 4.12718). Saving model... | T_time: 00:00:04, T_speed: 0.351\n",
      "[Epoch 180] T_loss: 0.13647, V_loss: 3.18378, V_loss decreased (4.12718 --> 3.18378). Saving model... | T_time: 00:00:05, T_speed: 0.800\n",
      "[Epoch 210] T_loss: 0.09366, V_loss: 2.45865, V_loss decreased (3.18378 --> 2.45865). Saving model... | T_time: 00:00:06, T_speed: 9.730\n",
      "[Epoch 240] T_loss: 0.07619, V_loss: 2.07330, V_loss decreased (2.45865 --> 2.07330). Saving model... | T_time: 00:00:06, T_speed: 0.257\n",
      "[Epoch 270] T_loss: 0.06701, V_loss: 1.86160, V_loss decreased (2.07330 --> 1.86160). Saving model... | T_time: 00:00:07, T_speed: 0.362\n",
      "[Epoch 300] T_loss: 0.06090, V_loss: 1.72323, V_loss decreased (1.86160 --> 1.72323). Saving model... | T_time: 00:00:08, T_speed: 0.447\n",
      "[Epoch 330] T_loss: 0.05503, V_loss: 1.61932, V_loss decreased (1.72323 --> 1.61932). Saving model... | T_time: 00:00:09, T_speed: 0.699\n",
      "[Epoch 360] T_loss: 0.05177, V_loss: 1.54489, V_loss decreased (1.61932 --> 1.54489). Saving model... | T_time: 00:00:10, T_speed: 0.976\n",
      "[Epoch 390] T_loss: 0.04830, V_loss: 1.48049, V_loss decreased (1.54489 --> 1.48049). Saving model... | T_time: 00:00:11, T_speed: 2.463\n",
      "[Epoch 420] T_loss: 0.04585, V_loss: 1.42952, V_loss decreased (1.48049 --> 1.42952). Saving model... | T_time: 00:00:12, T_speed: 7.438\n",
      "[Epoch 450] T_loss: 0.04294, V_loss: 1.38876, V_loss decreased (1.42952 --> 1.38876). Saving model... | T_time: 00:00:12, T_speed: 0.529\n",
      "[Epoch 480] T_loss: 0.04042, V_loss: 1.34748, V_loss decreased (1.38876 --> 1.34748). Saving model... | T_time: 00:00:13, T_speed: 0.643\n",
      "[Epoch 510] T_loss: 0.03892, V_loss: 1.30915, V_loss decreased (1.34748 --> 1.30915). Saving model... | T_time: 00:00:14, T_speed: 0.943\n",
      "[Epoch 540] T_loss: 0.03631, V_loss: 1.27431, V_loss decreased (1.30915 --> 1.27431). Saving model... | T_time: 00:00:15, T_speed: 1.243\n",
      "[Epoch 570] T_loss: 0.03446, V_loss: 1.24182, V_loss decreased (1.27431 --> 1.24182). Saving model... | T_time: 00:00:16, T_speed: 2.439\n",
      "[Epoch 600] T_loss: 0.03353, V_loss: 1.21107, V_loss decreased (1.24182 --> 1.21107). Saving model... | T_time: 00:00:17, T_speed: 19.048\n",
      "[Epoch 630] T_loss: 0.03200, V_loss: 1.18194, V_loss decreased (1.21107 --> 1.18194). Saving model... | T_time: 00:00:17, T_speed: 0.675\n",
      "[Epoch 660] T_loss: 0.03092, V_loss: 1.15449, V_loss decreased (1.18194 --> 1.15449). Saving model... | T_time: 00:00:18, T_speed: 0.795\n",
      "[Epoch 690] T_loss: 0.02991, V_loss: 1.12735, V_loss decreased (1.15449 --> 1.12735). Saving model... | T_time: 00:00:19, T_speed: 1.118\n",
      "[Epoch 720] T_loss: 0.02917, V_loss: 1.10261, V_loss decreased (1.12735 --> 1.10261). Saving model... | T_time: 00:00:20, T_speed: 1.779\n",
      "[Epoch 750] T_loss: 0.02852, V_loss: 1.07755, V_loss decreased (1.10261 --> 1.07755). Saving model... | T_time: 00:00:21, T_speed: 2.521\n",
      "[Epoch 780] T_loss: 0.02787, V_loss: 1.05388, V_loss decreased (1.07755 --> 1.05388). Saving model... | T_time: 00:00:22, T_speed: 8.612\n",
      "[Epoch 810] T_loss: 0.02730, V_loss: 1.03295, V_loss decreased (1.05388 --> 1.03295). Saving model... | T_time: 00:00:22, T_speed: 0.822\n",
      "[Epoch 840] T_loss: 0.02645, V_loss: 1.00882, V_loss decreased (1.03295 --> 1.00882). Saving model... | T_time: 00:00:23, T_speed: 1.074\n",
      "[Epoch 870] T_loss: 0.02603, V_loss: 0.99046, V_loss decreased (1.00882 --> 0.99046). Saving model... | T_time: 00:00:24, T_speed: 1.297\n",
      "[Epoch 900] T_loss: 0.02510, V_loss: 0.96794, V_loss decreased (0.99046 --> 0.96794). Saving model... | T_time: 00:00:25, T_speed: 1.972\n",
      "[Epoch 930] T_loss: 0.02484, V_loss: 0.94968, V_loss decreased (0.96794 --> 0.94968). Saving model... | T_time: 00:00:26, T_speed: 2.736\n",
      "[Epoch 960] T_loss: 0.02419, V_loss: 0.92853, V_loss decreased (0.94968 --> 0.92853). Saving model... | T_time: 00:00:27, T_speed: 7.448\n",
      "[Epoch 990] T_loss: 0.02344, V_loss: 0.90884, V_loss decreased (0.92853 --> 0.90884). Saving model... | T_time: 00:00:28, T_speed: 37.605\n",
      "[Epoch 1020] T_loss: 0.02280, V_loss: 0.89068, V_loss decreased (0.90884 --> 0.89068). Saving model... | T_time: 00:00:28, T_speed: 1.248\n",
      "[Epoch 1050] T_loss: 0.02239, V_loss: 0.87170, V_loss decreased (0.89068 --> 0.87170). Saving model... | T_time: 00:00:29, T_speed: 1.484\n",
      "[Epoch 1080] T_loss: 0.02216, V_loss: 0.85416, V_loss decreased (0.87170 --> 0.85416). Saving model... | T_time: 00:00:30, T_speed: 2.185\n",
      "[Epoch 1110] T_loss: 0.02143, V_loss: 0.83706, V_loss decreased (0.85416 --> 0.83706). Saving model... | T_time: 00:00:31, T_speed: 3.981\n",
      "[Epoch 1140] T_loss: 0.02112, V_loss: 0.82120, V_loss decreased (0.83706 --> 0.82120). Saving model... | T_time: 00:00:32, T_speed: 6.895\n",
      "[Epoch 1170] T_loss: 0.02085, V_loss: 0.80328, V_loss decreased (0.82120 --> 0.80328). Saving model... | T_time: 00:00:33, T_speed: 22.173\n",
      "[Epoch 1200] T_loss: 0.02009, V_loss: 0.78994, V_loss decreased (0.80328 --> 0.78994). Saving model... | T_time: 00:00:33, T_speed: 1.431\n",
      "[Epoch 1230] T_loss: 0.02015, V_loss: 0.77378, V_loss decreased (0.78994 --> 0.77378). Saving model... | T_time: 00:00:34, T_speed: 1.973\n",
      "[Epoch 1260] T_loss: 0.01974, V_loss: 0.75886, V_loss decreased (0.77378 --> 0.75886). Saving model... | T_time: 00:00:35, T_speed: 2.469\n",
      "[Epoch 1290] T_loss: 0.01950, V_loss: 0.74710, V_loss decreased (0.75886 --> 0.74710). Saving model... | T_time: 00:00:36, T_speed: 4.345\n",
      "[Epoch 1320] T_loss: 0.01907, V_loss: 0.73365, V_loss decreased (0.74710 --> 0.73365). Saving model... | T_time: 00:00:37, T_speed: 7.242\n",
      "[Epoch 1350] T_loss: 0.01918, V_loss: 0.72195, V_loss decreased (0.73365 --> 0.72195). Saving model... | T_time: 00:00:37, T_speed: 1.394\n",
      "[Epoch 1380] T_loss: 0.01851, V_loss: 0.70936, V_loss decreased (0.72195 --> 0.70936). Saving model... | T_time: 00:00:38, T_speed: 1.611\n",
      "[Epoch 1410] T_loss: 0.01837, V_loss: 0.70103, V_loss decreased (0.70936 --> 0.70103). Saving model... | T_time: 00:00:39, T_speed: 2.197\n",
      "[Epoch 1440] T_loss: 0.01829, V_loss: 0.69020, V_loss decreased (0.70103 --> 0.69020). Saving model... | T_time: 00:00:40, T_speed: 2.729\n",
      "[Epoch 1470] T_loss: 0.01801, V_loss: 0.68258, V_loss decreased (0.69020 --> 0.68258). Saving model... | T_time: 00:00:41, T_speed: 4.701\n",
      "[Epoch 1500] T_loss: 0.01778, V_loss: 0.67023, V_loss decreased (0.68258 --> 0.67023). Saving model... | T_time: 00:00:42, T_speed: 7.613\n",
      "[Epoch 1530] T_loss: 0.01744, V_loss: 0.66247, V_loss decreased (0.67023 --> 0.66247). Saving model... | T_time: 00:00:42, T_speed: 1.561\n",
      "[Epoch 1560] T_loss: 0.01745, V_loss: 0.65358, V_loss decreased (0.66247 --> 0.65358). Saving model... | T_time: 00:00:43, T_speed: 1.800\n",
      "[Epoch 1590] T_loss: 0.01697, V_loss: 0.64620, V_loss decreased (0.65358 --> 0.64620). Saving model... | T_time: 00:00:44, T_speed: 2.431\n",
      "[Epoch 1620] T_loss: 0.01666, V_loss: 0.63994, V_loss decreased (0.64620 --> 0.63994). Saving model... | T_time: 00:00:45, T_speed: 3.732\n",
      "[Epoch 1650] T_loss: 0.01656, V_loss: 0.62778, V_loss decreased (0.63994 --> 0.62778). Saving model... | T_time: 00:00:46, T_speed: 5.194\n",
      "[Epoch 1680] T_loss: 0.01663, V_loss: 0.62344, V_loss decreased (0.62778 --> 0.62344). Saving model... | T_time: 00:00:47, T_speed: 8.269\n",
      "[Epoch 1710] T_loss: 0.01615, V_loss: 0.61286, V_loss decreased (0.62344 --> 0.61286). Saving model... | T_time: 00:00:47, T_speed: 1.731\n",
      "[Epoch 1740] T_loss: 0.01615, V_loss: 0.60478, V_loss decreased (0.61286 --> 0.60478). Saving model... | T_time: 00:00:48, T_speed: 2.255\n",
      "[Epoch 1770] T_loss: 0.01612, V_loss: 0.59538, V_loss decreased (0.60478 --> 0.59538). Saving model... | T_time: 00:00:49, T_speed: 2.695\n",
      "[Epoch 1800] T_loss: 0.01540, V_loss: 0.58977, V_loss decreased (0.59538 --> 0.58977). Saving model... | T_time: 00:00:50, T_speed: 4.068\n",
      "[Epoch 1830] T_loss: 0.01547, V_loss: 0.58230, V_loss decreased (0.58977 --> 0.58230). Saving model... | T_time: 00:00:51, T_speed: 5.609\n",
      "[Epoch 1860] T_loss: 0.01549, V_loss: 0.57518, V_loss decreased (0.58230 --> 0.57518). Saving model... | T_time: 00:00:52, T_speed: 16.507\n",
      "[Epoch 1890] T_loss: 0.01517, V_loss: 0.56788, V_loss decreased (0.57518 --> 0.56788). Saving model... | T_time: 00:00:52, T_speed: 1.893\n",
      "[Epoch 1920] T_loss: 0.01490, V_loss: 0.56243, V_loss decreased (0.56788 --> 0.56243). Saving model... | T_time: 00:00:53, T_speed: 2.457\n",
      "[Epoch 1950] T_loss: 0.01492, V_loss: 0.55408, V_loss decreased (0.56243 --> 0.55408). Saving model... | T_time: 00:00:54, T_speed: 2.933\n",
      "[Epoch 1980] T_loss: 0.01464, V_loss: 0.54796, V_loss decreased (0.55408 --> 0.54796). Saving model... | T_time: 00:00:55, T_speed: 4.411\n",
      "[Epoch 2010] T_loss: 0.01455, V_loss: 0.54103, V_loss decreased (0.54796 --> 0.54103). Saving model... | T_time: 00:00:56, T_speed: 6.061\n",
      "[Epoch 2040] T_loss: 0.01439, V_loss: 0.53441, V_loss decreased (0.54103 --> 0.53441). Saving model... | T_time: 00:00:57, T_speed: 18.010\n",
      "[Epoch 2070] T_loss: 0.01409, V_loss: 0.52699, V_loss decreased (0.53441 --> 0.52699). Saving model... | T_time: 00:00:57, T_speed: 2.079\n",
      "[Epoch 2100] T_loss: 0.01405, V_loss: 0.52181, V_loss decreased (0.52699 --> 0.52181). Saving model... | T_time: 00:00:58, T_speed: 2.689\n",
      "[Epoch 2130] T_loss: 0.01379, V_loss: 0.51642, V_loss decreased (0.52181 --> 0.51642). Saving model... | T_time: 00:00:59, T_speed: 3.775\n",
      "[Epoch 2160] T_loss: 0.01380, V_loss: 0.51069, V_loss decreased (0.51642 --> 0.51069). Saving model... | T_time: 00:01:00, T_speed: 4.829\n",
      "[Epoch 2190] T_loss: 0.01363, V_loss: 0.50349, V_loss decreased (0.51069 --> 0.50349). Saving model... | T_time: 00:01:01, T_speed: 6.476\n",
      "[Epoch 2220] T_loss: 0.01349, V_loss: 0.49952, V_loss decreased (0.50349 --> 0.49952). Saving model... | T_time: 00:01:02, T_speed: 18.324\n",
      "[Epoch 2250] T_loss: 0.01333, V_loss: 0.49654, V_loss decreased (0.49952 --> 0.49654). Saving model... | T_time: 00:01:02, T_speed: 2.490\n",
      "[Epoch 2280] T_loss: 0.01310, V_loss: 0.48809, V_loss decreased (0.49654 --> 0.48809). Saving model... | T_time: 00:01:03, T_speed: 2.897\n",
      "[Epoch 2310] T_loss: 0.01314, V_loss: 0.48805, V_loss decreased (0.48809 --> 0.48805). Saving model... | T_time: 00:01:04, T_speed: 4.041\n",
      "[Epoch 2340] T_loss: 0.01308, V_loss: 0.48209, V_loss decreased (0.48805 --> 0.48209). Saving model... | T_time: 00:01:05, T_speed: 5.161\n",
      "[Epoch 2370] T_loss: 0.01288, V_loss: 0.47904, V_loss decreased (0.48209 --> 0.47904). Saving model... | T_time: 00:01:06, T_speed: 9.690\n",
      "[Epoch 2400] T_loss: 0.01261, V_loss: 0.47832, V_loss decreased (0.47904 --> 0.47832). Saving model... | T_time: 00:01:07, T_speed: 18.866\n",
      "[Epoch 2430] T_loss: 0.01262, V_loss: 0.46856, V_loss decreased (0.47832 --> 0.46856). Saving model... | T_time: 00:01:07, T_speed: 2.669\n",
      "[Epoch 2460] T_loss: 0.01266, V_loss: 0.46968, Early stopping counter: 1 out of 30 | T_time: 00:01:08, T_speed: 3.100\n",
      "[Epoch 2490] T_loss: 0.01225, V_loss: 0.46397, V_loss decreased (0.46856 --> 0.46397). Saving model... | T_time: 00:01:09, T_speed: 4.324\n",
      "[Epoch 2520] T_loss: 0.01225, V_loss: 0.46005, V_loss decreased (0.46397 --> 0.46005). Saving model... | T_time: 00:01:10, T_speed: 5.508\n",
      "[Epoch 2550] T_loss: 0.01229, V_loss: 0.46025, Early stopping counter: 1 out of 30 | T_time: 00:01:11, T_speed: 10.305\n",
      "[Epoch 2580] T_loss: 0.01209, V_loss: 0.45749, V_loss decreased (0.46005 --> 0.45749). Saving model... | T_time: 00:01:12, T_speed: 20.426\n",
      "[Epoch 2610] T_loss: 0.01207, V_loss: 0.45156, V_loss decreased (0.45749 --> 0.45156). Saving model... | T_time: 00:01:12, T_speed: 2.867\n",
      "[Epoch 2640] T_loss: 0.01184, V_loss: 0.45715, Early stopping counter: 1 out of 30 | T_time: 00:01:13, T_speed: 3.807\n",
      "[Epoch 2670] T_loss: 0.01195, V_loss: 0.44997, V_loss decreased (0.45156 --> 0.44997). Saving model... | T_time: 00:01:14, T_speed: 4.664\n",
      "[Epoch 2700] T_loss: 0.01200, V_loss: 0.45752, Early stopping counter: 1 out of 30 | T_time: 00:01:15, T_speed: 5.847\n",
      "[Epoch 2730] T_loss: 0.01155, V_loss: 0.45095, Early stopping counter: 2 out of 30 | T_time: 00:01:16, T_speed: 11.354\n",
      "[Epoch 2760] T_loss: 0.01144, V_loss: 0.45906, Early stopping counter: 3 out of 30 | T_time: 00:01:17, T_speed: 132.102\n",
      "[Epoch 2790] T_loss: 0.01158, V_loss: 0.44677, V_loss decreased (0.44997 --> 0.44677). Saving model... | T_time: 00:01:17, T_speed: 3.092\n",
      "[Epoch 2820] T_loss: 0.01138, V_loss: 0.45105, Early stopping counter: 1 out of 30 | T_time: 00:01:18, T_speed: 4.057\n",
      "[Epoch 2850] T_loss: 0.01160, V_loss: 0.44711, Early stopping counter: 2 out of 30 | T_time: 00:01:19, T_speed: 4.944\n",
      "[Epoch 2880] T_loss: 0.01141, V_loss: 0.45148, Early stopping counter: 3 out of 30 | T_time: 00:01:20, T_speed: 8.052\n",
      "[Epoch 2910] T_loss: 0.01135, V_loss: 0.45575, Early stopping counter: 4 out of 30 | T_time: 00:01:21, T_speed: 12.134\n",
      "[Epoch 2940] T_loss: 0.01130, V_loss: 0.45325, Early stopping counter: 5 out of 30 | T_time: 00:01:22, T_speed: 152.600\n",
      "[Epoch 2970] T_loss: 0.01136, V_loss: 0.45136, Early stopping counter: 6 out of 30 | T_time: 00:01:22, T_speed: 3.298\n",
      "[Epoch 3000] T_loss: 0.01105, V_loss: 0.45473, Early stopping counter: 7 out of 30 | T_time: 00:01:23, T_speed: 4.403\n",
      "[Epoch 3030] T_loss: 0.01127, V_loss: 0.45824, Early stopping counter: 8 out of 30 | T_time: 00:01:24, T_speed: 5.403\n",
      "[Epoch 3060] T_loss: 0.01106, V_loss: 0.45206, Early stopping counter: 9 out of 30 | T_time: 00:01:25, T_speed: 8.964\n",
      "[Epoch 3090] T_loss: 0.01107, V_loss: 0.45746, Early stopping counter: 10 out of 30 | T_time: 00:01:26, T_speed: 13.977\n",
      "[Epoch 3120] T_loss: 0.01117, V_loss: 0.45686, Early stopping counter: 11 out of 30 | T_time: 00:01:27, T_speed: 1909.425\n",
      "[Epoch 3150] T_loss: 0.01064, V_loss: 0.46133, Early stopping counter: 12 out of 30 | T_time: 00:01:27, T_speed: 4.026\n",
      "[Epoch 3180] T_loss: 0.01092, V_loss: 0.46581, Early stopping counter: 13 out of 30 | T_time: 00:01:28, T_speed: 4.794\n",
      "[Epoch 3210] T_loss: 0.01094, V_loss: 0.46840, Early stopping counter: 14 out of 30 | T_time: 00:01:29, T_speed: 5.876\n",
      "[Epoch 3240] T_loss: 0.01081, V_loss: 0.46551, Early stopping counter: 15 out of 30 | T_time: 00:01:30, T_speed: 9.929\n",
      "[Epoch 3270] T_loss: 0.01074, V_loss: 0.47051, Early stopping counter: 16 out of 30 | T_time: 00:01:31, T_speed: 31.137\n",
      "[Epoch 3300] T_loss: 0.01101, V_loss: 0.47752, Early stopping counter: 17 out of 30 | T_time: 00:01:31, T_speed: 3.345\n",
      "[Epoch 3330] T_loss: 0.01089, V_loss: 0.47548, Early stopping counter: 18 out of 30 | T_time: 00:01:32, T_speed: 4.335\n",
      "[Epoch 3360] T_loss: 0.01057, V_loss: 0.47531, Early stopping counter: 19 out of 30 | T_time: 00:01:33, T_speed: 5.189\n",
      "[Epoch 3390] T_loss: 0.01088, V_loss: 0.48064, Early stopping counter: 20 out of 30 | T_time: 00:01:34, T_speed: 7.909\n",
      "[Epoch 3420] T_loss: 0.01062, V_loss: 0.49196, Early stopping counter: 21 out of 30 | T_time: 00:01:35, T_speed: 11.014\n",
      "[Epoch 3450] T_loss: 0.01057, V_loss: 0.49211, Early stopping counter: 22 out of 30 | T_time: 00:01:36, T_speed: 37.759\n",
      "[Epoch 3480] T_loss: 0.01047, V_loss: 0.49735, Early stopping counter: 23 out of 30 | T_time: 00:01:36, T_speed: 3.579\n",
      "[Epoch 3510] T_loss: 0.01054, V_loss: 0.49907, Early stopping counter: 24 out of 30 | T_time: 00:01:37, T_speed: 4.655\n",
      "[Epoch 3540] T_loss: 0.01057, V_loss: 0.50543, Early stopping counter: 25 out of 30 | T_time: 00:01:38, T_speed: 5.579\n",
      "[Epoch 3570] T_loss: 0.01061, V_loss: 0.50795, Early stopping counter: 26 out of 30 | T_time: 00:01:39, T_speed: 8.613\n",
      "[Epoch 3600] T_loss: 0.01044, V_loss: 0.51253, Early stopping counter: 27 out of 30 | T_time: 00:01:40, T_speed: 12.237\n",
      "[Epoch 3630] T_loss: 0.01068, V_loss: 0.51738, Early stopping counter: 28 out of 30 | T_time: 00:01:41, T_speed: 47.878\n",
      "[Epoch 3660] T_loss: 0.01040, V_loss: 0.51970, Early stopping counter: 29 out of 30 | T_time: 00:01:41, T_speed: 4.274\n",
      "[Epoch 3690] T_loss: 0.01034, V_loss: 0.52320, Early stopping counter: 30 out of 30 *** TRAIN EARLY STOPPED! *** | T_time: 00:01:42, T_speed: 4.985\n",
      "Final training time: 00:01:42\n"
     ]
    },
    {
     "data": {
      "text/html": [
       "<style>\n",
       "    table.wandb td:nth-child(1) { padding: 0 10px; text-align: left ; width: auto;} td:nth-child(2) {text-align: left ; width: 100%}\n",
       "    .wandb-row { display: flex; flex-direction: row; flex-wrap: wrap; justify-content: flex-start; width: 100% }\n",
       "    .wandb-col { display: flex; flex-direction: column; flex-basis: 100%; flex: 1; padding: 10px; }\n",
       "    </style>\n",
       "<div class=\"wandb-row\"><div class=\"wandb-col\"><h3>Run history:</h3><br/><table class=\"wandb\"><tr><td>Epoch</td><td>▁▁▁▂▂▂▂▂▂▂▂▂▃▃▃▃▃▃▃▄▄▄▄▅▅▅▅▅▆▆▆▆▆▆▇▇▇▇██</td></tr><tr><td>Training loss</td><td>█▅▁▁▁▁▁▁▁▁▁▁▁▁▁▁▁▁▁▁▁▁▁▁▁▁▁▁▁▁▁▁▁▁▁▁▁▁▁▁</td></tr><tr><td>Training speed (epochs/sec.)</td><td>▁▁▁▁▁▁▁▁█▁▁▁▂▂▂▂▂▂▃▇▃▃█▂▅▂▃▂▃▅▄▃▂▃▅▂▃▄▅▃</td></tr><tr><td>Validation loss</td><td>█▅▃▂▂▂▂▂▂▂▂▂▁▁▁▁▁▁▁▁▁▁▁▁▁▁▁▁▁▁▁▁▁▁▁▁▁▁▁▁</td></tr></table><br/></div><div class=\"wandb-col\"><h3>Run summary:</h3><br/><table class=\"wandb\"><tr><td>Epoch</td><td>3690</td></tr><tr><td>Training loss</td><td>0.01034</td></tr><tr><td>Training speed (epochs/sec.)</td><td>4.98501</td></tr><tr><td>Validation loss</td><td>0.5232</td></tr></table><br/></div></div>"
      ],
      "text/plain": [
       "<IPython.core.display.HTML object>"
      ]
     },
     "metadata": {},
     "output_type": "display_data"
    },
    {
     "data": {
      "text/html": [
       " View run <strong style=\"color:#cdcd00\">2024-12-17_16-58-03</strong> at: <a href='https://wandb.ai/cudje-cudje/lstm_regression_btc_krw/runs/0m83px3q' target=\"_blank\">https://wandb.ai/cudje-cudje/lstm_regression_btc_krw/runs/0m83px3q</a><br/> View project at: <a href='https://wandb.ai/cudje-cudje/lstm_regression_btc_krw' target=\"_blank\">https://wandb.ai/cudje-cudje/lstm_regression_btc_krw</a><br/>Synced 5 W&B file(s), 0 media file(s), 0 artifact file(s) and 0 other file(s)"
      ],
      "text/plain": [
       "<IPython.core.display.HTML object>"
      ]
     },
     "metadata": {},
     "output_type": "display_data"
    },
    {
     "data": {
      "text/html": [
       "Find logs at: <code>./wandb/run-20241217_165804-0m83px3q/logs</code>"
      ],
      "text/plain": [
       "<IPython.core.display.HTML object>"
      ]
     },
     "metadata": {},
     "output_type": "display_data"
    }
   ],
   "source": [
    "def get_model():\n",
    "  class MyModel(nn.Module):\n",
    "    def __init__(self, n_input, n_output):\n",
    "      super().__init__()\n",
    "\n",
    "      self.lstm = nn.LSTM(input_size=n_input, hidden_size=128, num_layers=2, batch_first=True)\n",
    "      self.fcn = nn.Linear(in_features=128, out_features=n_output)\n",
    "\n",
    "    def forward(self, x):\n",
    "      x, hidden = self.lstm(x)\n",
    "      x = x[:, -1, :]  # x.shape: [32, 128]\n",
    "      x = self.fcn(x)\n",
    "      return x\n",
    "\n",
    "  my_model = MyModel(n_input=5, n_output=1)\n",
    "\n",
    "  return my_model\n",
    "\n",
    "\n",
    "def main(args):\n",
    "  run_time_str = datetime.now().astimezone().strftime('%Y-%m-%d_%H-%M-%S')\n",
    "\n",
    "  config = {\n",
    "    'epochs': args.epochs,\n",
    "    'batch_size': args.batch_size,\n",
    "    'validation_intervals': args.validation_intervals,\n",
    "    'learning_rate': args.learning_rate,\n",
    "    'early_stop_patience': args.early_stop_patience,\n",
    "    'early_stop_delta': args.early_stop_delta,\n",
    "    'weight_decay': args.weight_decay\n",
    "  }\n",
    "\n",
    "  project_name = \"lstm_regression_btc_krw\"\n",
    "  wandb.init(\n",
    "    mode=\"online\" if args.wandb else \"disabled\",\n",
    "    project=project_name,\n",
    "    notes=\"btc_krw experiment with lstm\",\n",
    "    tags=[\"lstm\", \"regression\", \"btc_krw\"],\n",
    "    name=run_time_str,\n",
    "    config=config\n",
    "  )\n",
    "  print(args)\n",
    "  print(wandb.config)\n",
    "\n",
    "  train_data_loader, validation_data_loader, _ = get_btc_krw_data()\n",
    "  device = torch.device(\"cuda:0\" if torch.cuda.is_available() else \"cpu\")\n",
    "  print(f\"Training on device {device}.\")\n",
    "\n",
    "  model = get_model()\n",
    "  model.to(device)\n",
    "\n",
    "  optimizer = optim.Adam(model.parameters(), lr=wandb.config.learning_rate, weight_decay=wandb.config.weight_decay)\n",
    "\n",
    "  regression_trainer = RegressionTrainer(\n",
    "    project_name, model, optimizer, train_data_loader, validation_data_loader, None,\n",
    "    run_time_str, wandb, device, CHECKPOINT_FILE_PATH\n",
    "  )\n",
    "  regression_trainer.train_loop()\n",
    "\n",
    "  wandb.finish()\n",
    "\n",
    "\n",
    "if __name__ == \"__main__\":\n",
    "  parser = get_parser()\n",
    "  args = parser.parse_args(args=[])\n",
    "  main(args)\n",
    "\n",
    "  # python _01_code/_11_lstm_and_its_application/f_crypto_currency_regression_train_lstm.py --wandb\n"
   ]
  },
  {
   "cell_type": "markdown",
   "metadata": {},
   "source": [
    "_01_code/_15_lstm_and_its_application/h_crypto_currency_regression_test_lstm.py"
   ]
  },
  {
   "cell_type": "code",
   "execution_count": 4,
   "metadata": {},
   "outputs": [
    {
     "name": "stdout",
     "output_type": "stream",
     "text": [
      "MODEL FILE: ./_01_code/_15_lstm_and_its_application/checkpoints/lstm_regression_btc_krw_checkpoint_latest.pt\n"
     ]
    },
    {
     "name": "stderr",
     "output_type": "stream",
     "text": [
      "/tmp/ipykernel_194393/3869782121.py:97: FutureWarning: You are using `torch.load` with `weights_only=False` (the current default value), which uses the default pickle module implicitly. It is possible to construct malicious pickle data which will execute arbitrary code during unpickling (See https://github.com/pytorch/pytorch/blob/main/SECURITY.md#untrusted-models for more details). In a future release, the default value for `weights_only` will be flipped to `True`. This limits the functions that could be executed during unpickling. Arbitrary objects will no longer be allowed to be loaded via this mode unless they are explicitly allowlisted by the user via `torch.serialization.add_safe_globals`. We recommend you start setting `weights_only=True` for any use case where you don't have full control of the loaded file. Please open an issue on GitHub for any issues related to this experimental feature.\n",
      "  test_model.load_state_dict(torch.load(latest_file_path, map_location=torch.device('cpu')))\n"
     ]
    },
    {
     "name": "stdout",
     "output_type": "stream",
     "text": [
      "[TEST DATA]\n",
      " 0: 1,090.51 <--> 1,390.43 (Loss:        299.92)\n",
      " 1: 1,087.46 <--> 1,319.45 (Loss:        231.99)\n",
      " 2: 1,097.67 <--> 1,378.05 (Loss:        280.38)\n",
      " 3: 1,094.06 <--> 1,373.29 (Loss:        279.23)\n",
      " 4: 1,089.19 <--> 1,380.87 (Loss:        291.68)\n",
      " 5: 1,094.37 <--> 1,331.62 (Loss:        237.25)\n",
      " 6: 1,098.03 <--> 1,284.38 (Loss:        186.35)\n",
      " 7: 1,095.79 <--> 1,360.09 (Loss:        264.31)\n",
      " 8: 1,094.43 <--> 1,334.58 (Loss:        240.15)\n",
      " 9: 1,099.67 <--> 1,302.60 (Loss:        202.94)\n"
     ]
    },
    {
     "data": {
      "image/png": "[encoded data removed]",
      "text/plain": [
       "<Figure size 600x900 with 3 Axes>"
      ]
     },
     "metadata": {},
     "output_type": "display_data"
    }
   ],
   "source": [
    "def testReg(test_model):\n",
    "  _, _, test_data_loader = get_btc_krw_data()\n",
    "\n",
    "  test_model.eval()\n",
    "\n",
    "  y_normalizer = 100\n",
    "\n",
    "  print(\"[TEST DATA]\")\n",
    "  with torch.no_grad():\n",
    "    for test_batch in test_data_loader:\n",
    "      input_test, target_test = test_batch\n",
    "\n",
    "      output_test = test_model(input_test)\n",
    "\n",
    "    for idx, (output, target) in enumerate(zip(output_test, target_test)):\n",
    "      print(\"{0:2}: {1:6,.2f} <--> {2:6,.2f} (Loss: {3:>13,.2f})\".format(\n",
    "        idx,\n",
    "        output.item() * y_normalizer,\n",
    "        target.item() * y_normalizer,\n",
    "        abs(output.squeeze(dim=-1).item() - target.item()) * y_normalizer\n",
    "      ))\n",
    "\n",
    "\n",
    "def predict_all(test_model):\n",
    "  y_normalizer = 100\n",
    "\n",
    "  X_train, X_validation, X_test, y_train, y_validation, y_test, y_train_date, y_validation_date, y_test_date \\\n",
    "    = get_cryptocurrency_data(\n",
    "      sequence_size=10, validation_size=100, test_size=10,\n",
    "      target_column='Close', y_normalizer=1.0e7, is_regression=True\n",
    "  )\n",
    "\n",
    "  train_crypto_currency_dataset = CryptoCurrencyDataset(X=X_train, y=y_train)\n",
    "  validation_crypto_currency_dataset = CryptoCurrencyDataset(X=X_validation, y=y_validation)\n",
    "  test_crypto_currency_dataset = CryptoCurrencyDataset(X=X_test, y=y_test)\n",
    "\n",
    "  dataset_list = [\n",
    "    train_crypto_currency_dataset, validation_crypto_currency_dataset, test_crypto_currency_dataset\n",
    "  ]\n",
    "  dataset_labels = [\n",
    "    \"train\", \"validation\", \"test\"\n",
    "  ]\n",
    "  num = 0\n",
    "  fig, axs = plt.subplots(3, 1, figsize=(6, 9))\n",
    "\n",
    "  for i in range(3):\n",
    "    X = []\n",
    "    TARGET_Y = []\n",
    "    PREDICTION_Y = []\n",
    "    for data in dataset_list[i]:\n",
    "      input, target = data\n",
    "      prediction = test_model(input.unsqueeze(0)).squeeze(-1).squeeze(-1)\n",
    "\n",
    "      X.append(num)\n",
    "      TARGET_Y.append(target.item() * y_normalizer)\n",
    "      PREDICTION_Y.append(prediction.item() * y_normalizer)\n",
    "\n",
    "      num += 1\n",
    "\n",
    "    axs[i].plot(X, TARGET_Y, label='target')\n",
    "    axs[i].plot(X, PREDICTION_Y, label='prediction')\n",
    "    axs[i].set_title(dataset_labels[i])\n",
    "    axs[i].legend()\n",
    "\n",
    "  plt.tight_layout()\n",
    "  plt.show()\n",
    "\n",
    "def main(args):\n",
    "  run_time_str = datetime.now().astimezone().strftime('%Y-%m-%d_%H-%M-%S')\n",
    "\n",
    "  config = {\n",
    "    'epochs': args.epochs,\n",
    "    'batch_size': args.batch_size,\n",
    "    'validation_intervals': args.validation_intervals,\n",
    "    'learning_rate': args.learning_rate,\n",
    "    'early_stop_patience': args.early_stop_patience,\n",
    "    'early_stop_delta': args.early_stop_delta,\n",
    "  }\n",
    "\n",
    "  project_name = \"lstm_regression_btc_krw\"\n",
    "  wandb.init(\n",
    "    mode=\"disabled\",\n",
    "    project=project_name,\n",
    "    notes=\"btc_krw experiment with lstm\",\n",
    "    tags=[\"lstm\", \"regression\", \"btc_krw\"],\n",
    "    name=run_time_str,\n",
    "    config=config\n",
    "  )\n",
    "\n",
    "  test_model = get_model()\n",
    "\n",
    "  project_name = \"lstm_regression_btc_krw\"\n",
    "  latest_file_path = os.path.join(\n",
    "    CHECKPOINT_FILE_PATH, f\"{project_name}_checkpoint_latest.pt\"\n",
    "  )\n",
    "  print(\"MODEL FILE: {0}\".format(latest_file_path))\n",
    "  test_model.load_state_dict(torch.load(latest_file_path, map_location=torch.device('cpu')))\n",
    "\n",
    "  testReg(test_model)\n",
    "  predict_all(test_model)\n",
    "\n",
    "\n",
    "if __name__ == \"__main__\":\n",
    "  parser = get_parser()\n",
    "  args = parser.parse_args(args=[])\n",
    "  main(args)\n"
   ]
  },
  {
   "cell_type": "markdown",
   "metadata": {},
   "source": [
    "_01_code/_15_lstm_and_its_application/i_crypto_currency_classification_train_lstm.py"
   ]
  },
  {
   "cell_type": "code",
   "execution_count": 5,
   "metadata": {},
   "outputs": [
    {
     "data": {
      "text/html": [
       "Tracking run with wandb version 0.18.2"
      ],
      "text/plain": [
       "<IPython.core.display.HTML object>"
      ]
     },
     "metadata": {},
     "output_type": "display_data"
    },
    {
     "data": {
      "text/html": [
       "Run data is saved locally in <code>/home/cuj/Python/deeplearning_hw4/wandb/run-20241217_165953-g1825wfh</code>"
      ],
      "text/plain": [
       "<IPython.core.display.HTML object>"
      ]
     },
     "metadata": {},
     "output_type": "display_data"
    },
    {
     "data": {
      "text/html": [
       "Syncing run <strong><a href='https://wandb.ai/cudje-cudje/lstm_classification_btc_krw/runs/g1825wfh' target=\"_blank\">2024-12-17_16-59-53</a></strong> to <a href='https://wandb.ai/cudje-cudje/lstm_classification_btc_krw' target=\"_blank\">Weights & Biases</a> (<a href='https://wandb.me/run' target=\"_blank\">docs</a>)<br/>"
      ],
      "text/plain": [
       "<IPython.core.display.HTML object>"
      ]
     },
     "metadata": {},
     "output_type": "display_data"
    },
    {
     "data": {
      "text/html": [
       " View project at <a href='https://wandb.ai/cudje-cudje/lstm_classification_btc_krw' target=\"_blank\">https://wandb.ai/cudje-cudje/lstm_classification_btc_krw</a>"
      ],
      "text/plain": [
       "<IPython.core.display.HTML object>"
      ]
     },
     "metadata": {},
     "output_type": "display_data"
    },
    {
     "data": {
      "text/html": [
       " View run at <a href='https://wandb.ai/cudje-cudje/lstm_classification_btc_krw/runs/g1825wfh' target=\"_blank\">https://wandb.ai/cudje-cudje/lstm_classification_btc_krw/runs/g1825wfh</a>"
      ],
      "text/plain": [
       "<IPython.core.display.HTML object>"
      ]
     },
     "metadata": {},
     "output_type": "display_data"
    },
    {
     "name": "stdout",
     "output_type": "stream",
     "text": [
      "Namespace(wandb=True, batch_size=2048, epochs=10000, learning_rate=0.0001, weight_decay=0.0, validation_intervals=30, early_stop_patience=30, early_stop_delta=1e-06)\n",
      "{'epochs': 10000, 'batch_size': 2048, 'validation_intervals': 30, 'learning_rate': 0.0001, 'early_stop_patience': 30, 'early_stop_delta': 1e-06, 'weight_decay': 0.0}\n",
      "Training on device cuda:0.\n",
      "[Epoch   1] T_loss: 0.69183, T_accuracy: 52.7993 | V_loss: 0.69036, V_accuracy: 56.0000 | Early stopping is stated! | T_time: 00:00:00, T_speed: 0.000\n",
      "[Epoch  30] T_loss: 0.69055, T_accuracy: 53.1874 | V_loss: 0.69764, V_accuracy: 44.0000 | Early stopping counter: 1 out of 30 | T_time: 00:00:00, T_speed: 0.000\n",
      "[Epoch  60] T_loss: 0.69080, T_accuracy: 53.1042 | V_loss: 0.69819, V_accuracy: 44.0000 | Early stopping counter: 2 out of 30 | T_time: 00:00:01, T_speed: 60.000\n",
      "[Epoch  90] T_loss: 0.69063, T_accuracy: 53.1042 | V_loss: 0.69780, V_accuracy: 44.0000 | Early stopping counter: 3 out of 30 | T_time: 00:00:02, T_speed: 45.000\n",
      "[Epoch 120] T_loss: 0.69068, T_accuracy: 53.0765 | V_loss: 0.69845, V_accuracy: 44.0000 | Early stopping counter: 4 out of 30 | T_time: 00:00:03, T_speed: 40.000\n",
      "[Epoch 150] T_loss: 0.69082, T_accuracy: 53.0211 | V_loss: 0.69940, V_accuracy: 44.0000 | Early stopping counter: 5 out of 30 | T_time: 00:00:04, T_speed: 37.500\n",
      "[Epoch 180] T_loss: 0.69051, T_accuracy: 53.1596 | V_loss: 0.69796, V_accuracy: 44.0000 | Early stopping counter: 6 out of 30 | T_time: 00:00:05, T_speed: 36.000\n",
      "[Epoch 210] T_loss: 0.69061, T_accuracy: 53.0211 | V_loss: 0.69902, V_accuracy: 44.0000 | Early stopping counter: 7 out of 30 | T_time: 00:00:06, T_speed: 35.000\n",
      "[Epoch 240] T_loss: 0.69056, T_accuracy: 53.1042 | V_loss: 0.69805, V_accuracy: 44.0000 | Early stopping counter: 8 out of 30 | T_time: 00:00:07, T_speed: 34.286\n",
      "[Epoch 270] T_loss: 0.69032, T_accuracy: 53.0765 | V_loss: 0.69975, V_accuracy: 44.0000 | Early stopping counter: 9 out of 30 | T_time: 00:00:08, T_speed: 33.750\n",
      "[Epoch 300] T_loss: 0.69052, T_accuracy: 52.9379 | V_loss: 0.69779, V_accuracy: 44.0000 | Early stopping counter: 10 out of 30 | T_time: 00:00:09, T_speed: 33.333\n",
      "[Epoch 330] T_loss: 0.69053, T_accuracy: 53.2982 | V_loss: 0.69981, V_accuracy: 44.0000 | Early stopping counter: 11 out of 30 | T_time: 00:00:10, T_speed: 33.000\n",
      "[Epoch 360] T_loss: 0.69036, T_accuracy: 53.1596 | V_loss: 0.69873, V_accuracy: 44.0000 | Early stopping counter: 12 out of 30 | T_time: 00:00:11, T_speed: 32.727\n",
      "[Epoch 390] T_loss: 0.69017, T_accuracy: 53.3537 | V_loss: 0.69347, V_accuracy: 57.0000 | Early stopping counter: 13 out of 30 | T_time: 00:00:12, T_speed: 32.500\n",
      "[Epoch 420] T_loss: 0.68956, T_accuracy: 53.1042 | V_loss: 0.67867, V_accuracy: 57.0000 | V_loss decreased (0.69036 --> 0.67867). Saving model... | T_time: 00:00:12, T_speed: 35.000\n",
      "[Epoch 450] T_loss: 0.68944, T_accuracy: 53.2428 | V_loss: 0.67754, V_accuracy: 58.0000 | V_loss decreased (0.67867 --> 0.67754). Saving model... | T_time: 00:00:13, T_speed: 34.615\n",
      "[Epoch 480] T_loss: 0.68871, T_accuracy: 53.4645 | V_loss: 0.67668, V_accuracy: 57.0000 | V_loss decreased (0.67754 --> 0.67668). Saving model... | T_time: 00:00:14, T_speed: 34.286\n",
      "[Epoch 510] T_loss: 0.68859, T_accuracy: 53.7140 | V_loss: 0.68226, V_accuracy: 59.0000 | Early stopping counter: 1 out of 30 | T_time: 00:00:15, T_speed: 34.000\n",
      "[Epoch 540] T_loss: 0.68747, T_accuracy: 53.9357 | V_loss: 0.69319, V_accuracy: 55.0000 | Early stopping counter: 2 out of 30 | T_time: 00:00:16, T_speed: 33.750\n",
      "[Epoch 570] T_loss: 0.68628, T_accuracy: 53.8803 | V_loss: 0.71340, V_accuracy: 60.0000 | Early stopping counter: 3 out of 30 | T_time: 00:00:17, T_speed: 33.529\n",
      "[Epoch 600] T_loss: 0.68451, T_accuracy: 53.9911 | V_loss: 0.74212, V_accuracy: 58.0000 | Early stopping counter: 4 out of 30 | T_time: 00:00:18, T_speed: 33.333\n",
      "[Epoch 630] T_loss: 0.68285, T_accuracy: 54.1020 | V_loss: 0.77465, V_accuracy: 57.0000 | Early stopping counter: 5 out of 30 | T_time: 00:00:19, T_speed: 33.158\n",
      "[Epoch 660] T_loss: 0.68172, T_accuracy: 54.5177 | V_loss: 0.79524, V_accuracy: 55.0000 | Early stopping counter: 6 out of 30 | T_time: 00:00:20, T_speed: 33.000\n",
      "[Epoch 690] T_loss: 0.68036, T_accuracy: 54.7949 | V_loss: 0.83296, V_accuracy: 53.0000 | Early stopping counter: 7 out of 30 | T_time: 00:00:21, T_speed: 32.857\n",
      "[Epoch 720] T_loss: 0.67767, T_accuracy: 55.0721 | V_loss: 0.90034, V_accuracy: 48.0000 | Early stopping counter: 8 out of 30 | T_time: 00:00:22, T_speed: 32.727\n",
      "[Epoch 750] T_loss: 0.67558, T_accuracy: 54.9889 | V_loss: 0.89087, V_accuracy: 55.0000 | Early stopping counter: 9 out of 30 | T_time: 00:00:23, T_speed: 32.609\n",
      "[Epoch 780] T_loss: 0.67152, T_accuracy: 55.4324 | V_loss: 0.90456, V_accuracy: 55.0000 | Early stopping counter: 10 out of 30 | T_time: 00:00:24, T_speed: 32.500\n",
      "[Epoch 810] T_loss: 0.66579, T_accuracy: 56.0421 | V_loss: 0.95916, V_accuracy: 58.0000 | Early stopping counter: 11 out of 30 | T_time: 00:00:25, T_speed: 32.400\n",
      "[Epoch 840] T_loss: 0.66212, T_accuracy: 56.2916 | V_loss: 1.02434, V_accuracy: 57.0000 | Early stopping counter: 12 out of 30 | T_time: 00:00:26, T_speed: 32.308\n",
      "[Epoch 870] T_loss: 0.65600, T_accuracy: 57.0953 | V_loss: 1.10722, V_accuracy: 55.0000 | Early stopping counter: 13 out of 30 | T_time: 00:00:27, T_speed: 32.222\n",
      "[Epoch 900] T_loss: 0.64806, T_accuracy: 57.4834 | V_loss: 1.29615, V_accuracy: 53.0000 | Early stopping counter: 14 out of 30 | T_time: 00:00:28, T_speed: 32.143\n",
      "[Epoch 930] T_loss: 0.64533, T_accuracy: 57.8437 | V_loss: 1.31687, V_accuracy: 54.0000 | Early stopping counter: 15 out of 30 | T_time: 00:00:29, T_speed: 32.069\n",
      "[Epoch 960] T_loss: 0.63882, T_accuracy: 58.6197 | V_loss: 1.41039, V_accuracy: 55.0000 | Early stopping counter: 16 out of 30 | T_time: 00:00:29, T_speed: 33.103\n",
      "[Epoch 990] T_loss: 0.63441, T_accuracy: 58.7029 | V_loss: 1.55789, V_accuracy: 51.0000 | Early stopping counter: 17 out of 30 | T_time: 00:00:30, T_speed: 33.000\n",
      "[Epoch 1020] T_loss: 0.62994, T_accuracy: 58.8969 | V_loss: 1.69541, V_accuracy: 50.0000 | Early stopping counter: 18 out of 30 | T_time: 00:00:31, T_speed: 32.903\n",
      "[Epoch 1050] T_loss: 0.62871, T_accuracy: 59.3681 | V_loss: 1.77480, V_accuracy: 53.0000 | Early stopping counter: 19 out of 30 | T_time: 00:00:32, T_speed: 32.812\n",
      "[Epoch 1080] T_loss: 0.62223, T_accuracy: 59.5067 | V_loss: 1.82613, V_accuracy: 52.0000 | Early stopping counter: 20 out of 30 | T_time: 00:00:33, T_speed: 32.727\n",
      "[Epoch 1110] T_loss: 0.62141, T_accuracy: 59.3404 | V_loss: 1.89711, V_accuracy: 50.0000 | Early stopping counter: 21 out of 30 | T_time: 00:00:34, T_speed: 32.647\n",
      "[Epoch 1140] T_loss: 0.61612, T_accuracy: 59.9778 | V_loss: 2.03577, V_accuracy: 49.0000 | Early stopping counter: 22 out of 30 | T_time: 00:00:35, T_speed: 32.571\n",
      "[Epoch 1170] T_loss: 0.61100, T_accuracy: 60.4213 | V_loss: 2.22948, V_accuracy: 47.0000 | Early stopping counter: 23 out of 30 | T_time: 00:00:36, T_speed: 32.500\n",
      "[Epoch 1200] T_loss: 0.60723, T_accuracy: 60.7539 | V_loss: 2.33424, V_accuracy: 47.0000 | Early stopping counter: 24 out of 30 | T_time: 00:00:37, T_speed: 32.432\n",
      "[Epoch 1230] T_loss: 0.60390, T_accuracy: 60.6153 | V_loss: 2.42970, V_accuracy: 50.0000 | Early stopping counter: 25 out of 30 | T_time: 00:00:38, T_speed: 32.368\n",
      "[Epoch 1260] T_loss: 0.60218, T_accuracy: 61.0033 | V_loss: 2.54681, V_accuracy: 46.0000 | Early stopping counter: 26 out of 30 | T_time: 00:00:39, T_speed: 32.308\n",
      "[Epoch 1290] T_loss: 0.59630, T_accuracy: 61.5299 | V_loss: 2.67582, V_accuracy: 47.0000 | Early stopping counter: 27 out of 30 | T_time: 00:00:40, T_speed: 32.250\n",
      "[Epoch 1320] T_loss: 0.59136, T_accuracy: 61.8348 | V_loss: 2.80026, V_accuracy: 47.0000 | Early stopping counter: 28 out of 30 | T_time: 00:00:41, T_speed: 32.195\n",
      "[Epoch 1350] T_loss: 0.58860, T_accuracy: 61.9457 | V_loss: 2.91532, V_accuracy: 46.0000 | Early stopping counter: 29 out of 30 | T_time: 00:00:42, T_speed: 32.143\n",
      "[Epoch 1380] T_loss: 0.58669, T_accuracy: 62.1120 | V_loss: 2.80157, V_accuracy: 46.0000 | Early stopping counter: 30 out of 30 *** TRAIN EARLY STOPPED! *** | T_time: 00:00:42, T_speed: 32.857\n",
      "Final training time: 00:00:42\n"
     ]
    },
    {
     "data": {
      "text/html": [
       "<style>\n",
       "    table.wandb td:nth-child(1) { padding: 0 10px; text-align: left ; width: auto;} td:nth-child(2) {text-align: left ; width: 100%}\n",
       "    .wandb-row { display: flex; flex-direction: row; flex-wrap: wrap; justify-content: flex-start; width: 100% }\n",
       "    .wandb-col { display: flex; flex-direction: column; flex-basis: 100%; flex: 1; padding: 10px; }\n",
       "    </style>\n",
       "<div class=\"wandb-row\"><div class=\"wandb-col\"><h3>Run history:</h3><br/><table class=\"wandb\"><tr><td>Epoch</td><td>▁▁▁▁▂▂▂▂▂▃▃▃▃▃▃▄▄▄▄▄▄▅▅▅▅▅▆▆▆▆▆▆▇▇▇▇▇███</td></tr><tr><td>Training accuracy (%)</td><td>▁▁▁▁▁▁▁▁▁▁▁▁▁▁▁▂▂▂▂▂▂▃▃▃▄▄▅▅▅▆▆▆▆▆▇▇▇███</td></tr><tr><td>Training loss</td><td>██████████████████▇▇▇▇▇▆▆▆▅▅▄▄▄▃▃▃▂▂▂▂▁▁</td></tr><tr><td>Training speed (epochs/sec.)</td><td>▁▁█▆▆▅▅▅▅▅▅▅▅▅▅▅▅▅▅▅▅▅▅▅▅▅▅▅▅▅▅▅▅▅▅▅▅▅▅▅</td></tr><tr><td>Validation accuracy (%)</td><td>▇▁▁▁▁▁▁▁▁▁▁▁▇█▇█▆█▇▆▅▃▆█▇▆▅▆▄▄▅▅▄▃▂▄▂▂▂▂</td></tr><tr><td>Validation loss</td><td>▁▁▁▁▁▁▁▁▁▁▁▁▁▁▁▁▁▁▁▁▂▂▂▂▂▂▃▃▄▄▅▅▅▅▆▇▇███</td></tr></table><br/></div><div class=\"wandb-col\"><h3>Run summary:</h3><br/><table class=\"wandb\"><tr><td>Epoch</td><td>1380</td></tr><tr><td>Training accuracy (%)</td><td>62.11197</td></tr><tr><td>Training loss</td><td>0.58669</td></tr><tr><td>Training speed (epochs/sec.)</td><td>32.85714</td></tr><tr><td>Validation accuracy (%)</td><td>46</td></tr><tr><td>Validation loss</td><td>2.80157</td></tr></table><br/></div></div>"
      ],
      "text/plain": [
       "<IPython.core.display.HTML object>"
      ]
     },
     "metadata": {},
     "output_type": "display_data"
    },
    {
     "data": {
      "text/html": [
       " View run <strong style=\"color:#cdcd00\">2024-12-17_16-59-53</strong> at: <a href='https://wandb.ai/cudje-cudje/lstm_classification_btc_krw/runs/g1825wfh' target=\"_blank\">https://wandb.ai/cudje-cudje/lstm_classification_btc_krw/runs/g1825wfh</a><br/> View project at: <a href='https://wandb.ai/cudje-cudje/lstm_classification_btc_krw' target=\"_blank\">https://wandb.ai/cudje-cudje/lstm_classification_btc_krw</a><br/>Synced 5 W&B file(s), 0 media file(s), 0 artifact file(s) and 0 other file(s)"
      ],
      "text/plain": [
       "<IPython.core.display.HTML object>"
      ]
     },
     "metadata": {},
     "output_type": "display_data"
    },
    {
     "data": {
      "text/html": [
       "Find logs at: <code>./wandb/run-20241217_165953-g1825wfh/logs</code>"
      ],
      "text/plain": [
       "<IPython.core.display.HTML object>"
      ]
     },
     "metadata": {},
     "output_type": "display_data"
    }
   ],
   "source": [
    "def get_model():\n",
    "  class MyModel(nn.Module):\n",
    "    def __init__(self, n_input, n_output):\n",
    "      super().__init__()\n",
    "\n",
    "      self.lstm = nn.LSTM(input_size=n_input, hidden_size=256, num_layers=3, batch_first=True)\n",
    "      self.fcn = nn.Linear(in_features=256, out_features=n_output)\n",
    "\n",
    "    def forward(self, x):\n",
    "      x, hidden = self.lstm(x)\n",
    "      x = x[:, -1, :]  # x.shape: [32, 128]\n",
    "      x = self.fcn(x)\n",
    "      return x\n",
    "\n",
    "  my_model = MyModel(n_input=5, n_output=2)\n",
    "\n",
    "  return my_model\n",
    "\n",
    "\n",
    "def main(args):\n",
    "  run_time_str = datetime.now().astimezone().strftime('%Y-%m-%d_%H-%M-%S')\n",
    "\n",
    "  config = {\n",
    "    'epochs': args.epochs,\n",
    "    'batch_size': args.batch_size,\n",
    "    'validation_intervals': args.validation_intervals,\n",
    "    'learning_rate': args.learning_rate,\n",
    "    'early_stop_patience': args.early_stop_patience,\n",
    "    'early_stop_delta': args.early_stop_delta,\n",
    "    'weight_decay': args.weight_decay\n",
    "  }\n",
    "\n",
    "  project_name = \"lstm_classification_btc_krw\"\n",
    "  wandb.init(\n",
    "    mode=\"online\" if args.wandb else \"disabled\",\n",
    "    project=project_name,\n",
    "    notes=\"btc_krw experiment with lstm\",\n",
    "    tags=[\"lstm\", \"classification\", \"btc_krw\"],\n",
    "    name=run_time_str,\n",
    "    config=config\n",
    "  )\n",
    "  print(args)\n",
    "  print(wandb.config)\n",
    "\n",
    "  train_data_loader, validation_data_loader, _ = get_btc_krw_data(is_regression=False)\n",
    "  device = torch.device(\"cuda:0\" if torch.cuda.is_available() else \"cpu\")\n",
    "  print(f\"Training on device {device}.\")\n",
    "\n",
    "  model = get_model()\n",
    "  model.to(device)\n",
    "\n",
    "  optimizer = optim.Adam(model.parameters(), lr=wandb.config.learning_rate, weight_decay=wandb.config.weight_decay)\n",
    "\n",
    "  classification_trainer = ClassificationTrainer(\n",
    "    project_name, model, optimizer, train_data_loader, validation_data_loader, None,\n",
    "    run_time_str, wandb, device, CHECKPOINT_FILE_PATH\n",
    "  )\n",
    "  classification_trainer.train_loop()\n",
    "\n",
    "  wandb.finish()\n",
    "\n",
    "\n",
    "if __name__ == \"__main__\":\n",
    "  parser = get_parser()\n",
    "  args = parser.parse_args(args=[])\n",
    "  main(args)\n",
    "  # python _01_code/_11_lstm_and_its_application/i_crypto_currency_classification_train_lstm.py -p 100 -r 0.00001\n"
   ]
  },
  {
   "cell_type": "markdown",
   "metadata": {},
   "source": [
    "_01_code/_15_lstm_and_its_application/j_crypto_currency_classification_test_lstm.py"
   ]
  },
  {
   "cell_type": "code",
   "execution_count": 6,
   "metadata": {},
   "outputs": [
    {
     "name": "stdout",
     "output_type": "stream",
     "text": [
      "MODEL FILE: ./_01_code/_15_lstm_and_its_application/checkpoints/lstm_classification_btc_krw_checkpoint_latest.pt\n"
     ]
    },
    {
     "name": "stderr",
     "output_type": "stream",
     "text": [
      "/tmp/ipykernel_194393/1144575016.py:59: FutureWarning: You are using `torch.load` with `weights_only=False` (the current default value), which uses the default pickle module implicitly. It is possible to construct malicious pickle data which will execute arbitrary code during unpickling (See https://github.com/pytorch/pytorch/blob/main/SECURITY.md#untrusted-models for more details). In a future release, the default value for `weights_only` will be flipped to `True`. This limits the functions that could be executed during unpickling. Arbitrary objects will no longer be allowed to be loaded via this mode unless they are explicitly allowlisted by the user via `torch.serialization.add_safe_globals`. We recommend you start setting `weights_only=True` for any use case where you don't have full control of the loaded file. Please open an issue on GitHub for any issues related to this experimental feature.\n",
      "  test_model.load_state_dict(torch.load(latest_file_path, map_location=torch.device('cpu')))\n"
     ]
    },
    {
     "name": "stdout",
     "output_type": "stream",
     "text": [
      "[TEST DATA]\n",
      "TEST RESULTS: 60.000%\n",
      " 0:   0.00 <-->   0.00\n",
      " 1:   0.00 <-->   0.00\n",
      " 2:   0.00 <-->   1.00\n",
      " 3:   0.00 <-->   0.00\n",
      " 4:   0.00 <-->   1.00\n",
      " 5:   1.00 <-->   1.00\n",
      " 6:   0.00 <-->   0.00\n",
      " 7:   0.00 <-->   1.00\n",
      " 8:   0.00 <-->   1.00\n",
      " 9:   1.00 <-->   1.00\n"
     ]
    }
   ],
   "source": [
    "def test(test_model):\n",
    "  _, _, test_data_loader = get_btc_krw_data(is_regression=False)\n",
    "\n",
    "  test_model.eval()\n",
    "\n",
    "  num_corrects_test = 0\n",
    "  num_tested_samples = 0\n",
    "\n",
    "  print(\"[TEST DATA]\")\n",
    "  with torch.no_grad():\n",
    "    for test_batch in test_data_loader:\n",
    "      input_test, target_test = test_batch\n",
    "\n",
    "      output_test = test_model(input_test)\n",
    "\n",
    "      predicted_test = torch.argmax(output_test, dim=1)\n",
    "      num_corrects_test += torch.sum(torch.eq(predicted_test, target_test))\n",
    "\n",
    "      num_tested_samples += len(input_test)\n",
    "\n",
    "    test_accuracy = 100.0 * num_corrects_test / num_tested_samples\n",
    "\n",
    "    print(f\"TEST RESULTS: {test_accuracy:6.3f}%\")\n",
    "\n",
    "    for idx, (output, target) in enumerate(zip(output_test, target_test)):\n",
    "      print(\"{0:2}: {1:6,.2f} <--> {2:6,.2f}\".format(\n",
    "        idx, torch.argmax(output).item(), target.item()\n",
    "      ))\n",
    "\n",
    "\n",
    "def main(args):\n",
    "  run_time_str = datetime.now().astimezone().strftime('%Y-%m-%d_%H-%M-%S')\n",
    "\n",
    "  config = {\n",
    "    'epochs': args.epochs,\n",
    "    'batch_size': args.batch_size,\n",
    "    'validation_intervals': args.validation_intervals,\n",
    "    'learning_rate': args.learning_rate,\n",
    "    'early_stop_patience': args.early_stop_patience,\n",
    "    'early_stop_delta': args.early_stop_delta,\n",
    "  }\n",
    "\n",
    "  project_name = \"lstm_classification_btc_krw\"\n",
    "  wandb.init(\n",
    "    mode=\"disabled\",\n",
    "    project=project_name,\n",
    "    notes=\"btc_krw experiment with lstm\",\n",
    "    tags=[\"lstm\", \"regression\", \"btc_krw\"],\n",
    "    name=run_time_str,\n",
    "    config=config\n",
    "  )\n",
    "\n",
    "  test_model = get_model()\n",
    "\n",
    "  latest_file_path = os.path.join(\n",
    "    CHECKPOINT_FILE_PATH, f\"{project_name}_checkpoint_latest.pt\"\n",
    "  )\n",
    "  print(\"MODEL FILE: {0}\".format(latest_file_path))\n",
    "  test_model.load_state_dict(torch.load(latest_file_path, map_location=torch.device('cpu')))\n",
    "\n",
    "  test(test_model)\n",
    "\n",
    "\n",
    "if __name__ == \"__main__\":\n",
    "  parser = get_parser()\n",
    "  args = parser.parse_args(args=[])\n",
    "  main(args)\n"
   ]
  },
  {
   "cell_type": "markdown",
   "metadata": {},
   "source": [
    "## 문제2\n",
    "##### 적절한 새로운 모델 구성 및 하이퍼파라미터 찾기\n",
    "학습 데이터 관련 설정 값 고정"
   ]
  },
  {
   "cell_type": "code",
   "execution_count": 7,
   "metadata": {},
   "outputs": [],
   "source": [
    "parser = get_parser()\n",
    "args = parser.parse_args(args=[])\n",
    "args.epochs = 10_000\n",
    "args.batch_size = 256\n",
    "args.validation_intervals = 30\n",
    "args.learning_rate = 1e-4\n",
    "args.early_stop_patience = 20\n",
    "args.early_stop_delta = 0.000001\n",
    "args.weight_decay = 0.0\n",
    "\n",
    "config = {\n",
    "'epochs': args.epochs,\n",
    "'batch_size': args.batch_size,\n",
    "'validation_intervals': args.validation_intervals,\n",
    "'learning_rate': args.learning_rate,\n",
    "'early_stop_patience': args.early_stop_patience,\n",
    "'early_stop_delta': args.early_stop_delta,\n",
    "'weight_decay': args.weight_decay\n",
    "}\n",
    "\n",
    "train_data_loader, validation_data_loader, test_data_loader = get_btc_krw_data(sequence_size=21, validation_size=150, test_size=30, is_regression=True, config=config)\n",
    "btrain_data_loader, bvalidation_data_loader, btest_data_loader = get_btc_krw_data(sequence_size=21, validation_size=150, test_size=30, is_regression=False, config=config)"
   ]
  },
  {
   "cell_type": "markdown",
   "metadata": {},
   "source": [
    "### 가장 학습이 잘 되는 모델 구성 및 하이퍼파라미터 값을 찾아 제시\n",
    "\n",
    "##### 파라미터 변경 값 제시\n",
    "MyModel = layer 수를 2개에서 6개로 증가\\\n",
    "lstm에 dropout을 적용(0.05)\\\n",
    "linear layer 이전 activate func 및 BatchNorm 계산을 추가하였음\\\n",
    "batch_size를 1024에서 512로 감소\\\n",
    "early stopping counter를 30에서 20으로 감소"
   ]
  },
  {
   "cell_type": "code",
   "execution_count": 8,
   "metadata": {},
   "outputs": [],
   "source": [
    "def get_my_model(n_input=5, n_output=1):\n",
    "  class MyModel(nn.Module):\n",
    "    def __init__(self, n_input, n_output):\n",
    "      super().__init__()\n",
    "      \n",
    "      self.lstm1 = nn.LSTM(input_size=n_input, hidden_size=32, num_layers=1, \n",
    "                            batch_first=True, bidirectional=True, dropout=0.4)\n",
    "      self.fc1 = nn.Linear(64, 32)\n",
    "      self.fc2 = nn.Linear(32, n_output)\n",
    "\n",
    "    def forward(self, x):\n",
    "      lstm_out, _ = self.lstm1(x)\n",
    "      x = lstm_out[:, -1, :]\n",
    "      \n",
    "      x = self.fc1(x)\n",
    "      x = self.fc2(x)\n",
    "      return x\n",
    "\n",
    "  my_model = MyModel(n_input=n_input, n_output=n_output)\n",
    "\n",
    "  return my_model"
   ]
  },
  {
   "cell_type": "code",
   "execution_count": 9,
   "metadata": {},
   "outputs": [
    {
     "data": {
      "text/html": [
       "Tracking run with wandb version 0.18.2"
      ],
      "text/plain": [
       "<IPython.core.display.HTML object>"
      ]
     },
     "metadata": {},
     "output_type": "display_data"
    },
    {
     "data": {
      "text/html": [
       "Run data is saved locally in <code>/home/cuj/Python/deeplearning_hw4/wandb/run-20241217_170040-o0fly05j</code>"
      ],
      "text/plain": [
       "<IPython.core.display.HTML object>"
      ]
     },
     "metadata": {},
     "output_type": "display_data"
    },
    {
     "data": {
      "text/html": [
       "Syncing run <strong><a href='https://wandb.ai/cudje-cudje/lstm_regression_btc_krw/runs/o0fly05j' target=\"_blank\">2024-12-17_17-00-40</a></strong> to <a href='https://wandb.ai/cudje-cudje/lstm_regression_btc_krw' target=\"_blank\">Weights & Biases</a> (<a href='https://wandb.me/run' target=\"_blank\">docs</a>)<br/>"
      ],
      "text/plain": [
       "<IPython.core.display.HTML object>"
      ]
     },
     "metadata": {},
     "output_type": "display_data"
    },
    {
     "data": {
      "text/html": [
       " View project at <a href='https://wandb.ai/cudje-cudje/lstm_regression_btc_krw' target=\"_blank\">https://wandb.ai/cudje-cudje/lstm_regression_btc_krw</a>"
      ],
      "text/plain": [
       "<IPython.core.display.HTML object>"
      ]
     },
     "metadata": {},
     "output_type": "display_data"
    },
    {
     "data": {
      "text/html": [
       " View run at <a href='https://wandb.ai/cudje-cudje/lstm_regression_btc_krw/runs/o0fly05j' target=\"_blank\">https://wandb.ai/cudje-cudje/lstm_regression_btc_krw/runs/o0fly05j</a>"
      ],
      "text/plain": [
       "<IPython.core.display.HTML object>"
      ]
     },
     "metadata": {},
     "output_type": "display_data"
    },
    {
     "name": "stderr",
     "output_type": "stream",
     "text": [
      "/home/cuj/Python/environments/lib/python3.10/site-packages/torch/nn/modules/rnn.py:88: UserWarning: dropout option adds dropout after all but last recurrent layer, so non-zero dropout expects num_layers greater than 1, but got dropout=0.4 and num_layers=1\n",
      "  warnings.warn(\"dropout option adds dropout after all but last \"\n"
     ]
    },
    {
     "name": "stdout",
     "output_type": "stream",
     "text": [
      "[Epoch   1] T_loss: 8.69882, V_loss: 69.00441, Early stopping is stated! | T_time: 00:00:00, T_speed: 0.017\n",
      "[Epoch  30] T_loss: 0.37798, V_loss: 6.62672, V_loss decreased (69.00441 --> 6.62672). Saving model... | T_time: 00:00:01, T_speed: 0.065\n",
      "[Epoch  60] T_loss: 0.03238, V_loss: 0.26842, V_loss decreased (6.62672 --> 0.26842). Saving model... | T_time: 00:00:03, T_speed: 1.892\n",
      "[Epoch  90] T_loss: 0.01989, V_loss: 0.13151, V_loss decreased (0.26842 --> 0.13151). Saving model... | T_time: 00:00:04, T_speed: 0.180\n",
      "[Epoch 120] T_loss: 0.01797, V_loss: 0.11012, V_loss decreased (0.13151 --> 0.11012). Saving model... | T_time: 00:00:05, T_speed: 0.125\n",
      "[Epoch 150] T_loss: 0.01689, V_loss: 0.09770, V_loss decreased (0.11012 --> 0.09770). Saving model... | T_time: 00:00:07, T_speed: 0.283\n",
      "[Epoch 180] T_loss: 0.01604, V_loss: 0.08996, V_loss decreased (0.09770 --> 0.08996). Saving model... | T_time: 00:00:09, T_speed: 230.179\n",
      "[Epoch 210] T_loss: 0.01529, V_loss: 0.08467, V_loss decreased (0.08996 --> 0.08467). Saving model... | T_time: 00:00:10, T_speed: 0.451\n",
      "[Epoch 240] T_loss: 0.01478, V_loss: 0.08057, V_loss decreased (0.08467 --> 0.08057). Saving model... | T_time: 00:00:12, T_speed: 10.800\n",
      "[Epoch 270] T_loss: 0.01430, V_loss: 0.07690, V_loss decreased (0.08057 --> 0.07690). Saving model... | T_time: 00:00:13, T_speed: 0.558\n",
      "[Epoch 300] T_loss: 0.01383, V_loss: 0.07391, V_loss decreased (0.07690 --> 0.07391). Saving model... | T_time: 00:00:14, T_speed: 0.316\n",
      "[Epoch 330] T_loss: 0.01348, V_loss: 0.07139, V_loss decreased (0.07391 --> 0.07139). Saving model... | T_time: 00:00:16, T_speed: 0.646\n",
      "[Epoch 360] T_loss: 0.01317, V_loss: 0.06906, V_loss decreased (0.07139 --> 0.06906). Saving model... | T_time: 00:00:17, T_speed: 0.371\n",
      "[Epoch 390] T_loss: 0.01294, V_loss: 0.06735, V_loss decreased (0.06906 --> 0.06735). Saving model... | T_time: 00:00:19, T_speed: 0.890\n",
      "[Epoch 420] T_loss: 0.01258, V_loss: 0.06635, V_loss decreased (0.06735 --> 0.06635). Saving model... | T_time: 00:00:21, T_speed: 356.839\n",
      "[Epoch 450] T_loss: 0.01235, V_loss: 0.06455, V_loss decreased (0.06635 --> 0.06455). Saving model... | T_time: 00:00:22, T_speed: 0.968\n",
      "[Epoch 480] T_loss: 0.01219, V_loss: 0.06291, V_loss decreased (0.06455 --> 0.06291). Saving model... | T_time: 00:00:23, T_speed: 0.520\n",
      "[Epoch 510] T_loss: 0.01196, V_loss: 0.06157, V_loss decreased (0.06291 --> 0.06157). Saving model... | T_time: 00:00:25, T_speed: 1.060\n",
      "[Epoch 540] T_loss: 0.01181, V_loss: 0.06044, V_loss decreased (0.06157 --> 0.06044). Saving model... | T_time: 00:00:26, T_speed: 0.570\n",
      "[Epoch 570] T_loss: 0.01176, V_loss: 0.06560, Early stopping counter: 1 out of 20 | T_time: 00:00:28, T_speed: 1.399\n",
      "[Epoch 600] T_loss: 0.01160, V_loss: 0.05968, V_loss decreased (0.06044 --> 0.05968). Saving model... | T_time: 00:00:29, T_speed: 0.618\n",
      "[Epoch 630] T_loss: 0.01151, V_loss: 0.05889, V_loss decreased (0.05968 --> 0.05889). Saving model... | T_time: 00:00:31, T_speed: 1.444\n",
      "[Epoch 660] T_loss: 0.01123, V_loss: 0.05878, V_loss decreased (0.05889 --> 0.05878). Saving model... | T_time: 00:00:32, T_speed: 0.724\n",
      "[Epoch 690] T_loss: 0.01117, V_loss: 0.05603, V_loss decreased (0.05878 --> 0.05603). Saving model... | T_time: 00:00:34, T_speed: 1.462\n",
      "[Epoch 720] T_loss: 0.01119, V_loss: 0.05879, Early stopping counter: 1 out of 20 | T_time: 00:00:35, T_speed: 0.774\n",
      "[Epoch 750] T_loss: 0.01139, V_loss: 0.05641, Early stopping counter: 2 out of 20 | T_time: 00:00:37, T_speed: 1.929\n",
      "[Epoch 780] T_loss: 0.01099, V_loss: 0.05487, V_loss decreased (0.05603 --> 0.05487). Saving model... | T_time: 00:00:38, T_speed: 0.828\n",
      "[Epoch 810] T_loss: 0.01084, V_loss: 0.05467, V_loss decreased (0.05487 --> 0.05467). Saving model... | T_time: 00:00:40, T_speed: 1.903\n",
      "[Epoch 840] T_loss: 0.01069, V_loss: 0.05354, V_loss decreased (0.05467 --> 0.05354). Saving model... | T_time: 00:00:41, T_speed: 0.934\n",
      "[Epoch 870] T_loss: 0.01107, V_loss: 0.05472, Early stopping counter: 1 out of 20 | T_time: 00:00:43, T_speed: 1.876\n",
      "[Epoch 900] T_loss: 0.01057, V_loss: 0.05288, V_loss decreased (0.05354 --> 0.05288). Saving model... | T_time: 00:00:44, T_speed: 0.971\n",
      "[Epoch 930] T_loss: 0.01059, V_loss: 0.05479, Early stopping counter: 1 out of 20 | T_time: 00:00:46, T_speed: 2.437\n",
      "[Epoch 960] T_loss: 0.01075, V_loss: 0.05676, Early stopping counter: 2 out of 20 | T_time: 00:00:47, T_speed: 1.018\n",
      "[Epoch 990] T_loss: 0.01057, V_loss: 0.05584, Early stopping counter: 3 out of 20 | T_time: 00:00:49, T_speed: 2.472\n",
      "[Epoch 1020] T_loss: 0.01045, V_loss: 0.05207, V_loss decreased (0.05288 --> 0.05207). Saving model... | T_time: 00:00:50, T_speed: 1.189\n",
      "[Epoch 1050] T_loss: 0.01051, V_loss: 0.05169, V_loss decreased (0.05207 --> 0.05169). Saving model... | T_time: 00:00:52, T_speed: 2.419\n",
      "[Epoch 1080] T_loss: 0.01046, V_loss: 0.05111, V_loss decreased (0.05169 --> 0.05111). Saving model... | T_time: 00:00:53, T_speed: 1.204\n",
      "[Epoch 1110] T_loss: 0.01029, V_loss: 0.05140, Early stopping counter: 1 out of 20 | T_time: 00:00:55, T_speed: 3.107\n",
      "[Epoch 1140] T_loss: 0.01028, V_loss: 0.05395, Early stopping counter: 2 out of 20 | T_time: 00:00:56, T_speed: 1.241\n",
      "[Epoch 1170] T_loss: 0.01019, V_loss: 0.05142, Early stopping counter: 3 out of 20 | T_time: 00:00:58, T_speed: 3.079\n",
      "[Epoch 1200] T_loss: 0.01037, V_loss: 0.05231, Early stopping counter: 4 out of 20 | T_time: 00:00:59, T_speed: 1.426\n",
      "[Epoch 1230] T_loss: 0.01022, V_loss: 0.05083, V_loss decreased (0.05111 --> 0.05083). Saving model... | T_time: 00:01:01, T_speed: 3.047\n",
      "[Epoch 1260] T_loss: 0.01038, V_loss: 0.05079, V_loss decreased (0.05083 --> 0.05079). Saving model... | T_time: 00:01:02, T_speed: 1.453\n",
      "[Epoch 1290] T_loss: 0.01012, V_loss: 0.05287, Early stopping counter: 1 out of 20 | T_time: 00:01:04, T_speed: 3.881\n",
      "[Epoch 1320] T_loss: 0.01026, V_loss: 0.05234, Early stopping counter: 2 out of 20 | T_time: 00:01:05, T_speed: 1.479\n",
      "[Epoch 1350] T_loss: 0.01012, V_loss: 0.05001, V_loss decreased (0.05079 --> 0.05001). Saving model... | T_time: 00:01:07, T_speed: 3.822\n",
      "[Epoch 1380] T_loss: 0.01007, V_loss: 0.05073, Early stopping counter: 1 out of 20 | T_time: 00:01:08, T_speed: 1.682\n",
      "[Epoch 1410] T_loss: 0.01009, V_loss: 0.05122, Early stopping counter: 2 out of 20 | T_time: 00:01:10, T_speed: 3.676\n",
      "[Epoch 1440] T_loss: 0.01024, V_loss: 0.05002, Early stopping counter: 3 out of 20 | T_time: 00:01:11, T_speed: 1.701\n",
      "[Epoch 1470] T_loss: 0.00999, V_loss: 0.05162, Early stopping counter: 4 out of 20 | T_time: 00:01:13, T_speed: 3.590\n",
      "[Epoch 1500] T_loss: 0.01001, V_loss: 0.05096, Early stopping counter: 5 out of 20 | T_time: 00:01:14, T_speed: 1.715\n",
      "[Epoch 1530] T_loss: 0.00994, V_loss: 0.05020, Early stopping counter: 6 out of 20 | T_time: 00:01:16, T_speed: 4.482\n",
      "[Epoch 1560] T_loss: 0.01009, V_loss: 0.05098, Early stopping counter: 7 out of 20 | T_time: 00:01:17, T_speed: 1.720\n",
      "[Epoch 1590] T_loss: 0.00991, V_loss: 0.05052, Early stopping counter: 8 out of 20 | T_time: 00:01:19, T_speed: 4.241\n",
      "[Epoch 1620] T_loss: 0.00993, V_loss: 0.05483, Early stopping counter: 9 out of 20 | T_time: 00:01:20, T_speed: 1.916\n",
      "[Epoch 1650] T_loss: 0.00989, V_loss: 0.05220, Early stopping counter: 10 out of 20 | T_time: 00:01:22, T_speed: 3.999\n",
      "[Epoch 1680] T_loss: 0.00988, V_loss: 0.05253, Early stopping counter: 11 out of 20 | T_time: 00:01:23, T_speed: 1.905\n",
      "[Epoch 1710] T_loss: 0.01024, V_loss: 0.05040, Early stopping counter: 12 out of 20 | T_time: 00:01:25, T_speed: 4.924\n",
      "[Epoch 1740] T_loss: 0.00994, V_loss: 0.05238, Early stopping counter: 13 out of 20 | T_time: 00:01:26, T_speed: 1.913\n",
      "[Epoch 1770] T_loss: 0.00991, V_loss: 0.05288, Early stopping counter: 14 out of 20 | T_time: 00:01:28, T_speed: 4.747\n",
      "[Epoch 1800] T_loss: 0.00981, V_loss: 0.05140, Early stopping counter: 15 out of 20 | T_time: 00:01:29, T_speed: 2.165\n",
      "[Epoch 1830] T_loss: 0.00978, V_loss: 0.05136, Early stopping counter: 16 out of 20 | T_time: 00:01:31, T_speed: 4.629\n",
      "[Epoch 1860] T_loss: 0.00981, V_loss: 0.05368, Early stopping counter: 17 out of 20 | T_time: 00:01:32, T_speed: 2.158\n",
      "[Epoch 1890] T_loss: 0.00982, V_loss: 0.05203, Early stopping counter: 18 out of 20 | T_time: 00:01:34, T_speed: 5.726\n",
      "[Epoch 1920] T_loss: 0.00979, V_loss: 0.05097, Early stopping counter: 19 out of 20 | T_time: 00:01:35, T_speed: 2.124\n",
      "[Epoch 1950] T_loss: 0.00991, V_loss: 0.05101, Early stopping counter: 20 out of 20 *** TRAIN EARLY STOPPED! *** | T_time: 00:01:37, T_speed: 5.045\n",
      "Final training time: 00:01:37\n"
     ]
    },
    {
     "data": {
      "text/html": [
       "<style>\n",
       "    table.wandb td:nth-child(1) { padding: 0 10px; text-align: left ; width: auto;} td:nth-child(2) {text-align: left ; width: 100%}\n",
       "    .wandb-row { display: flex; flex-direction: row; flex-wrap: wrap; justify-content: flex-start; width: 100% }\n",
       "    .wandb-col { display: flex; flex-direction: column; flex-basis: 100%; flex: 1; padding: 10px; }\n",
       "    </style>\n",
       "<div class=\"wandb-row\"><div class=\"wandb-col\"><h3>Run history:</h3><br/><table class=\"wandb\"><tr><td>Epoch</td><td>▁▁▁▂▂▂▂▂▃▃▃▄▄▄▄▄▄▅▅▅▅▅▅▅▆▆▆▆▆▆▇▇▇▇▇▇████</td></tr><tr><td>Training loss</td><td>█▁▁▁▁▁▁▁▁▁▁▁▁▁▁▁▁▁▁▁▁▁▁▁▁▁▁▁▁▁▁▁▁▁▁▁▁▁▁▁</td></tr><tr><td>Training speed (epochs/sec.)</td><td>▁▁▁▁▁▁▁▁▁▁█▁▁▁▁▁▁▁▁▁▁▁▁▁▁▁▁▁▁▁▁▁▁▁▁▁▁▁▁▁</td></tr><tr><td>Validation loss</td><td>█▂▁▁▁▁▁▁▁▁▁▁▁▁▁▁▁▁▁▁▁▁▁▁▁▁▁▁▁▁▁▁▁▁▁▁▁▁▁▁</td></tr></table><br/></div><div class=\"wandb-col\"><h3>Run summary:</h3><br/><table class=\"wandb\"><tr><td>Epoch</td><td>1950</td></tr><tr><td>Training loss</td><td>0.00991</td></tr><tr><td>Training speed (epochs/sec.)</td><td>5.04451</td></tr><tr><td>Validation loss</td><td>0.05101</td></tr></table><br/></div></div>"
      ],
      "text/plain": [
       "<IPython.core.display.HTML object>"
      ]
     },
     "metadata": {},
     "output_type": "display_data"
    },
    {
     "data": {
      "text/html": [
       " View run <strong style=\"color:#cdcd00\">2024-12-17_17-00-40</strong> at: <a href='https://wandb.ai/cudje-cudje/lstm_regression_btc_krw/runs/o0fly05j' target=\"_blank\">https://wandb.ai/cudje-cudje/lstm_regression_btc_krw/runs/o0fly05j</a><br/> View project at: <a href='https://wandb.ai/cudje-cudje/lstm_regression_btc_krw' target=\"_blank\">https://wandb.ai/cudje-cudje/lstm_regression_btc_krw</a><br/>Synced 5 W&B file(s), 0 media file(s), 0 artifact file(s) and 0 other file(s)"
      ],
      "text/plain": [
       "<IPython.core.display.HTML object>"
      ]
     },
     "metadata": {},
     "output_type": "display_data"
    },
    {
     "data": {
      "text/html": [
       "Find logs at: <code>./wandb/run-20241217_170040-o0fly05j/logs</code>"
      ],
      "text/plain": [
       "<IPython.core.display.HTML object>"
      ]
     },
     "metadata": {},
     "output_type": "display_data"
    }
   ],
   "source": [
    "run_time_str = datetime.now().astimezone().strftime('%Y-%m-%d_%H-%M-%S')\n",
    "\n",
    "project_name = \"lstm_regression_btc_krw\"\n",
    "wandb.init(\n",
    "  mode=\"online\" if args.wandb else \"disabled\",\n",
    "  project=project_name,\n",
    "  notes=\"btc_krw experiment with lstm\",\n",
    "  tags=[\"lstm\", \"regression\", \"btc_krw\"],\n",
    "  name=run_time_str,\n",
    "  config=config\n",
    ")\n",
    "\n",
    "device = torch.device(\"cuda:0\" if torch.cuda.is_available() else \"cpu\")\n",
    "\n",
    "model = get_my_model(n_input=5, n_output=1)\n",
    "model.to(device)\n",
    "\n",
    "optimizer = optim.Adam(model.parameters(), lr=wandb.config.learning_rate, weight_decay=wandb.config.weight_decay)\n",
    "\n",
    "\n",
    "regression_trainer = RegressionTrainer(\n",
    "  project_name, model, optimizer, train_data_loader, validation_data_loader, None,\n",
    "  run_time_str, wandb, device, CHECKPOINT_FILE_PATH\n",
    ")\n",
    "regression_trainer.train_loop()\n",
    "\n",
    "wandb.finish()"
   ]
  },
  {
   "cell_type": "code",
   "execution_count": 10,
   "metadata": {},
   "outputs": [
    {
     "name": "stderr",
     "output_type": "stream",
     "text": [
      "/home/cuj/Python/environments/lib/python3.10/site-packages/torch/nn/modules/rnn.py:88: UserWarning: dropout option adds dropout after all but last recurrent layer, so non-zero dropout expects num_layers greater than 1, but got dropout=0.4 and num_layers=1\n",
      "  warnings.warn(\"dropout option adds dropout after all but last \"\n",
      "/tmp/ipykernel_194393/1806298228.py:85: FutureWarning: You are using `torch.load` with `weights_only=False` (the current default value), which uses the default pickle module implicitly. It is possible to construct malicious pickle data which will execute arbitrary code during unpickling (See https://github.com/pytorch/pytorch/blob/main/SECURITY.md#untrusted-models for more details). In a future release, the default value for `weights_only` will be flipped to `True`. This limits the functions that could be executed during unpickling. Arbitrary objects will no longer be allowed to be loaded via this mode unless they are explicitly allowlisted by the user via `torch.serialization.add_safe_globals`. We recommend you start setting `weights_only=True` for any use case where you don't have full control of the loaded file. Please open an issue on GitHub for any issues related to this experimental feature.\n",
      "  test_model.load_state_dict(torch.load(latest_file_path, map_location=torch.device('cpu')))\n"
     ]
    },
    {
     "name": "stdout",
     "output_type": "stream",
     "text": [
      "MODEL FILE: ./_01_code/_15_lstm_and_its_application/checkpoints/lstm_regression_btc_krw_checkpoint_latest.pt\n",
      "[TEST DATA]\n",
      " 0: 1,128.97 <--> 1,271.21 (Loss:        142.24)\n",
      " 1: 997.05 <--> 1,070.26 (Loss:         73.21)\n",
      " 2: 1,165.00 <--> 1,334.58 (Loss:        169.58)\n",
      " 3: 954.52 <--> 948.70 (Loss:          5.82)\n",
      " 4: 1,199.14 <--> 1,331.62 (Loss:        132.48)\n",
      " 5: 960.34 <--> 1,047.88 (Loss:         87.53)\n",
      " 6: 1,188.92 <--> 1,390.43 (Loss:        201.51)\n",
      " 7: 953.61 <--> 959.09 (Loss:          5.48)\n",
      " 8: 1,235.95 <--> 1,378.05 (Loss:        142.10)\n",
      " 9: 941.04 <--> 931.83 (Loss:          9.20)\n",
      "10: 942.95 <--> 956.43 (Loss:         13.48)\n",
      "11: 1,158.38 <--> 1,264.13 (Loss:        105.75)\n",
      "12: 1,023.67 <--> 1,073.52 (Loss:         49.86)\n",
      "13: 1,176.03 <--> 1,319.45 (Loss:        143.42)\n",
      "14: 1,216.87 <--> 1,360.09 (Loss:        143.23)\n",
      "15: 1,085.01 <--> 1,272.01 (Loss:        187.00)\n",
      "16: 924.45 <--> 957.10 (Loss:         32.65)\n",
      "17: 1,049.40 <--> 1,243.20 (Loss:        193.79)\n",
      "18: 1,190.88 <--> 1,380.87 (Loss:        189.99)\n",
      "19: 1,216.43 <--> 1,373.29 (Loss:        156.86)\n",
      "20: 1,240.02 <--> 1,302.60 (Loss:         62.58)\n",
      "21: 1,184.27 <--> 1,259.24 (Loss:         74.97)\n",
      "22: 971.17 <--> 964.63 (Loss:          6.54)\n",
      "23: 1,048.14 <--> 1,125.35 (Loss:         77.20)\n",
      "24: 1,192.56 <--> 1,284.38 (Loss:         91.82)\n",
      "25: 937.88 <--> 1,059.85 (Loss:        121.97)\n",
      "26: 1,114.12 <--> 1,224.73 (Loss:        110.61)\n",
      "27: 1,183.77 <--> 1,254.02 (Loss:         70.24)\n",
      "28: 1,088.03 <--> 1,238.69 (Loss:        150.67)\n",
      "29: 1,167.87 <--> 1,286.65 (Loss:        118.78)\n"
     ]
    },
    {
     "data": {
      "image/png": "[encoded data removed]",
      "text/plain": [
       "<Figure size 600x900 with 3 Axes>"
      ]
     },
     "metadata": {},
     "output_type": "display_data"
    }
   ],
   "source": [
    "def testReg(test_model):\n",
    "  test_model.eval()\n",
    "\n",
    "  y_normalizer = 100\n",
    "\n",
    "  print(\"[TEST DATA]\")\n",
    "  with torch.no_grad():\n",
    "    for test_batch in test_data_loader:\n",
    "      input_test, target_test = test_batch\n",
    "\n",
    "      output_test = test_model(input_test)\n",
    "\n",
    "    for idx, (output, target) in enumerate(zip(output_test, target_test)):\n",
    "      print(\"{0:2}: {1:6,.2f} <--> {2:6,.2f} (Loss: {3:>13,.2f})\".format(\n",
    "        idx,\n",
    "        output.item() * y_normalizer,\n",
    "        target.item() * y_normalizer,\n",
    "        abs(output.squeeze(dim=-1).item() - target.item()) * y_normalizer\n",
    "      ))\n",
    "\n",
    "\n",
    "def predict_all(test_model):\n",
    "  y_normalizer = 100\n",
    "\n",
    "  X_train, X_validation, X_test, y_train, y_validation, y_test, y_train_date, y_validation_date, y_test_date \\\n",
    "    = get_cryptocurrency_data(\n",
    "      sequence_size=10, validation_size=100, test_size=10,\n",
    "      target_column='Close', y_normalizer=1.0e7, is_regression=True\n",
    "  )\n",
    "\n",
    "  train_crypto_currency_dataset = CryptoCurrencyDataset(X=X_train, y=y_train)\n",
    "  validation_crypto_currency_dataset = CryptoCurrencyDataset(X=X_validation, y=y_validation)\n",
    "  test_crypto_currency_dataset = CryptoCurrencyDataset(X=X_test, y=y_test)\n",
    "\n",
    "  dataset_list = [\n",
    "    train_crypto_currency_dataset, validation_crypto_currency_dataset, test_crypto_currency_dataset\n",
    "  ]\n",
    "  dataset_labels = [\n",
    "    \"train\", \"validation\", \"test\"\n",
    "  ]\n",
    "  num = 0\n",
    "  fig, axs = plt.subplots(3, 1, figsize=(6, 9))\n",
    "\n",
    "  for i in range(3):\n",
    "    X = []\n",
    "    TARGET_Y = []\n",
    "    PREDICTION_Y = []\n",
    "    for data in dataset_list[i]:\n",
    "      input, target = data\n",
    "      prediction = test_model(input.unsqueeze(0)).squeeze(-1).squeeze(-1)\n",
    "\n",
    "      X.append(num)\n",
    "      TARGET_Y.append(target.item() * y_normalizer)\n",
    "      PREDICTION_Y.append(prediction.item() * y_normalizer)\n",
    "\n",
    "      num += 1\n",
    "\n",
    "    axs[i].plot(X, TARGET_Y, label='target')\n",
    "    axs[i].plot(X, PREDICTION_Y, label='prediction')\n",
    "    axs[i].set_title(dataset_labels[i])\n",
    "    axs[i].legend()\n",
    "\n",
    "  plt.tight_layout()\n",
    "  plt.show()\n",
    "\n",
    "run_time_str = datetime.now().astimezone().strftime('%Y-%m-%d_%H-%M-%S')\n",
    "\n",
    "project_name = \"lstm_regression_btc_krw\"\n",
    "wandb.init(\n",
    "  mode=\"disabled\",\n",
    "  project=project_name,\n",
    "  notes=\"btc_krw experiment with lstm\",\n",
    "  tags=[\"lstm\", \"regression\", \"btc_krw\"],\n",
    "  name=run_time_str,\n",
    "  config=config\n",
    ")\n",
    "\n",
    "test_model = get_my_model(n_input=5, n_output=1)\n",
    "\n",
    "project_name = \"lstm_regression_btc_krw\"\n",
    "latest_file_path = os.path.join(\n",
    "  CHECKPOINT_FILE_PATH, f\"{project_name}_checkpoint_latest.pt\"\n",
    ")\n",
    "print(\"MODEL FILE: {0}\".format(latest_file_path))\n",
    "test_model.load_state_dict(torch.load(latest_file_path, map_location=torch.device('cpu')))\n",
    "\n",
    "testReg(test_model)\n",
    "predict_all(test_model)"
   ]
  },
  {
   "cell_type": "code",
   "execution_count": 11,
   "metadata": {},
   "outputs": [
    {
     "data": {
      "text/html": [
       "Tracking run with wandb version 0.18.2"
      ],
      "text/plain": [
       "<IPython.core.display.HTML object>"
      ]
     },
     "metadata": {},
     "output_type": "display_data"
    },
    {
     "data": {
      "text/html": [
       "Run data is saved locally in <code>/home/cuj/Python/deeplearning_hw4/wandb/run-20241217_170222-ho8thm39</code>"
      ],
      "text/plain": [
       "<IPython.core.display.HTML object>"
      ]
     },
     "metadata": {},
     "output_type": "display_data"
    },
    {
     "data": {
      "text/html": [
       "Syncing run <strong><a href='https://wandb.ai/cudje-cudje/lstm_classification_btc_krw/runs/ho8thm39' target=\"_blank\">2024-12-17_17-02-22</a></strong> to <a href='https://wandb.ai/cudje-cudje/lstm_classification_btc_krw' target=\"_blank\">Weights & Biases</a> (<a href='https://wandb.me/run' target=\"_blank\">docs</a>)<br/>"
      ],
      "text/plain": [
       "<IPython.core.display.HTML object>"
      ]
     },
     "metadata": {},
     "output_type": "display_data"
    },
    {
     "data": {
      "text/html": [
       " View project at <a href='https://wandb.ai/cudje-cudje/lstm_classification_btc_krw' target=\"_blank\">https://wandb.ai/cudje-cudje/lstm_classification_btc_krw</a>"
      ],
      "text/plain": [
       "<IPython.core.display.HTML object>"
      ]
     },
     "metadata": {},
     "output_type": "display_data"
    },
    {
     "data": {
      "text/html": [
       " View run at <a href='https://wandb.ai/cudje-cudje/lstm_classification_btc_krw/runs/ho8thm39' target=\"_blank\">https://wandb.ai/cudje-cudje/lstm_classification_btc_krw/runs/ho8thm39</a>"
      ],
      "text/plain": [
       "<IPython.core.display.HTML object>"
      ]
     },
     "metadata": {},
     "output_type": "display_data"
    },
    {
     "name": "stdout",
     "output_type": "stream",
     "text": [
      "Namespace(wandb=True, batch_size=256, epochs=10000, learning_rate=0.0001, weight_decay=0.0, validation_intervals=30, early_stop_patience=20, early_stop_delta=1e-06)\n",
      "{'epochs': 10000, 'batch_size': 256, 'validation_intervals': 30, 'learning_rate': 0.0001, 'early_stop_patience': 20, 'early_stop_delta': 1e-06, 'weight_decay': 0.0}\n",
      "Training on device cuda:0.\n",
      "[Epoch   1] T_loss: 0.70211, T_accuracy: 47.0371 | V_loss: 0.72022, V_accuracy: 47.3333 | Early stopping is stated! | T_time: 00:00:00, T_speed: 0.000\n"
     ]
    },
    {
     "name": "stderr",
     "output_type": "stream",
     "text": [
      "/home/cuj/Python/environments/lib/python3.10/site-packages/torch/nn/modules/rnn.py:88: UserWarning: dropout option adds dropout after all but last recurrent layer, so non-zero dropout expects num_layers greater than 1, but got dropout=0.4 and num_layers=1\n",
      "  warnings.warn(\"dropout option adds dropout after all but last \"\n"
     ]
    },
    {
     "name": "stdout",
     "output_type": "stream",
     "text": [
      "[Epoch  30] T_loss: 0.69065, T_accuracy: 53.1046 | V_loss: 0.69375, V_accuracy: 47.3333 | V_loss decreased (0.72022 --> 0.69375). Saving model... | T_time: 00:00:01, T_speed: 30.000\n",
      "[Epoch  60] T_loss: 0.69055, T_accuracy: 53.0763 | V_loss: 0.69383, V_accuracy: 47.3333 | Early stopping counter: 1 out of 20 | T_time: 00:00:02, T_speed: 30.000\n",
      "[Epoch  90] T_loss: 0.69051, T_accuracy: 53.2180 | V_loss: 0.69385, V_accuracy: 47.3333 | Early stopping counter: 2 out of 20 | T_time: 00:00:04, T_speed: 22.500\n",
      "[Epoch 120] T_loss: 0.69035, T_accuracy: 53.1330 | V_loss: 0.69388, V_accuracy: 47.3333 | Early stopping counter: 3 out of 20 | T_time: 00:00:05, T_speed: 24.000\n",
      "[Epoch 150] T_loss: 0.69041, T_accuracy: 53.1330 | V_loss: 0.69342, V_accuracy: 48.0000 | V_loss decreased (0.69375 --> 0.69342). Saving model... | T_time: 00:00:07, T_speed: 21.429\n",
      "[Epoch 180] T_loss: 0.69034, T_accuracy: 53.0763 | V_loss: 0.69355, V_accuracy: 48.0000 | Early stopping counter: 1 out of 20 | T_time: 00:00:08, T_speed: 22.500\n",
      "[Epoch 210] T_loss: 0.69020, T_accuracy: 53.1613 | V_loss: 0.69358, V_accuracy: 48.6667 | Early stopping counter: 2 out of 20 | T_time: 00:00:10, T_speed: 21.000\n",
      "[Epoch 240] T_loss: 0.69035, T_accuracy: 53.2747 | V_loss: 0.69346, V_accuracy: 49.3333 | Early stopping counter: 3 out of 20 | T_time: 00:00:11, T_speed: 21.818\n",
      "[Epoch 270] T_loss: 0.69002, T_accuracy: 53.3031 | V_loss: 0.69326, V_accuracy: 48.0000 | V_loss decreased (0.69342 --> 0.69326). Saving model... | T_time: 00:00:13, T_speed: 20.769\n",
      "[Epoch 300] T_loss: 0.69015, T_accuracy: 53.2180 | V_loss: 0.69260, V_accuracy: 48.6667 | V_loss decreased (0.69326 --> 0.69260). Saving model... | T_time: 00:00:14, T_speed: 21.429\n",
      "[Epoch 330] T_loss: 0.69000, T_accuracy: 53.2464 | V_loss: 0.69311, V_accuracy: 49.3333 | Early stopping counter: 1 out of 20 | T_time: 00:00:16, T_speed: 20.625\n",
      "[Epoch 360] T_loss: 0.69004, T_accuracy: 53.5016 | V_loss: 0.69340, V_accuracy: 47.3333 | Early stopping counter: 2 out of 20 | T_time: 00:00:17, T_speed: 21.176\n",
      "[Epoch 390] T_loss: 0.68998, T_accuracy: 53.3598 | V_loss: 0.69244, V_accuracy: 48.0000 | V_loss decreased (0.69260 --> 0.69244). Saving model... | T_time: 00:00:19, T_speed: 20.526\n",
      "[Epoch 420] T_loss: 0.68999, T_accuracy: 53.6150 | V_loss: 0.69216, V_accuracy: 48.6667 | V_loss decreased (0.69244 --> 0.69216). Saving model... | T_time: 00:00:20, T_speed: 21.000\n",
      "[Epoch 450] T_loss: 0.68987, T_accuracy: 53.5583 | V_loss: 0.69145, V_accuracy: 50.6667 | V_loss decreased (0.69216 --> 0.69145). Saving model... | T_time: 00:00:22, T_speed: 20.455\n",
      "[Epoch 480] T_loss: 0.68973, T_accuracy: 53.5583 | V_loss: 0.69135, V_accuracy: 50.6667 | V_loss decreased (0.69145 --> 0.69135). Saving model... | T_time: 00:00:23, T_speed: 20.870\n",
      "[Epoch 510] T_loss: 0.68933, T_accuracy: 53.4165 | V_loss: 0.69060, V_accuracy: 53.3333 | V_loss decreased (0.69135 --> 0.69060). Saving model... | T_time: 00:00:25, T_speed: 20.400\n",
      "[Epoch 540] T_loss: 0.68938, T_accuracy: 53.4165 | V_loss: 0.69000, V_accuracy: 54.6667 | V_loss decreased (0.69060 --> 0.69000). Saving model... | T_time: 00:00:26, T_speed: 20.769\n",
      "[Epoch 570] T_loss: 0.68922, T_accuracy: 53.5583 | V_loss: 0.69010, V_accuracy: 53.3333 | Early stopping counter: 1 out of 20 | T_time: 00:00:28, T_speed: 20.357\n",
      "[Epoch 600] T_loss: 0.68911, T_accuracy: 53.5583 | V_loss: 0.68920, V_accuracy: 53.3333 | V_loss decreased (0.69000 --> 0.68920). Saving model... | T_time: 00:00:29, T_speed: 20.690\n",
      "[Epoch 630] T_loss: 0.68901, T_accuracy: 53.8134 | V_loss: 0.68949, V_accuracy: 54.0000 | Early stopping counter: 1 out of 20 | T_time: 00:00:31, T_speed: 20.323\n",
      "[Epoch 660] T_loss: 0.68901, T_accuracy: 53.5583 | V_loss: 0.68851, V_accuracy: 52.6667 | V_loss decreased (0.68920 --> 0.68851). Saving model... | T_time: 00:00:32, T_speed: 20.625\n",
      "[Epoch 690] T_loss: 0.68876, T_accuracy: 53.4732 | V_loss: 0.68788, V_accuracy: 54.0000 | V_loss decreased (0.68851 --> 0.68788). Saving model... | T_time: 00:00:33, T_speed: 20.909\n",
      "[Epoch 720] T_loss: 0.68881, T_accuracy: 53.7284 | V_loss: 0.68734, V_accuracy: 53.3333 | V_loss decreased (0.68788 --> 0.68734). Saving model... | T_time: 00:00:35, T_speed: 20.571\n",
      "[Epoch 750] T_loss: 0.68843, T_accuracy: 53.9269 | V_loss: 0.68618, V_accuracy: 54.6667 | V_loss decreased (0.68734 --> 0.68618). Saving model... | T_time: 00:00:36, T_speed: 20.833\n",
      "[Epoch 780] T_loss: 0.68852, T_accuracy: 53.7284 | V_loss: 0.68665, V_accuracy: 54.6667 | Early stopping counter: 1 out of 20 | T_time: 00:00:38, T_speed: 20.526\n",
      "[Epoch 810] T_loss: 0.68834, T_accuracy: 54.0403 | V_loss: 0.68579, V_accuracy: 56.0000 | V_loss decreased (0.68618 --> 0.68579). Saving model... | T_time: 00:00:39, T_speed: 20.769\n",
      "[Epoch 840] T_loss: 0.68822, T_accuracy: 54.1820 | V_loss: 0.68496, V_accuracy: 56.6667 | V_loss decreased (0.68579 --> 0.68496). Saving model... | T_time: 00:00:41, T_speed: 20.488\n",
      "[Epoch 870] T_loss: 0.68774, T_accuracy: 54.2104 | V_loss: 0.68392, V_accuracy: 56.6667 | V_loss decreased (0.68496 --> 0.68392). Saving model... | T_time: 00:00:42, T_speed: 20.714\n",
      "[Epoch 900] T_loss: 0.68741, T_accuracy: 54.2671 | V_loss: 0.68394, V_accuracy: 57.3333 | Early stopping counter: 1 out of 20 | T_time: 00:00:44, T_speed: 20.455\n",
      "[Epoch 930] T_loss: 0.68727, T_accuracy: 54.3521 | V_loss: 0.68455, V_accuracy: 56.6667 | Early stopping counter: 2 out of 20 | T_time: 00:00:45, T_speed: 20.667\n",
      "[Epoch 960] T_loss: 0.68718, T_accuracy: 54.4656 | V_loss: 0.68559, V_accuracy: 56.0000 | Early stopping counter: 3 out of 20 | T_time: 00:00:47, T_speed: 20.426\n",
      "[Epoch 990] T_loss: 0.68690, T_accuracy: 54.3238 | V_loss: 0.68699, V_accuracy: 56.0000 | Early stopping counter: 4 out of 20 | T_time: 00:00:48, T_speed: 20.625\n",
      "[Epoch 1020] T_loss: 0.68677, T_accuracy: 54.4088 | V_loss: 0.68856, V_accuracy: 56.6667 | Early stopping counter: 5 out of 20 | T_time: 00:00:50, T_speed: 20.400\n",
      "[Epoch 1050] T_loss: 0.68636, T_accuracy: 54.2954 | V_loss: 0.68934, V_accuracy: 56.6667 | Early stopping counter: 6 out of 20 | T_time: 00:00:51, T_speed: 20.588\n",
      "[Epoch 1080] T_loss: 0.68611, T_accuracy: 54.2954 | V_loss: 0.69209, V_accuracy: 56.6667 | Early stopping counter: 7 out of 20 | T_time: 00:00:53, T_speed: 20.377\n",
      "[Epoch 1110] T_loss: 0.68565, T_accuracy: 54.5790 | V_loss: 0.69473, V_accuracy: 55.3333 | Early stopping counter: 8 out of 20 | T_time: 00:00:54, T_speed: 20.556\n",
      "[Epoch 1140] T_loss: 0.68585, T_accuracy: 54.3238 | V_loss: 0.69902, V_accuracy: 54.0000 | Early stopping counter: 9 out of 20 | T_time: 00:00:56, T_speed: 20.357\n",
      "[Epoch 1170] T_loss: 0.68514, T_accuracy: 54.5790 | V_loss: 0.70334, V_accuracy: 52.0000 | Early stopping counter: 10 out of 20 | T_time: 00:00:57, T_speed: 20.526\n",
      "[Epoch 1200] T_loss: 0.68454, T_accuracy: 54.4939 | V_loss: 0.70837, V_accuracy: 49.3333 | Early stopping counter: 11 out of 20 | T_time: 00:00:59, T_speed: 20.339\n",
      "[Epoch 1230] T_loss: 0.68425, T_accuracy: 54.6640 | V_loss: 0.71508, V_accuracy: 44.6667 | Early stopping counter: 12 out of 20 | T_time: 00:01:00, T_speed: 20.500\n",
      "[Epoch 1260] T_loss: 0.68380, T_accuracy: 54.9475 | V_loss: 0.72110, V_accuracy: 45.3333 | Early stopping counter: 13 out of 20 | T_time: 00:01:01, T_speed: 20.656\n",
      "[Epoch 1290] T_loss: 0.68361, T_accuracy: 54.6924 | V_loss: 0.72720, V_accuracy: 46.6667 | Early stopping counter: 14 out of 20 | T_time: 00:01:03, T_speed: 20.476\n",
      "[Epoch 1320] T_loss: 0.68276, T_accuracy: 54.8625 | V_loss: 0.73277, V_accuracy: 46.6667 | Early stopping counter: 15 out of 20 | T_time: 00:01:04, T_speed: 20.625\n",
      "[Epoch 1350] T_loss: 0.68227, T_accuracy: 54.7207 | V_loss: 0.73810, V_accuracy: 48.0000 | Early stopping counter: 16 out of 20 | T_time: 00:01:06, T_speed: 20.455\n",
      "[Epoch 1380] T_loss: 0.68202, T_accuracy: 55.0043 | V_loss: 0.74385, V_accuracy: 46.6667 | Early stopping counter: 17 out of 20 | T_time: 00:01:07, T_speed: 20.597\n",
      "[Epoch 1410] T_loss: 0.68172, T_accuracy: 54.8341 | V_loss: 0.75111, V_accuracy: 48.0000 | Early stopping counter: 18 out of 20 | T_time: 00:01:09, T_speed: 20.435\n",
      "[Epoch 1440] T_loss: 0.68121, T_accuracy: 55.0326 | V_loss: 0.75469, V_accuracy: 47.3333 | Early stopping counter: 19 out of 20 | T_time: 00:01:10, T_speed: 20.571\n",
      "[Epoch 1470] T_loss: 0.68072, T_accuracy: 55.1460 | V_loss: 0.76326, V_accuracy: 45.3333 | Early stopping counter: 20 out of 20 *** TRAIN EARLY STOPPED! *** | T_time: 00:01:12, T_speed: 20.417\n",
      "Final training time: 00:01:12\n"
     ]
    },
    {
     "data": {
      "text/html": [
       "<style>\n",
       "    table.wandb td:nth-child(1) { padding: 0 10px; text-align: left ; width: auto;} td:nth-child(2) {text-align: left ; width: 100%}\n",
       "    .wandb-row { display: flex; flex-direction: row; flex-wrap: wrap; justify-content: flex-start; width: 100% }\n",
       "    .wandb-col { display: flex; flex-direction: column; flex-basis: 100%; flex: 1; padding: 10px; }\n",
       "    </style>\n",
       "<div class=\"wandb-row\"><div class=\"wandb-col\"><h3>Run history:</h3><br/><table class=\"wandb\"><tr><td>Epoch</td><td>▁▁▁▁▂▂▂▂▂▂▃▃▃▃▃▄▄▄▄▄▅▅▅▅▅▅▆▆▆▆▆▆▇▇▇▇▇▇██</td></tr><tr><td>Training accuracy (%)</td><td>▁▆▆▆▆▆▆▆▆▆▇▆▇▇▇▇▇▇▇▇▇▇▇▇▇▇▇▇▇▇█▇█▇██████</td></tr><tr><td>Training loss</td><td>█▄▄▄▄▄▄▄▄▄▄▄▄▄▄▄▄▄▄▄▄▄▃▃▃▃▃▃▃▃▃▂▂▂▂▂▂▁▁▁</td></tr><tr><td>Training speed (epochs/sec.)</td><td>▁██▇▆▆▆▆▆▆▆▆▆▆▆▆▆▆▆▆▆▆▆▆▆▆▆▆▆▆▆▆▆▆▆▆▆▆▆▆</td></tr><tr><td>Validation accuracy (%)</td><td>▃▃▃▃▃▃▄▃▃▄▃▃▅▅▆▆▆▆▆▆▇▇████████▆▅▄▁▁▂▃▂▃▁</td></tr><tr><td>Validation loss</td><td>▂▂▂▂▂▂▂▂▂▂▂▂▂▂▂▁▁▁▁▁▁▁▁▁▁▁▁▁▁▂▂▃▃▄▄▅▆▆▇█</td></tr></table><br/></div><div class=\"wandb-col\"><h3>Run summary:</h3><br/><table class=\"wandb\"><tr><td>Epoch</td><td>1470</td></tr><tr><td>Training accuracy (%)</td><td>55.14602</td></tr><tr><td>Training loss</td><td>0.68072</td></tr><tr><td>Training speed (epochs/sec.)</td><td>20.41667</td></tr><tr><td>Validation accuracy (%)</td><td>45.33333</td></tr><tr><td>Validation loss</td><td>0.76326</td></tr></table><br/></div></div>"
      ],
      "text/plain": [
       "<IPython.core.display.HTML object>"
      ]
     },
     "metadata": {},
     "output_type": "display_data"
    },
    {
     "data": {
      "text/html": [
       " View run <strong style=\"color:#cdcd00\">2024-12-17_17-02-22</strong> at: <a href='https://wandb.ai/cudje-cudje/lstm_classification_btc_krw/runs/ho8thm39' target=\"_blank\">https://wandb.ai/cudje-cudje/lstm_classification_btc_krw/runs/ho8thm39</a><br/> View project at: <a href='https://wandb.ai/cudje-cudje/lstm_classification_btc_krw' target=\"_blank\">https://wandb.ai/cudje-cudje/lstm_classification_btc_krw</a><br/>Synced 5 W&B file(s), 0 media file(s), 0 artifact file(s) and 0 other file(s)"
      ],
      "text/plain": [
       "<IPython.core.display.HTML object>"
      ]
     },
     "metadata": {},
     "output_type": "display_data"
    },
    {
     "data": {
      "text/html": [
       "Find logs at: <code>./wandb/run-20241217_170222-ho8thm39/logs</code>"
      ],
      "text/plain": [
       "<IPython.core.display.HTML object>"
      ]
     },
     "metadata": {},
     "output_type": "display_data"
    }
   ],
   "source": [
    "run_time_str = datetime.now().astimezone().strftime('%Y-%m-%d_%H-%M-%S')\n",
    "\n",
    "project_name = \"lstm_classification_btc_krw\"\n",
    "wandb.init(\n",
    "  mode=\"online\" if args.wandb else \"disabled\",\n",
    "  project=project_name,\n",
    "  notes=\"btc_krw experiment with lstm\",\n",
    "  tags=[\"lstm\", \"classification\", \"btc_krw\"],\n",
    "  name=run_time_str,\n",
    "  config=config\n",
    ")\n",
    "print(args)\n",
    "print(wandb.config)\n",
    "\n",
    "device = torch.device(\"cuda:0\" if torch.cuda.is_available() else \"cpu\")\n",
    "print(f\"Training on device {device}.\")\n",
    "\n",
    "model = get_my_model(n_input=5, n_output=2)\n",
    "model.to(device)\n",
    "\n",
    "optimizer = optim.Adam(model.parameters(), lr=wandb.config.learning_rate, weight_decay=wandb.config.weight_decay)\n",
    "\n",
    "classification_trainer = ClassificationTrainer(\n",
    "  project_name, model, optimizer, btrain_data_loader, bvalidation_data_loader, None,\n",
    "  run_time_str, wandb, device, CHECKPOINT_FILE_PATH\n",
    ")\n",
    "classification_trainer.train_loop()\n",
    "\n",
    "wandb.finish()"
   ]
  },
  {
   "cell_type": "code",
   "execution_count": 12,
   "metadata": {},
   "outputs": [
    {
     "name": "stdout",
     "output_type": "stream",
     "text": [
      "MODEL FILE: ./_01_code/_15_lstm_and_its_application/checkpoints/lstm_classification_btc_krw_checkpoint_latest.pt\n",
      "[TEST DATA]\n",
      "TEST RESULTS: 46.667%\n",
      " 0:   0.00 <-->   1.00\n",
      " 1:   0.00 <-->   1.00\n",
      " 2:   0.00 <-->   0.00\n",
      " 3:   1.00 <-->   1.00\n",
      " 4:   0.00 <-->   0.00\n",
      " 5:   1.00 <-->   0.00\n",
      " 6:   0.00 <-->   0.00\n",
      " 7:   0.00 <-->   1.00\n",
      " 8:   0.00 <-->   0.00\n",
      " 9:   1.00 <-->   0.00\n",
      "10:   0.00 <-->   0.00\n",
      "11:   0.00 <-->   1.00\n",
      "12:   0.00 <-->   1.00\n",
      "13:   0.00 <-->   1.00\n",
      "14:   1.00 <-->   0.00\n",
      "15:   0.00 <-->   0.00\n",
      "16:   0.00 <-->   1.00\n",
      "17:   1.00 <-->   1.00\n",
      "18:   0.00 <-->   0.00\n",
      "19:   1.00 <-->   1.00\n",
      "20:   0.00 <-->   0.00\n",
      "21:   0.00 <-->   1.00\n",
      "22:   0.00 <-->   1.00\n",
      "23:   0.00 <-->   1.00\n",
      "24:   0.00 <-->   1.00\n",
      "25:   0.00 <-->   0.00\n",
      "26:   0.00 <-->   1.00\n",
      "27:   0.00 <-->   0.00\n",
      "28:   0.00 <-->   1.00\n",
      "29:   0.00 <-->   0.00\n"
     ]
    },
    {
     "name": "stderr",
     "output_type": "stream",
     "text": [
      "/home/cuj/Python/environments/lib/python3.10/site-packages/torch/nn/modules/rnn.py:88: UserWarning: dropout option adds dropout after all but last recurrent layer, so non-zero dropout expects num_layers greater than 1, but got dropout=0.4 and num_layers=1\n",
      "  warnings.warn(\"dropout option adds dropout after all but last \"\n",
      "/tmp/ipykernel_194393/1726902618.py:48: FutureWarning: You are using `torch.load` with `weights_only=False` (the current default value), which uses the default pickle module implicitly. It is possible to construct malicious pickle data which will execute arbitrary code during unpickling (See https://github.com/pytorch/pytorch/blob/main/SECURITY.md#untrusted-models for more details). In a future release, the default value for `weights_only` will be flipped to `True`. This limits the functions that could be executed during unpickling. Arbitrary objects will no longer be allowed to be loaded via this mode unless they are explicitly allowlisted by the user via `torch.serialization.add_safe_globals`. We recommend you start setting `weights_only=True` for any use case where you don't have full control of the loaded file. Please open an issue on GitHub for any issues related to this experimental feature.\n",
      "  test_model.load_state_dict(torch.load(latest_file_path, map_location=torch.device('cpu')))\n"
     ]
    }
   ],
   "source": [
    "def test(test_model):\n",
    "  test_model.eval()\n",
    "\n",
    "  num_corrects_test = 0\n",
    "  num_tested_samples = 0\n",
    "\n",
    "  print(\"[TEST DATA]\")\n",
    "  with torch.no_grad():\n",
    "    for test_batch in btest_data_loader:\n",
    "      input_test, target_test = test_batch\n",
    "\n",
    "      output_test = test_model(input_test)\n",
    "\n",
    "      predicted_test = torch.argmax(output_test, dim=1)\n",
    "      num_corrects_test += torch.sum(torch.eq(predicted_test, target_test))\n",
    "\n",
    "      num_tested_samples += len(input_test)\n",
    "\n",
    "    test_accuracy = 100.0 * num_corrects_test / num_tested_samples\n",
    "\n",
    "    print(f\"TEST RESULTS: {test_accuracy:6.3f}%\")\n",
    "\n",
    "    for idx, (output, target) in enumerate(zip(output_test, target_test)):\n",
    "      print(\"{0:2}: {1:6,.2f} <--> {2:6,.2f}\".format(\n",
    "        idx, torch.argmax(output).item(), target.item()\n",
    "      ))\n",
    "\n",
    "\n",
    "def main(args):\n",
    "  run_time_str = datetime.now().astimezone().strftime('%Y-%m-%d_%H-%M-%S')\n",
    "\n",
    "  project_name = \"lstm_classification_btc_krw\"\n",
    "  wandb.init(\n",
    "    mode=\"disabled\",\n",
    "    project=project_name,\n",
    "    notes=\"btc_krw experiment with lstm\",\n",
    "    tags=[\"lstm\", \"regression\", \"btc_krw\"],\n",
    "    name=run_time_str,\n",
    "    config=config\n",
    "  )\n",
    "\n",
    "  test_model = get_my_model(n_input=5, n_output=2)\n",
    "\n",
    "  latest_file_path = os.path.join(\n",
    "    CHECKPOINT_FILE_PATH, f\"{project_name}_checkpoint_latest.pt\"\n",
    "  )\n",
    "  print(\"MODEL FILE: {0}\".format(latest_file_path))\n",
    "  test_model.load_state_dict(torch.load(latest_file_path, map_location=torch.device('cpu')))\n",
    "\n",
    "  test(test_model)\n",
    "\n",
    "\n",
    "if __name__ == \"__main__\":\n",
    "  main(args)\n"
   ]
  },
  {
   "cell_type": "markdown",
   "metadata": {},
   "source": [
    "## 문제3\n",
    "##### 데이터 feature 추가 후 성능 변화 확인하기\n",
    "학습 데이터 관련 설정 값은 고정하게 유지하며 데이터 feature에 next_open 추가하기"
   ]
  },
  {
   "cell_type": "code",
   "execution_count": 13,
   "metadata": {},
   "outputs": [],
   "source": [
    "import pandas as pd"
   ]
  },
  {
   "cell_type": "code",
   "execution_count": 14,
   "metadata": {},
   "outputs": [],
   "source": [
    "def get_cryptocurrency_data_modifier(\n",
    "    sequence_size=10, validation_size=100, test_size=10, target_column='Close', y_normalizer=1.0e7, is_regression=True\n",
    "):\n",
    "  btc_krw_path = \"BTC_KRW.csv\"#os.path.join(BASE_PATH, \"_00_data\", \"k_cryptocurrency\", \"BTC_KRW.csv\")\n",
    "  df = pd.read_csv(btc_krw_path)\n",
    "  row_size = len(df)\n",
    "  # ['Date', 'Open', 'High', 'Low', 'Close', 'Volume']\n",
    "  date_list = df['Date']\n",
    "  \n",
    "  df['next_open'] = df['Open'].shift(-1)\n",
    "\n",
    "  df = df.drop(columns=['Date'])\n",
    "  df = df.dropna()\n",
    "\n",
    "  row_size = len(df)\n",
    "  data_size = row_size - sequence_size\n",
    "  train_size = data_size - (validation_size + test_size)\n",
    "  #################################################################################################\n",
    "\n",
    "  row_cursor = 0\n",
    "\n",
    "  X_train_list = []\n",
    "  y_train_regression_list = []\n",
    "  y_train_classification_list = []\n",
    "  y_train_date = []\n",
    "  for idx in range(0, train_size):\n",
    "    sequence_data = df.iloc[idx: idx + sequence_size].values  # sequence_data.shape: (sequence_size, 5)\n",
    "    X_train_list.append(torch.from_numpy(sequence_data))\n",
    "    y_train_regression_list.append(df.iloc[idx + sequence_size][target_column])\n",
    "    y_train_classification_list.append(\n",
    "      1 if df.iloc[idx + sequence_size][target_column] >= df.iloc[idx + sequence_size - 1][target_column] else 0\n",
    "    )\n",
    "    y_train_date.append(date_list[idx + sequence_size])\n",
    "    row_cursor += 1\n",
    "\n",
    "  X_train = torch.stack(X_train_list, dim=0).to(torch.float)\n",
    "  y_train_regression = torch.tensor(y_train_regression_list, dtype=torch.float32) / y_normalizer\n",
    "  y_train_classification = torch.tensor(y_train_classification_list, dtype=torch.int64)\n",
    "\n",
    "  m = X_train.mean(dim=0, keepdim=True)\n",
    "  s = X_train.std(dim=0, keepdim=True)\n",
    "  X_train = (X_train - m) / s\n",
    "\n",
    "  #################################################################################################\n",
    "\n",
    "  X_validation_list = []\n",
    "  y_validation_regression_list = []\n",
    "  y_validation_classification_list = []\n",
    "  y_validation_date = []\n",
    "  for idx in range(row_cursor, row_cursor + validation_size):\n",
    "    sequence_data = df.iloc[idx: idx + sequence_size].values  # sequence_data.shape: (sequence_size, 5)\n",
    "    X_validation_list.append(torch.from_numpy(sequence_data))\n",
    "    y_validation_regression_list.append(df.iloc[idx + sequence_size][target_column])\n",
    "    y_validation_classification_list.append(\n",
    "      1 if df.iloc[idx + sequence_size][target_column] >= df.iloc[idx + sequence_size - 1][target_column] else 0\n",
    "    )\n",
    "    y_validation_date.append(date_list[idx + sequence_size])\n",
    "    row_cursor += 1\n",
    "\n",
    "  X_validation = torch.stack(X_validation_list, dim=0).to(torch.float)\n",
    "  y_validation_regression = torch.tensor(y_validation_regression_list, dtype=torch.float32) / y_normalizer\n",
    "  y_validation_classification = torch.tensor(y_validation_classification_list, dtype=torch.int64)\n",
    "\n",
    "  X_validation = (X_validation - m) / s\n",
    "  #################################################################################################\n",
    "\n",
    "  X_test_list = []\n",
    "  y_test_regression_list = []\n",
    "  y_test_classification_list = []\n",
    "  y_test_date = []\n",
    "  for idx in range(row_cursor, row_cursor + test_size):\n",
    "    sequence_data = df.iloc[idx: idx + sequence_size].values  # sequence_data.shape: (sequence_size, 5)\n",
    "    X_test_list.append(torch.from_numpy(sequence_data))\n",
    "    y_test_regression_list.append(df.iloc[idx + sequence_size][target_column])\n",
    "    y_test_classification_list.append(\n",
    "      1 if df.iloc[idx + sequence_size][target_column] > df.iloc[idx + sequence_size - 1][target_column] else 0\n",
    "    )\n",
    "    y_test_date.append(date_list[idx + sequence_size])\n",
    "    row_cursor += 1\n",
    "\n",
    "  X_test = torch.stack(X_test_list, dim=0).to(torch.float)\n",
    "  y_test_regression = torch.tensor(y_test_regression_list, dtype=torch.float32) / y_normalizer\n",
    "  y_test_classification = torch.tensor(y_test_classification_list, dtype=torch.int64)\n",
    "\n",
    "  X_test = (X_test - m) / s\n",
    "\n",
    "  if is_regression:\n",
    "    return (\n",
    "      X_train, X_validation, X_test,\n",
    "      y_train_regression, y_validation_regression, y_test_regression,\n",
    "      y_train_date, y_validation_date, y_test_date\n",
    "    )\n",
    "  else:\n",
    "    return (\n",
    "      X_train, X_validation, X_test,\n",
    "      y_train_classification, y_validation_classification, y_test_classification,\n",
    "      y_train_date, y_validation_date, y_test_date\n",
    "    )"
   ]
  },
  {
   "cell_type": "code",
   "execution_count": 15,
   "metadata": {},
   "outputs": [],
   "source": [
    "def get_btc_krw_data_modifier(sequence_size=10, validation_size=100, test_size=10, is_regression=True, config=None):\n",
    "  X_train, X_validation, X_test, y_train, y_validation, y_test, y_train_date, y_validation_date, y_test_date \\\n",
    "    = get_cryptocurrency_data_modifier(\n",
    "      sequence_size=sequence_size, validation_size=validation_size, test_size=test_size,\n",
    "      target_column='Close', y_normalizer=1.0e7, is_regression=is_regression\n",
    "  )\n",
    "\n",
    "  # print(X_train.shape, X_validation.shape, X_test.shape, y_train.shape, y_validation.shape, y_test.shape, \"!!! - 1\")\n",
    "\n",
    "  # X_train.shape: [3212, 10, 5]\n",
    "  # X_validation.shape: [100, 10, 5]\n",
    "  # X_test.shape: [10, 10, 5]\n",
    "  # y_train.shape: [3212]\n",
    "  # y_validation.shape: [100]\n",
    "  # y_test.shape: [10]\n",
    "\n",
    "  train_crypto_currency_dataset = CryptoCurrencyDataset(X=X_train, y=y_train)\n",
    "  validation_crypto_currency_dataset = CryptoCurrencyDataset(X=X_validation, y=y_validation)\n",
    "  test_crypto_currency_dataset = CryptoCurrencyDataset(X=X_test, y=y_test)\n",
    "\n",
    "  if config:\n",
    "    train_data_loader = DataLoader(\n",
    "      dataset=train_crypto_currency_dataset, batch_size=config[\"batch_size\"], shuffle=True\n",
    "    )\n",
    "    validation_data_loader = DataLoader(\n",
    "      dataset=validation_crypto_currency_dataset, batch_size=config[\"batch_size\"], shuffle=True\n",
    "    )\n",
    "    test_data_loader = DataLoader(\n",
    "      dataset=test_crypto_currency_dataset, batch_size=len(test_crypto_currency_dataset), shuffle=True\n",
    "    )\n",
    "  else:\n",
    "    train_data_loader = DataLoader(\n",
    "      dataset=train_crypto_currency_dataset, batch_size=wandb.config.batch_size, shuffle=True\n",
    "    )\n",
    "    validation_data_loader = DataLoader(\n",
    "      dataset=validation_crypto_currency_dataset, batch_size=wandb.config.batch_size, shuffle=True\n",
    "    )\n",
    "    test_data_loader = DataLoader(\n",
    "      dataset=test_crypto_currency_dataset, batch_size=len(test_crypto_currency_dataset), shuffle=True\n",
    "    )\n",
    "\n",
    "  return train_data_loader, validation_data_loader, test_data_loader"
   ]
  },
  {
   "cell_type": "code",
   "execution_count": 16,
   "metadata": {},
   "outputs": [],
   "source": [
    "parser = get_parser()\n",
    "args = parser.parse_args(args=[])\n",
    "args.epochs = 10_000\n",
    "args.batch_size = 256\n",
    "args.validation_intervals = 30\n",
    "args.learning_rate = 1e-4\n",
    "args.early_stop_patience = 20\n",
    "args.early_stop_delta = 0.000001\n",
    "args.weight_decay = 0.0\n",
    "\n",
    "config = {\n",
    "'epochs': args.epochs,\n",
    "'batch_size': args.batch_size,\n",
    "'validation_intervals': args.validation_intervals,\n",
    "'learning_rate': args.learning_rate,\n",
    "'early_stop_patience': args.early_stop_patience,\n",
    "'early_stop_delta': args.early_stop_delta,\n",
    "'weight_decay': args.weight_decay\n",
    "}\n",
    "\n",
    "train_data_loader, validation_data_loader, test_data_loader = get_btc_krw_data_modifier(sequence_size=21, validation_size=150, test_size=30, is_regression=True, config=config)\n",
    "btrain_data_loader, bvalidation_data_loader, btest_data_loader = get_btc_krw_data_modifier(sequence_size=21, validation_size=150, test_size=30, is_regression=False, config=config)"
   ]
  },
  {
   "cell_type": "markdown",
   "metadata": {},
   "source": [
    "next_open이 추가된 후 성능 보기"
   ]
  },
  {
   "cell_type": "code",
   "execution_count": 17,
   "metadata": {},
   "outputs": [
    {
     "data": {
      "text/html": [
       "Tracking run with wandb version 0.18.2"
      ],
      "text/plain": [
       "<IPython.core.display.HTML object>"
      ]
     },
     "metadata": {},
     "output_type": "display_data"
    },
    {
     "data": {
      "text/html": [
       "Run data is saved locally in <code>/home/cuj/Python/deeplearning_hw4/wandb/run-20241217_170338-v2i6eh6o</code>"
      ],
      "text/plain": [
       "<IPython.core.display.HTML object>"
      ]
     },
     "metadata": {},
     "output_type": "display_data"
    },
    {
     "data": {
      "text/html": [
       "Syncing run <strong><a href='https://wandb.ai/cudje-cudje/lstm_regression_btc_krw/runs/v2i6eh6o' target=\"_blank\">2024-12-17_17-03-38</a></strong> to <a href='https://wandb.ai/cudje-cudje/lstm_regression_btc_krw' target=\"_blank\">Weights & Biases</a> (<a href='https://wandb.me/run' target=\"_blank\">docs</a>)<br/>"
      ],
      "text/plain": [
       "<IPython.core.display.HTML object>"
      ]
     },
     "metadata": {},
     "output_type": "display_data"
    },
    {
     "data": {
      "text/html": [
       " View project at <a href='https://wandb.ai/cudje-cudje/lstm_regression_btc_krw' target=\"_blank\">https://wandb.ai/cudje-cudje/lstm_regression_btc_krw</a>"
      ],
      "text/plain": [
       "<IPython.core.display.HTML object>"
      ]
     },
     "metadata": {},
     "output_type": "display_data"
    },
    {
     "data": {
      "text/html": [
       " View run at <a href='https://wandb.ai/cudje-cudje/lstm_regression_btc_krw/runs/v2i6eh6o' target=\"_blank\">https://wandb.ai/cudje-cudje/lstm_regression_btc_krw/runs/v2i6eh6o</a>"
      ],
      "text/plain": [
       "<IPython.core.display.HTML object>"
      ]
     },
     "metadata": {},
     "output_type": "display_data"
    },
    {
     "name": "stderr",
     "output_type": "stream",
     "text": [
      "/home/cuj/Python/environments/lib/python3.10/site-packages/torch/nn/modules/rnn.py:88: UserWarning: dropout option adds dropout after all but last recurrent layer, so non-zero dropout expects num_layers greater than 1, but got dropout=0.4 and num_layers=1\n",
      "  warnings.warn(\"dropout option adds dropout after all but last \"\n"
     ]
    },
    {
     "name": "stdout",
     "output_type": "stream",
     "text": [
      "[Epoch   1] T_loss: 9.77993, V_loss: 73.97870, Early stopping is stated! | T_time: 00:00:00, T_speed: 0.020\n",
      "[Epoch  30] T_loss: 0.33485, V_loss: 6.15135, V_loss decreased (73.97870 --> 6.15135). Saving model... | T_time: 00:00:01, T_speed: 0.073\n",
      "[Epoch  60] T_loss: 0.03099, V_loss: 0.25076, V_loss decreased (6.15135 --> 0.25076). Saving model... | T_time: 00:00:02, T_speed: 0.073\n",
      "[Epoch  90] T_loss: 0.02119, V_loss: 0.15037, V_loss decreased (0.25076 --> 0.15037). Saving model... | T_time: 00:00:04, T_speed: 0.272\n",
      "[Epoch 120] T_loss: 0.01938, V_loss: 0.13927, V_loss decreased (0.15037 --> 0.13927). Saving model... | T_time: 00:00:05, T_speed: 0.162\n",
      "[Epoch 150] T_loss: 0.01814, V_loss: 0.12779, V_loss decreased (0.13927 --> 0.12779). Saving model... | T_time: 00:00:07, T_speed: 0.995\n",
      "[Epoch 180] T_loss: 0.01695, V_loss: 0.11780, V_loss decreased (0.12779 --> 0.11780). Saving model... | T_time: 00:00:08, T_speed: 0.274\n",
      "[Epoch 210] T_loss: 0.01610, V_loss: 0.10887, V_loss decreased (0.11780 --> 0.10887). Saving model... | T_time: 00:00:10, T_speed: 3.228\n",
      "[Epoch 240] T_loss: 0.01517, V_loss: 0.10065, V_loss decreased (0.10887 --> 0.10065). Saving model... | T_time: 00:00:11, T_speed: 0.422\n",
      "[Epoch 270] T_loss: 0.01441, V_loss: 0.09078, V_loss decreased (0.10065 --> 0.09078). Saving model... | T_time: 00:00:12, T_speed: 0.276\n",
      "[Epoch 300] T_loss: 0.01380, V_loss: 0.08262, V_loss decreased (0.09078 --> 0.08262). Saving model... | T_time: 00:00:14, T_speed: 0.777\n",
      "[Epoch 330] T_loss: 0.01325, V_loss: 0.07750, V_loss decreased (0.08262 --> 0.07750). Saving model... | T_time: 00:00:15, T_speed: 0.370\n",
      "[Epoch 360] T_loss: 0.01297, V_loss: 0.07115, V_loss decreased (0.07750 --> 0.07115). Saving model... | T_time: 00:00:17, T_speed: 1.192\n",
      "[Epoch 390] T_loss: 0.01242, V_loss: 0.06772, V_loss decreased (0.07115 --> 0.06772). Saving model... | T_time: 00:00:18, T_speed: 0.549\n",
      "[Epoch 420] T_loss: 0.01207, V_loss: 0.06428, V_loss decreased (0.06772 --> 0.06428). Saving model... | T_time: 00:00:20, T_speed: 1.948\n",
      "[Epoch 450] T_loss: 0.01185, V_loss: 0.06238, V_loss decreased (0.06428 --> 0.06238). Saving model... | T_time: 00:00:21, T_speed: 0.717\n",
      "[Epoch 480] T_loss: 0.01151, V_loss: 0.06023, V_loss decreased (0.06238 --> 0.06023). Saving model... | T_time: 00:00:23, T_speed: 13.854\n",
      "[Epoch 510] T_loss: 0.01131, V_loss: 0.05783, V_loss decreased (0.06023 --> 0.05783). Saving model... | T_time: 00:00:24, T_speed: 0.950\n",
      "[Epoch 540] T_loss: 0.01138, V_loss: 0.05651, V_loss decreased (0.05783 --> 0.05651). Saving model... | T_time: 00:00:25, T_speed: 0.568\n",
      "[Epoch 570] T_loss: 0.01112, V_loss: 0.05517, V_loss decreased (0.05651 --> 0.05517). Saving model... | T_time: 00:00:27, T_speed: 1.585\n",
      "[Epoch 600] T_loss: 0.01097, V_loss: 0.05432, V_loss decreased (0.05517 --> 0.05432). Saving model... | T_time: 00:00:28, T_speed: 0.693\n",
      "[Epoch 630] T_loss: 0.01098, V_loss: 0.05431, V_loss decreased (0.05432 --> 0.05431). Saving model... | T_time: 00:00:30, T_speed: 2.293\n",
      "[Epoch 660] T_loss: 0.01077, V_loss: 0.05306, V_loss decreased (0.05431 --> 0.05306). Saving model... | T_time: 00:00:31, T_speed: 0.966\n",
      "[Epoch 690] T_loss: 0.01063, V_loss: 0.05279, V_loss decreased (0.05306 --> 0.05279). Saving model... | T_time: 00:00:33, T_speed: 3.522\n",
      "[Epoch 720] T_loss: 0.01072, V_loss: 0.05259, V_loss decreased (0.05279 --> 0.05259). Saving model... | T_time: 00:00:34, T_speed: 1.187\n",
      "[Epoch 750] T_loss: 0.01073, V_loss: 0.05106, V_loss decreased (0.05259 --> 0.05106). Saving model... | T_time: 00:00:36, T_speed: 41.241\n",
      "[Epoch 780] T_loss: 0.01053, V_loss: 0.05136, Early stopping counter: 1 out of 20 | T_time: 00:00:37, T_speed: 1.488\n",
      "[Epoch 810] T_loss: 0.01035, V_loss: 0.05038, V_loss decreased (0.05106 --> 0.05038). Saving model... | T_time: 00:00:38, T_speed: 0.868\n",
      "[Epoch 840] T_loss: 0.01030, V_loss: 0.05096, Early stopping counter: 1 out of 20 | T_time: 00:00:40, T_speed: 2.464\n",
      "[Epoch 870] T_loss: 0.01022, V_loss: 0.05027, V_loss decreased (0.05038 --> 0.05027). Saving model... | T_time: 00:00:41, T_speed: 1.028\n",
      "[Epoch 900] T_loss: 0.01014, V_loss: 0.05401, Early stopping counter: 1 out of 20 | T_time: 00:00:43, T_speed: 3.482\n",
      "[Epoch 930] T_loss: 0.01036, V_loss: 0.05573, Early stopping counter: 2 out of 20 | T_time: 00:00:44, T_speed: 1.401\n",
      "[Epoch 960] T_loss: 0.01021, V_loss: 0.05115, Early stopping counter: 3 out of 20 | T_time: 00:00:46, T_speed: 5.733\n",
      "[Epoch 990] T_loss: 0.01007, V_loss: 0.05198, Early stopping counter: 4 out of 20 | T_time: 00:00:47, T_speed: 1.706\n",
      "[Epoch 1020] T_loss: 0.01018, V_loss: 0.05643, Early stopping counter: 5 out of 20 | T_time: 00:00:48, T_speed: 1.031\n",
      "[Epoch 1050] T_loss: 0.01003, V_loss: 0.05213, Early stopping counter: 6 out of 20 | T_time: 00:00:50, T_speed: 2.118\n",
      "[Epoch 1080] T_loss: 0.01016, V_loss: 0.05184, Early stopping counter: 7 out of 20 | T_time: 00:00:51, T_speed: 1.196\n",
      "[Epoch 1110] T_loss: 0.01027, V_loss: 0.05107, Early stopping counter: 8 out of 20 | T_time: 00:00:53, T_speed: 3.533\n",
      "[Epoch 1140] T_loss: 0.01013, V_loss: 0.05147, Early stopping counter: 9 out of 20 | T_time: 00:00:54, T_speed: 1.395\n",
      "[Epoch 1170] T_loss: 0.00999, V_loss: 0.05430, Early stopping counter: 10 out of 20 | T_time: 00:00:56, T_speed: 5.205\n",
      "[Epoch 1200] T_loss: 0.00994, V_loss: 0.05511, Early stopping counter: 11 out of 20 | T_time: 00:00:57, T_speed: 1.885\n",
      "[Epoch 1230] T_loss: 0.00992, V_loss: 0.05257, Early stopping counter: 12 out of 20 | T_time: 00:00:59, T_speed: 8.898\n",
      "[Epoch 1260] T_loss: 0.00985, V_loss: 0.05443, Early stopping counter: 13 out of 20 | T_time: 00:01:00, T_speed: 2.302\n",
      "[Epoch 1290] T_loss: 0.01002, V_loss: 0.05296, Early stopping counter: 14 out of 20 | T_time: 00:01:01, T_speed: 1.353\n",
      "[Epoch 1320] T_loss: 0.00995, V_loss: 0.05647, Early stopping counter: 15 out of 20 | T_time: 00:01:03, T_speed: 2.895\n",
      "[Epoch 1350] T_loss: 0.00984, V_loss: 0.05442, Early stopping counter: 16 out of 20 | T_time: 00:01:04, T_speed: 1.559\n",
      "[Epoch 1380] T_loss: 0.00977, V_loss: 0.05995, Early stopping counter: 17 out of 20 | T_time: 00:01:06, T_speed: 5.055\n",
      "[Epoch 1410] T_loss: 0.00983, V_loss: 0.05660, Early stopping counter: 18 out of 20 | T_time: 00:01:07, T_speed: 1.814\n",
      "[Epoch 1440] T_loss: 0.00991, V_loss: 0.05580, Early stopping counter: 19 out of 20 | T_time: 00:01:09, T_speed: 7.627\n",
      "[Epoch 1470] T_loss: 0.01000, V_loss: 0.05496, Early stopping counter: 20 out of 20 *** TRAIN EARLY STOPPED! *** | T_time: 00:01:10, T_speed: 2.458\n",
      "Final training time: 00:01:10\n"
     ]
    },
    {
     "data": {
      "text/html": [
       "<style>\n",
       "    table.wandb td:nth-child(1) { padding: 0 10px; text-align: left ; width: auto;} td:nth-child(2) {text-align: left ; width: 100%}\n",
       "    .wandb-row { display: flex; flex-direction: row; flex-wrap: wrap; justify-content: flex-start; width: 100% }\n",
       "    .wandb-col { display: flex; flex-direction: column; flex-basis: 100%; flex: 1; padding: 10px; }\n",
       "    </style>\n",
       "<div class=\"wandb-row\"><div class=\"wandb-col\"><h3>Run history:</h3><br/><table class=\"wandb\"><tr><td>Epoch</td><td>▁▁▁▁▂▂▂▂▂▂▃▃▃▃▃▄▄▄▄▄▅▅▅▅▅▆▆▆▆▆▆▇▇▇▇▇▇███</td></tr><tr><td>Training loss</td><td>█▁▁▁▁▁▁▁▁▁▁▁▁▁▁▁▁▁▁▁▁▁▁▁▁▁▁▁▁▁▁▁▁▁▁▁▁▁▁▁</td></tr><tr><td>Training speed (epochs/sec.)</td><td>▁▁▁▁▁▁▂▁▁▁▁▁▁▁▃▁▁▁▁▂█▁▁▁▁▁▁▁▁▁▁▂▁▃▁▁▁▂▁▁</td></tr><tr><td>Validation loss</td><td>█▂▁▁▁▁▁▁▁▁▁▁▁▁▁▁▁▁▁▁▁▁▁▁▁▁▁▁▁▁▁▁▁▁▁▁▁▁▁▁</td></tr></table><br/></div><div class=\"wandb-col\"><h3>Run summary:</h3><br/><table class=\"wandb\"><tr><td>Epoch</td><td>1470</td></tr><tr><td>Training loss</td><td>0.01</td></tr><tr><td>Training speed (epochs/sec.)</td><td>2.45837</td></tr><tr><td>Validation loss</td><td>0.05496</td></tr></table><br/></div></div>"
      ],
      "text/plain": [
       "<IPython.core.display.HTML object>"
      ]
     },
     "metadata": {},
     "output_type": "display_data"
    },
    {
     "data": {
      "text/html": [
       " View run <strong style=\"color:#cdcd00\">2024-12-17_17-03-38</strong> at: <a href='https://wandb.ai/cudje-cudje/lstm_regression_btc_krw/runs/v2i6eh6o' target=\"_blank\">https://wandb.ai/cudje-cudje/lstm_regression_btc_krw/runs/v2i6eh6o</a><br/> View project at: <a href='https://wandb.ai/cudje-cudje/lstm_regression_btc_krw' target=\"_blank\">https://wandb.ai/cudje-cudje/lstm_regression_btc_krw</a><br/>Synced 5 W&B file(s), 0 media file(s), 0 artifact file(s) and 0 other file(s)"
      ],
      "text/plain": [
       "<IPython.core.display.HTML object>"
      ]
     },
     "metadata": {},
     "output_type": "display_data"
    },
    {
     "data": {
      "text/html": [
       "Find logs at: <code>./wandb/run-20241217_170338-v2i6eh6o/logs</code>"
      ],
      "text/plain": [
       "<IPython.core.display.HTML object>"
      ]
     },
     "metadata": {},
     "output_type": "display_data"
    }
   ],
   "source": [
    "run_time_str = datetime.now().astimezone().strftime('%Y-%m-%d_%H-%M-%S')\n",
    "\n",
    "project_name = \"lstm_regression_btc_krw\"\n",
    "wandb.init(\n",
    "  mode=\"online\" if args.wandb else \"disabled\",\n",
    "  project=project_name,\n",
    "  notes=\"btc_krw experiment with lstm\",\n",
    "  tags=[\"lstm\", \"regression\", \"btc_krw\"],\n",
    "  name=run_time_str,\n",
    "  config=config\n",
    ")\n",
    "\n",
    "device = torch.device(\"cuda:0\" if torch.cuda.is_available() else \"cpu\")\n",
    "\n",
    "model = get_my_model(n_input=6, n_output=1)\n",
    "model.to(device)\n",
    "\n",
    "optimizer = optim.Adam(model.parameters(), lr=wandb.config.learning_rate, weight_decay=wandb.config.weight_decay)\n",
    "\n",
    "\n",
    "regression_trainer = RegressionTrainer(\n",
    "  project_name, model, optimizer, train_data_loader, validation_data_loader, None,\n",
    "  run_time_str, wandb, device, CHECKPOINT_FILE_PATH\n",
    ")\n",
    "regression_trainer.train_loop()\n",
    "\n",
    "wandb.finish()\n"
   ]
  },
  {
   "cell_type": "code",
   "execution_count": 18,
   "metadata": {},
   "outputs": [
    {
     "name": "stderr",
     "output_type": "stream",
     "text": [
      "/home/cuj/Python/environments/lib/python3.10/site-packages/torch/nn/modules/rnn.py:88: UserWarning: dropout option adds dropout after all but last recurrent layer, so non-zero dropout expects num_layers greater than 1, but got dropout=0.4 and num_layers=1\n",
      "  warnings.warn(\"dropout option adds dropout after all but last \"\n",
      "/tmp/ipykernel_194393/247243800.py:64: FutureWarning: You are using `torch.load` with `weights_only=False` (the current default value), which uses the default pickle module implicitly. It is possible to construct malicious pickle data which will execute arbitrary code during unpickling (See https://github.com/pytorch/pytorch/blob/main/SECURITY.md#untrusted-models for more details). In a future release, the default value for `weights_only` will be flipped to `True`. This limits the functions that could be executed during unpickling. Arbitrary objects will no longer be allowed to be loaded via this mode unless they are explicitly allowlisted by the user via `torch.serialization.add_safe_globals`. We recommend you start setting `weights_only=True` for any use case where you don't have full control of the loaded file. Please open an issue on GitHub for any issues related to this experimental feature.\n",
      "  test_model.load_state_dict(torch.load(latest_file_path, map_location=torch.device('cpu')))\n"
     ]
    },
    {
     "name": "stdout",
     "output_type": "stream",
     "text": [
      "MODEL FILE: ./_01_code/_15_lstm_and_its_application/checkpoints/lstm_regression_btc_krw_checkpoint_latest.pt\n",
      "[TEST DATA]\n",
      " 0: 966.90 <--> 1,047.88 (Loss:         80.97)\n",
      " 1: 945.19 <--> 931.83 (Loss:         13.35)\n",
      " 2: 1,093.02 <--> 1,272.01 (Loss:        178.99)\n",
      " 3: 951.77 <--> 956.43 (Loss:          4.66)\n",
      " 4: 1,202.28 <--> 1,334.58 (Loss:        132.30)\n",
      " 5: 955.23 <--> 948.70 (Loss:          6.53)\n",
      " 6: 1,231.24 <--> 1,331.62 (Loss:        100.37)\n",
      " 7: 1,217.77 <--> 1,284.38 (Loss:         66.61)\n",
      " 8: 1,142.96 <--> 1,271.21 (Loss:        128.26)\n",
      " 9: 1,257.06 <--> 1,302.60 (Loss:         45.54)\n",
      "10: 945.25 <--> 1,059.85 (Loss:        114.60)\n",
      "11: 1,177.01 <--> 1,264.13 (Loss:         87.12)\n",
      "12: 1,028.87 <--> 1,073.52 (Loss:         44.65)\n",
      "13: 1,196.19 <--> 1,286.65 (Loss:         90.46)\n",
      "14: 931.38 <--> 957.10 (Loss:         25.71)\n",
      "15: 1,221.80 <--> 1,380.87 (Loss:        159.07)\n",
      "16: 1,202.03 <--> 1,259.24 (Loss:         57.21)\n",
      "17: 971.52 <--> 996.63 (Loss:         25.11)\n",
      "18: 1,225.53 <--> 1,390.43 (Loss:        164.90)\n",
      "19: 1,200.01 <--> 1,254.02 (Loss:         54.00)\n",
      "20: 1,244.13 <--> 1,373.29 (Loss:        129.16)\n",
      "21: 1,002.98 <--> 1,070.26 (Loss:         67.28)\n",
      "22: 1,056.44 <--> 1,243.20 (Loss:        186.76)\n",
      "23: 1,095.62 <--> 1,238.69 (Loss:        143.07)\n",
      "24: 1,255.97 <--> 1,378.05 (Loss:        122.08)\n",
      "25: 958.99 <--> 959.09 (Loss:          0.11)\n",
      "26: 1,208.44 <--> 1,319.45 (Loss:        111.01)\n",
      "27: 1,046.01 <--> 1,125.35 (Loss:         79.34)\n",
      "28: 974.96 <--> 964.63 (Loss:         10.33)\n",
      "29: 1,126.89 <--> 1,224.73 (Loss:         97.84)\n"
     ]
    },
    {
     "data": {
      "image/png": "[encoded data removed]",
      "text/plain": [
       "<Figure size 600x900 with 3 Axes>"
      ]
     },
     "metadata": {},
     "output_type": "display_data"
    }
   ],
   "source": [
    "def predict_all(test_model):\n",
    "  y_normalizer = 100\n",
    "\n",
    "  X_train, X_validation, X_test, y_train, y_validation, y_test, y_train_date, y_validation_date, y_test_date \\\n",
    "    = get_cryptocurrency_data_modifier(\n",
    "      sequence_size=10, validation_size=100, test_size=10,\n",
    "      target_column='Close', y_normalizer=1.0e7, is_regression=True\n",
    "  )\n",
    "\n",
    "  train_crypto_currency_dataset = CryptoCurrencyDataset(X=X_train, y=y_train)\n",
    "  validation_crypto_currency_dataset = CryptoCurrencyDataset(X=X_validation, y=y_validation)\n",
    "  test_crypto_currency_dataset = CryptoCurrencyDataset(X=X_test, y=y_test)\n",
    "\n",
    "  dataset_list = [\n",
    "    train_crypto_currency_dataset, validation_crypto_currency_dataset, test_crypto_currency_dataset\n",
    "  ]\n",
    "  dataset_labels = [\n",
    "    \"train\", \"validation\", \"test\"\n",
    "  ]\n",
    "  num = 0\n",
    "  fig, axs = plt.subplots(3, 1, figsize=(6, 9))\n",
    "\n",
    "  for i in range(3):\n",
    "    X = []\n",
    "    TARGET_Y = []\n",
    "    PREDICTION_Y = []\n",
    "    for data in dataset_list[i]:\n",
    "      input, target = data\n",
    "      prediction = test_model(input.unsqueeze(0)).squeeze(-1).squeeze(-1)\n",
    "\n",
    "      X.append(num)\n",
    "      TARGET_Y.append(target.item() * y_normalizer)\n",
    "      PREDICTION_Y.append(prediction.item() * y_normalizer)\n",
    "\n",
    "      num += 1\n",
    "\n",
    "    axs[i].plot(X, TARGET_Y, label='target')\n",
    "    axs[i].plot(X, PREDICTION_Y, label='prediction')\n",
    "    axs[i].set_title(dataset_labels[i])\n",
    "    axs[i].legend()\n",
    "\n",
    "  plt.tight_layout()\n",
    "  plt.show()\n",
    "\n",
    "run_time_str = datetime.now().astimezone().strftime('%Y-%m-%d_%H-%M-%S')\n",
    "\n",
    "project_name = \"lstm_regression_btc_krw\"\n",
    "wandb.init(\n",
    "  mode=\"disabled\",\n",
    "  project=project_name,\n",
    "  notes=\"btc_krw experiment with lstm\",\n",
    "  tags=[\"lstm\", \"regression\", \"btc_krw\"],\n",
    "  name=run_time_str,\n",
    "  config=config\n",
    ")\n",
    "\n",
    "test_model = get_my_model(n_input=6, n_output=1)\n",
    "\n",
    "project_name = \"lstm_regression_btc_krw\"\n",
    "latest_file_path = os.path.join(\n",
    "  CHECKPOINT_FILE_PATH, f\"{project_name}_checkpoint_latest.pt\"\n",
    ")\n",
    "print(\"MODEL FILE: {0}\".format(latest_file_path))\n",
    "test_model.load_state_dict(torch.load(latest_file_path, map_location=torch.device('cpu')))\n",
    "\n",
    "testReg(test_model)\n",
    "predict_all(test_model)"
   ]
  },
  {
   "cell_type": "code",
   "execution_count": 19,
   "metadata": {},
   "outputs": [
    {
     "data": {
      "text/html": [
       "Tracking run with wandb version 0.18.2"
      ],
      "text/plain": [
       "<IPython.core.display.HTML object>"
      ]
     },
     "metadata": {},
     "output_type": "display_data"
    },
    {
     "data": {
      "text/html": [
       "Run data is saved locally in <code>/home/cuj/Python/deeplearning_hw4/wandb/run-20241217_170453-n9nloiy9</code>"
      ],
      "text/plain": [
       "<IPython.core.display.HTML object>"
      ]
     },
     "metadata": {},
     "output_type": "display_data"
    },
    {
     "data": {
      "text/html": [
       "Syncing run <strong><a href='https://wandb.ai/cudje-cudje/lstm_classification_btc_krw/runs/n9nloiy9' target=\"_blank\">2024-12-17_17-04-53</a></strong> to <a href='https://wandb.ai/cudje-cudje/lstm_classification_btc_krw' target=\"_blank\">Weights & Biases</a> (<a href='https://wandb.me/run' target=\"_blank\">docs</a>)<br/>"
      ],
      "text/plain": [
       "<IPython.core.display.HTML object>"
      ]
     },
     "metadata": {},
     "output_type": "display_data"
    },
    {
     "data": {
      "text/html": [
       " View project at <a href='https://wandb.ai/cudje-cudje/lstm_classification_btc_krw' target=\"_blank\">https://wandb.ai/cudje-cudje/lstm_classification_btc_krw</a>"
      ],
      "text/plain": [
       "<IPython.core.display.HTML object>"
      ]
     },
     "metadata": {},
     "output_type": "display_data"
    },
    {
     "data": {
      "text/html": [
       " View run at <a href='https://wandb.ai/cudje-cudje/lstm_classification_btc_krw/runs/n9nloiy9' target=\"_blank\">https://wandb.ai/cudje-cudje/lstm_classification_btc_krw/runs/n9nloiy9</a>"
      ],
      "text/plain": [
       "<IPython.core.display.HTML object>"
      ]
     },
     "metadata": {},
     "output_type": "display_data"
    },
    {
     "name": "stdout",
     "output_type": "stream",
     "text": [
      "Namespace(wandb=True, batch_size=256, epochs=10000, learning_rate=0.0001, weight_decay=0.0, validation_intervals=30, early_stop_patience=20, early_stop_delta=1e-06)\n",
      "{'epochs': 10000, 'batch_size': 256, 'validation_intervals': 30, 'learning_rate': 0.0001, 'early_stop_patience': 20, 'early_stop_delta': 1e-06, 'weight_decay': 0.0}\n",
      "Training on device cuda:0.\n",
      "[Epoch   1] T_loss: 0.69286, T_accuracy: 52.9495 | V_loss: 0.69139, V_accuracy: 53.3333 | Early stopping is stated! | T_time: 00:00:00, T_speed: 0.000\n"
     ]
    },
    {
     "name": "stderr",
     "output_type": "stream",
     "text": [
      "/home/cuj/Python/environments/lib/python3.10/site-packages/torch/nn/modules/rnn.py:88: UserWarning: dropout option adds dropout after all but last recurrent layer, so non-zero dropout expects num_layers greater than 1, but got dropout=0.4 and num_layers=1\n",
      "  warnings.warn(\"dropout option adds dropout after all but last \"\n"
     ]
    },
    {
     "name": "stdout",
     "output_type": "stream",
     "text": [
      "[Epoch  30] T_loss: 0.69063, T_accuracy: 53.4600 | V_loss: 0.69674, V_accuracy: 46.6667 | Early stopping counter: 1 out of 20 | T_time: 00:00:01, T_speed: 30.000\n",
      "[Epoch  60] T_loss: 0.69039, T_accuracy: 53.0913 | V_loss: 0.69565, V_accuracy: 46.6667 | Early stopping counter: 2 out of 20 | T_time: 00:00:02, T_speed: 30.000\n",
      "[Epoch  90] T_loss: 0.69048, T_accuracy: 53.1480 | V_loss: 0.69481, V_accuracy: 46.6667 | Early stopping counter: 3 out of 20 | T_time: 00:00:04, T_speed: 22.500\n",
      "[Epoch 120] T_loss: 0.69034, T_accuracy: 53.3182 | V_loss: 0.69491, V_accuracy: 46.6667 | Early stopping counter: 4 out of 20 | T_time: 00:00:05, T_speed: 24.000\n",
      "[Epoch 150] T_loss: 0.69038, T_accuracy: 53.2898 | V_loss: 0.69416, V_accuracy: 48.6667 | Early stopping counter: 5 out of 20 | T_time: 00:00:07, T_speed: 21.429\n",
      "[Epoch 180] T_loss: 0.69021, T_accuracy: 53.3749 | V_loss: 0.69379, V_accuracy: 48.0000 | Early stopping counter: 6 out of 20 | T_time: 00:00:08, T_speed: 22.500\n",
      "[Epoch 210] T_loss: 0.69046, T_accuracy: 53.4033 | V_loss: 0.69296, V_accuracy: 48.6667 | Early stopping counter: 7 out of 20 | T_time: 00:00:10, T_speed: 21.000\n",
      "[Epoch 240] T_loss: 0.69012, T_accuracy: 53.6869 | V_loss: 0.69361, V_accuracy: 48.0000 | Early stopping counter: 8 out of 20 | T_time: 00:00:11, T_speed: 21.818\n",
      "[Epoch 270] T_loss: 0.68997, T_accuracy: 53.6302 | V_loss: 0.69305, V_accuracy: 49.3333 | Early stopping counter: 9 out of 20 | T_time: 00:00:13, T_speed: 20.769\n",
      "[Epoch 300] T_loss: 0.68992, T_accuracy: 53.6018 | V_loss: 0.69333, V_accuracy: 49.3333 | Early stopping counter: 10 out of 20 | T_time: 00:00:14, T_speed: 21.429\n",
      "[Epoch 330] T_loss: 0.68959, T_accuracy: 53.6018 | V_loss: 0.69343, V_accuracy: 50.0000 | Early stopping counter: 11 out of 20 | T_time: 00:00:16, T_speed: 20.625\n",
      "[Epoch 360] T_loss: 0.68962, T_accuracy: 53.5735 | V_loss: 0.69194, V_accuracy: 50.0000 | Early stopping counter: 12 out of 20 | T_time: 00:00:17, T_speed: 21.176\n",
      "[Epoch 390] T_loss: 0.68939, T_accuracy: 54.2258 | V_loss: 0.69340, V_accuracy: 48.6667 | Early stopping counter: 13 out of 20 | T_time: 00:00:19, T_speed: 20.526\n",
      "[Epoch 420] T_loss: 0.68888, T_accuracy: 54.0556 | V_loss: 0.69095, V_accuracy: 52.6667 | V_loss decreased (0.69139 --> 0.69095). Saving model... | T_time: 00:00:20, T_speed: 21.000\n",
      "[Epoch 450] T_loss: 0.68862, T_accuracy: 53.7720 | V_loss: 0.69032, V_accuracy: 57.3333 | V_loss decreased (0.69095 --> 0.69032). Saving model... | T_time: 00:00:22, T_speed: 20.455\n",
      "[Epoch 480] T_loss: 0.68837, T_accuracy: 53.9138 | V_loss: 0.69314, V_accuracy: 50.0000 | Early stopping counter: 1 out of 20 | T_time: 00:00:23, T_speed: 20.870\n",
      "[Epoch 510] T_loss: 0.68774, T_accuracy: 54.0272 | V_loss: 0.68684, V_accuracy: 56.0000 | V_loss decreased (0.69032 --> 0.68684). Saving model... | T_time: 00:00:25, T_speed: 20.400\n",
      "[Epoch 540] T_loss: 0.68712, T_accuracy: 53.9705 | V_loss: 0.68756, V_accuracy: 55.3333 | Early stopping counter: 1 out of 20 | T_time: 00:00:26, T_speed: 20.769\n",
      "[Epoch 570] T_loss: 0.68683, T_accuracy: 54.1974 | V_loss: 0.68648, V_accuracy: 53.3333 | V_loss decreased (0.68684 --> 0.68648). Saving model... | T_time: 00:00:28, T_speed: 20.357\n",
      "[Epoch 600] T_loss: 0.68652, T_accuracy: 54.2825 | V_loss: 0.68630, V_accuracy: 55.3333 | V_loss decreased (0.68648 --> 0.68630). Saving model... | T_time: 00:00:29, T_speed: 20.690\n",
      "[Epoch 630] T_loss: 0.68621, T_accuracy: 54.0839 | V_loss: 0.68949, V_accuracy: 56.6667 | Early stopping counter: 1 out of 20 | T_time: 00:00:31, T_speed: 20.323\n",
      "[Epoch 660] T_loss: 0.68581, T_accuracy: 54.2541 | V_loss: 0.68816, V_accuracy: 56.6667 | Early stopping counter: 2 out of 20 | T_time: 00:00:32, T_speed: 20.625\n",
      "[Epoch 690] T_loss: 0.68517, T_accuracy: 54.1407 | V_loss: 0.68732, V_accuracy: 58.6667 | Early stopping counter: 3 out of 20 | T_time: 00:00:34, T_speed: 20.294\n",
      "[Epoch 720] T_loss: 0.68490, T_accuracy: 54.1974 | V_loss: 0.68990, V_accuracy: 58.0000 | Early stopping counter: 4 out of 20 | T_time: 00:00:35, T_speed: 20.571\n",
      "[Epoch 750] T_loss: 0.68424, T_accuracy: 54.4243 | V_loss: 0.68734, V_accuracy: 58.0000 | Early stopping counter: 5 out of 20 | T_time: 00:00:37, T_speed: 20.270\n",
      "[Epoch 780] T_loss: 0.68403, T_accuracy: 54.4526 | V_loss: 0.69469, V_accuracy: 57.3333 | Early stopping counter: 6 out of 20 | T_time: 00:00:38, T_speed: 20.526\n",
      "[Epoch 810] T_loss: 0.68466, T_accuracy: 54.1690 | V_loss: 0.69566, V_accuracy: 57.3333 | Early stopping counter: 7 out of 20 | T_time: 00:00:40, T_speed: 20.250\n",
      "[Epoch 840] T_loss: 0.68415, T_accuracy: 54.1407 | V_loss: 0.70355, V_accuracy: 57.3333 | Early stopping counter: 8 out of 20 | T_time: 00:00:41, T_speed: 20.488\n",
      "[Epoch 870] T_loss: 0.68402, T_accuracy: 54.2541 | V_loss: 0.69892, V_accuracy: 58.0000 | Early stopping counter: 9 out of 20 | T_time: 00:00:42, T_speed: 20.714\n",
      "[Epoch 900] T_loss: 0.68342, T_accuracy: 54.4243 | V_loss: 0.70050, V_accuracy: 56.0000 | Early stopping counter: 10 out of 20 | T_time: 00:00:44, T_speed: 20.455\n",
      "[Epoch 930] T_loss: 0.68339, T_accuracy: 54.2258 | V_loss: 0.71112, V_accuracy: 56.0000 | Early stopping counter: 11 out of 20 | T_time: 00:00:45, T_speed: 20.667\n",
      "[Epoch 960] T_loss: 0.68261, T_accuracy: 54.5944 | V_loss: 0.71179, V_accuracy: 57.3333 | Early stopping counter: 12 out of 20 | T_time: 00:00:47, T_speed: 20.426\n",
      "[Epoch 990] T_loss: 0.68217, T_accuracy: 54.7362 | V_loss: 0.70704, V_accuracy: 56.6667 | Early stopping counter: 13 out of 20 | T_time: 00:00:48, T_speed: 20.625\n",
      "[Epoch 1020] T_loss: 0.68306, T_accuracy: 54.3676 | V_loss: 0.71644, V_accuracy: 57.3333 | Early stopping counter: 14 out of 20 | T_time: 00:00:50, T_speed: 20.400\n",
      "[Epoch 1050] T_loss: 0.68192, T_accuracy: 54.4243 | V_loss: 0.71557, V_accuracy: 58.6667 | Early stopping counter: 15 out of 20 | T_time: 00:00:51, T_speed: 20.588\n",
      "[Epoch 1080] T_loss: 0.68077, T_accuracy: 54.7079 | V_loss: 0.72315, V_accuracy: 58.0000 | Early stopping counter: 16 out of 20 | T_time: 00:00:53, T_speed: 20.377\n",
      "[Epoch 1110] T_loss: 0.68101, T_accuracy: 54.9348 | V_loss: 0.72324, V_accuracy: 58.0000 | Early stopping counter: 17 out of 20 | T_time: 00:00:54, T_speed: 20.556\n",
      "[Epoch 1140] T_loss: 0.68033, T_accuracy: 54.7646 | V_loss: 0.72824, V_accuracy: 57.3333 | Early stopping counter: 18 out of 20 | T_time: 00:00:56, T_speed: 20.357\n",
      "[Epoch 1170] T_loss: 0.68127, T_accuracy: 54.6512 | V_loss: 0.72511, V_accuracy: 56.6667 | Early stopping counter: 19 out of 20 | T_time: 00:00:57, T_speed: 20.526\n",
      "[Epoch 1200] T_loss: 0.68056, T_accuracy: 54.7646 | V_loss: 0.73754, V_accuracy: 58.0000 | Early stopping counter: 20 out of 20 *** TRAIN EARLY STOPPED! *** | T_time: 00:00:59, T_speed: 20.339\n",
      "Final training time: 00:00:59\n"
     ]
    },
    {
     "data": {
      "text/html": [
       "<style>\n",
       "    table.wandb td:nth-child(1) { padding: 0 10px; text-align: left ; width: auto;} td:nth-child(2) {text-align: left ; width: 100%}\n",
       "    .wandb-row { display: flex; flex-direction: row; flex-wrap: wrap; justify-content: flex-start; width: 100% }\n",
       "    .wandb-col { display: flex; flex-direction: column; flex-basis: 100%; flex: 1; padding: 10px; }\n",
       "    </style>\n",
       "<div class=\"wandb-row\"><div class=\"wandb-col\"><h3>Run history:</h3><br/><table class=\"wandb\"><tr><td>Epoch</td><td>▁▁▁▂▂▂▂▂▂▃▃▃▃▃▃▄▄▄▄▄▄▅▅▅▅▅▆▆▆▆▆▆▇▇▇▇▇▇██</td></tr><tr><td>Training accuracy (%)</td><td>▁▃▁▂▂▂▃▃▄▃▃▃▃▅▅▄▄▅▅▅▆▅▆▅▅▆▆▅▅▆▆▅▇▇▆▆▇█▇▇</td></tr><tr><td>Training loss</td><td>█▇▇▇▇▇▇▇▆▆▆▆▆▆▆▆▅▅▅▅▄▄▄▄▄▃▃▃▃▃▃▃▂▂▃▂▁▁▁▁</td></tr><tr><td>Training speed (epochs/sec.)</td><td>▁██▆▇▆▆▆▆▆▆▆▆▆▆▆▆▆▆▆▆▆▆▆▆▆▆▆▆▆▆▆▆▆▆▆▆▆▆▆</td></tr><tr><td>Validation accuracy (%)</td><td>▅▁▁▁▁▂▂▂▂▃▃▃▃▂▅▇▃▆▆▅▆▇▇███▇▇▇█▆▆▇▇▇███▇█</td></tr><tr><td>Validation loss</td><td>▂▂▂▂▂▂▂▂▂▂▂▂▂▂▂▂▂▁▁▁▁▁▁▁▁▁▂▂▃▃▃▄▄▄▅▅▆▆▇█</td></tr></table><br/></div><div class=\"wandb-col\"><h3>Run summary:</h3><br/><table class=\"wandb\"><tr><td>Epoch</td><td>1200</td></tr><tr><td>Training accuracy (%)</td><td>54.76461</td></tr><tr><td>Training loss</td><td>0.68056</td></tr><tr><td>Training speed (epochs/sec.)</td><td>20.33898</td></tr><tr><td>Validation accuracy (%)</td><td>58</td></tr><tr><td>Validation loss</td><td>0.73754</td></tr></table><br/></div></div>"
      ],
      "text/plain": [
       "<IPython.core.display.HTML object>"
      ]
     },
     "metadata": {},
     "output_type": "display_data"
    },
    {
     "data": {
      "text/html": [
       " View run <strong style=\"color:#cdcd00\">2024-12-17_17-04-53</strong> at: <a href='https://wandb.ai/cudje-cudje/lstm_classification_btc_krw/runs/n9nloiy9' target=\"_blank\">https://wandb.ai/cudje-cudje/lstm_classification_btc_krw/runs/n9nloiy9</a><br/> View project at: <a href='https://wandb.ai/cudje-cudje/lstm_classification_btc_krw' target=\"_blank\">https://wandb.ai/cudje-cudje/lstm_classification_btc_krw</a><br/>Synced 5 W&B file(s), 0 media file(s), 0 artifact file(s) and 0 other file(s)"
      ],
      "text/plain": [
       "<IPython.core.display.HTML object>"
      ]
     },
     "metadata": {},
     "output_type": "display_data"
    },
    {
     "data": {
      "text/html": [
       "Find logs at: <code>./wandb/run-20241217_170453-n9nloiy9/logs</code>"
      ],
      "text/plain": [
       "<IPython.core.display.HTML object>"
      ]
     },
     "metadata": {},
     "output_type": "display_data"
    }
   ],
   "source": [
    "run_time_str = datetime.now().astimezone().strftime('%Y-%m-%d_%H-%M-%S')\n",
    "\n",
    "project_name = \"lstm_classification_btc_krw\"\n",
    "wandb.init(\n",
    "  mode=\"online\" if args.wandb else \"disabled\",\n",
    "  project=project_name,\n",
    "  notes=\"btc_krw experiment with lstm\",\n",
    "  tags=[\"lstm\", \"classification\", \"btc_krw\"],\n",
    "  name=run_time_str,\n",
    "  config=config\n",
    ")\n",
    "print(args)\n",
    "print(wandb.config)\n",
    "\n",
    "device = torch.device(\"cuda:0\" if torch.cuda.is_available() else \"cpu\")\n",
    "print(f\"Training on device {device}.\")\n",
    "\n",
    "model = get_my_model(n_input=6, n_output=2)\n",
    "model.to(device)\n",
    "\n",
    "optimizer = optim.Adam(model.parameters(), lr=wandb.config.learning_rate, weight_decay=wandb.config.weight_decay)\n",
    "\n",
    "classification_trainer = ClassificationTrainer(\n",
    "  project_name, model, optimizer, btrain_data_loader, bvalidation_data_loader, None,\n",
    "  run_time_str, wandb, device, CHECKPOINT_FILE_PATH\n",
    ")\n",
    "classification_trainer.train_loop()\n",
    "\n",
    "wandb.finish()"
   ]
  },
  {
   "cell_type": "code",
   "execution_count": 20,
   "metadata": {},
   "outputs": [
    {
     "name": "stdout",
     "output_type": "stream",
     "text": [
      "MODEL FILE: ./_01_code/_15_lstm_and_its_application/checkpoints/lstm_classification_btc_krw_checkpoint_latest.pt\n",
      "[TEST DATA]\n",
      "TEST RESULTS: 46.667%\n",
      " 0:   0.00 <-->   1.00\n",
      " 1:   0.00 <-->   0.00\n",
      " 2:   1.00 <-->   1.00\n",
      " 3:   1.00 <-->   1.00\n",
      " 4:   0.00 <-->   0.00\n",
      " 5:   1.00 <-->   1.00\n",
      " 6:   1.00 <-->   1.00\n",
      " 7:   0.00 <-->   1.00\n",
      " 8:   0.00 <-->   0.00\n",
      " 9:   0.00 <-->   0.00\n",
      "10:   1.00 <-->   0.00\n",
      "11:   0.00 <-->   0.00\n",
      "12:   0.00 <-->   0.00\n",
      "13:   1.00 <-->   0.00\n",
      "14:   1.00 <-->   1.00\n",
      "15:   0.00 <-->   1.00\n",
      "16:   0.00 <-->   1.00\n",
      "17:   1.00 <-->   0.00\n",
      "18:   0.00 <-->   0.00\n",
      "19:   0.00 <-->   1.00\n",
      "20:   0.00 <-->   1.00\n",
      "21:   1.00 <-->   1.00\n",
      "22:   0.00 <-->   1.00\n",
      "23:   0.00 <-->   1.00\n",
      "24:   1.00 <-->   0.00\n",
      "25:   1.00 <-->   0.00\n",
      "26:   0.00 <-->   1.00\n",
      "27:   0.00 <-->   0.00\n",
      "28:   1.00 <-->   0.00\n",
      "29:   1.00 <-->   0.00\n"
     ]
    },
    {
     "name": "stderr",
     "output_type": "stream",
     "text": [
      "/home/cuj/Python/environments/lib/python3.10/site-packages/torch/nn/modules/rnn.py:88: UserWarning: dropout option adds dropout after all but last recurrent layer, so non-zero dropout expects num_layers greater than 1, but got dropout=0.4 and num_layers=1\n",
      "  warnings.warn(\"dropout option adds dropout after all but last \"\n",
      "/tmp/ipykernel_194393/2928875446.py:47: FutureWarning: You are using `torch.load` with `weights_only=False` (the current default value), which uses the default pickle module implicitly. It is possible to construct malicious pickle data which will execute arbitrary code during unpickling (See https://github.com/pytorch/pytorch/blob/main/SECURITY.md#untrusted-models for more details). In a future release, the default value for `weights_only` will be flipped to `True`. This limits the functions that could be executed during unpickling. Arbitrary objects will no longer be allowed to be loaded via this mode unless they are explicitly allowlisted by the user via `torch.serialization.add_safe_globals`. We recommend you start setting `weights_only=True` for any use case where you don't have full control of the loaded file. Please open an issue on GitHub for any issues related to this experimental feature.\n",
      "  test_model.load_state_dict(torch.load(latest_file_path, map_location=torch.device('cpu')))\n"
     ]
    }
   ],
   "source": [
    "def test(test_model):\n",
    "  test_model.eval()\n",
    "\n",
    "  num_corrects_test = 0\n",
    "  num_tested_samples = 0\n",
    "\n",
    "  print(\"[TEST DATA]\")\n",
    "  with torch.no_grad():\n",
    "    for test_batch in btest_data_loader:\n",
    "      input_test, target_test = test_batch\n",
    "\n",
    "      output_test = test_model(input_test)\n",
    "\n",
    "      predicted_test = torch.argmax(output_test, dim=1)\n",
    "      num_corrects_test += torch.sum(torch.eq(predicted_test, target_test))\n",
    "\n",
    "      num_tested_samples += len(input_test)\n",
    "\n",
    "    test_accuracy = 100.0 * num_corrects_test / num_tested_samples\n",
    "\n",
    "    print(f\"TEST RESULTS: {test_accuracy:6.3f}%\")\n",
    "\n",
    "    for idx, (output, target) in enumerate(zip(output_test, target_test)):\n",
    "      print(\"{0:2}: {1:6,.2f} <--> {2:6,.2f}\".format(\n",
    "        idx, torch.argmax(output).item(), target.item()\n",
    "      ))\n",
    "\n",
    "\n",
    "run_time_str = datetime.now().astimezone().strftime('%Y-%m-%d_%H-%M-%S')\n",
    "\n",
    "project_name = \"lstm_classification_btc_krw\"\n",
    "wandb.init(\n",
    "  mode=\"disabled\",\n",
    "  project=project_name,\n",
    "  notes=\"btc_krw experiment with lstm\",\n",
    "  tags=[\"lstm\", \"regression\", \"btc_krw\"],\n",
    "  name=run_time_str,\n",
    "  config=config\n",
    ")\n",
    "\n",
    "test_model = get_my_model(n_input=6, n_output=2)\n",
    "\n",
    "latest_file_path = os.path.join(\n",
    "  CHECKPOINT_FILE_PATH, f\"{project_name}_checkpoint_latest.pt\"\n",
    ")\n",
    "print(\"MODEL FILE: {0}\".format(latest_file_path))\n",
    "test_model.load_state_dict(torch.load(latest_file_path, map_location=torch.device('cpu')))\n",
    "\n",
    "test(test_model)"
   ]
  },
  {
   "cell_type": "markdown",
   "metadata": {},
   "source": [
    "### 성능 변화\n",
    "Regression의 성능은 크게 달라진 점이 없으나 기울기가 완만해지는 것을 육안으로 확인할 수 있었음\\\n",
    "Classification의 성능은 46.7% -> 46.7%로 변화 없음\\\n",
    "\n",
    "성능 변화에 큰 차이가 없는 것은 데이터셋의 \"next_open\"과 \"close\" 피처간의 큰 차이가 없어 학습에 도움이 되지 않은 것이라고 생각함"
   ]
  },
  {
   "cell_type": "markdown",
   "metadata": {},
   "source": [
    "## 숙제 후기\n",
    "이번 과제를 통해 lstm을 활용하여 bitcoin 가격을 유추하는 모델을 만들어 볼 수 있었습니다.\\\n",
    "하지만 모델을 개발하는 도중 validation 및 testing 과정에서 모델이 유추한 값과 실제 데이터셋의 있는 값이 비슷하여 놀랐지만\\\n",
    "짧은 기간 동안 가격이 오를지, 내릴지를 예측하거나 정확한 가격을 예측하는 것에는 어려움을 느끼는 것을 보아\\\n",
    "아직은 수정할 사항이 많이 있는 것처럼 느껴졌습니다."
   ]
  }
 ],
 "metadata": {
  "kernelspec": {
   "display_name": "environments",
   "language": "python",
   "name": "python3"
  },
  "language_info": {
   "codemirror_mode": {
    "name": "ipython",
    "version": 3
   },
   "file_extension": ".py",
   "mimetype": "text/x-python",
   "name": "python",
   "nbconvert_exporter": "python",
   "pygments_lexer": "ipython3",
   "version": "3.10.12"
  }
 },
 "nbformat": 4,
 "nbformat_minor": 2
}
