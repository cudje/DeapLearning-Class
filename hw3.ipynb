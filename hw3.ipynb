{
 "cells": [
  {
   "cell_type": "code",
   "execution_count": 6,
   "metadata": {},
   "outputs": [
    {
     "name": "stdout",
     "output_type": "stream",
     "text": [
      ".\n"
     ]
    }
   ],
   "source": [
    "import os\n",
    "import wandb\n",
    "import tqdm\n",
    "import matplotlib.pyplot as plt\n",
    "\n",
    "import torch\n",
    "from torch import nn\n",
    "import torch.nn.functional as F\n",
    "from torch import optim\n",
    "from torch.utils.data import DataLoader, random_split\n",
    "from torchvision import datasets\n",
    "from torchvision.transforms import transforms\n",
    "from torchinfo import summary\n",
    "\n",
    "BASE_PATH = str(os.path.curdir)  # BASE_PATH: /Users/yhhan/git/link_dl\n",
    "print(BASE_PATH)"
   ]
  },
  {
   "cell_type": "markdown",
   "metadata": {},
   "source": [
    "## 문제 1\n",
    "#### Fashion MNIST 데이터 정규화를 위한 Mean과 Std. 값 찾기"
   ]
  },
  {
   "cell_type": "code",
   "execution_count": 7,
   "metadata": {},
   "outputs": [
    {
     "name": "stdout",
     "output_type": "stream",
     "text": [
      "torch.Size([55000, 1, 28, 28])\n",
      "mean : 0.28637078404426575\n",
      "std : 0.3531397879123688\n"
     ]
    }
   ],
   "source": [
    "data_path = os.path.join(BASE_PATH, \"_00_data\", \"j_fashion_mnist\")\n",
    "\n",
    "f_mnist_train = datasets.FashionMNIST(data_path, train=True, download=True, transform=transforms.ToTensor())\n",
    "f_mnist_train, f_mnist_validation = random_split(f_mnist_train, [55_000, 5_000])\n",
    "\n",
    "num_data_loading_workers = 0\n",
    "\n",
    "train_data_loader = DataLoader(\n",
    "    dataset=f_mnist_train, batch_size=999999, shuffle=True,\n",
    "    pin_memory=True, num_workers=num_data_loading_workers\n",
    ")\n",
    "\n",
    "total_train_dataset = next(iter(train_data_loader))[0]\n",
    "\n",
    "\"\"\"\n",
    "문제 1. Fashion MNIST 데이터 정규화를 위한 Mean과 Std. 값 찾기\n",
    "\"\"\"\n",
    "print(total_train_dataset.shape)\n",
    "print(f'mean : {total_train_dataset.mean()}')\n",
    "print(f'std : {total_train_dataset.std()}')"
   ]
  },
  {
   "cell_type": "code",
   "execution_count": 8,
   "metadata": {},
   "outputs": [],
   "source": [
    "def get_fashion_mnist_data():\n",
    "    data_path = os.path.join(BASE_PATH, \"_00_data\", \"j_fashion_mnist\")\n",
    "\n",
    "    f_mnist_train = datasets.FashionMNIST(data_path, train=True, download=True, transform=transforms.ToTensor())\n",
    "    f_mnist_train, f_mnist_validation = random_split(f_mnist_train, [55_000, 5_000])\n",
    "\n",
    "    print(\"Num Train Samples: \", len(f_mnist_train))\n",
    "    print(\"Num Validation Samples: \", len(f_mnist_validation))\n",
    "    print(\"Sample Shape: \", f_mnist_train[0][0].shape)  # torch.Size([1, 28, 28])\n",
    "\n",
    "    num_data_loading_workers = 0#get_num_cpu_cores() if is_linux() or is_windows() else 0\n",
    "    print(\"Number of Data Loading Workers:\", num_data_loading_workers)\n",
    "\n",
    "    train_data_loader = DataLoader(\n",
    "        dataset=f_mnist_train, batch_size=wandb.config.batch_size, shuffle=True,\n",
    "        pin_memory=True, num_workers=num_data_loading_workers, drop_last=True\n",
    "    )\n",
    "\n",
    "    validation_data_loader = DataLoader(\n",
    "        dataset=f_mnist_validation, batch_size=1,\n",
    "        pin_memory=True, num_workers=num_data_loading_workers\n",
    "    )\n",
    "\n",
    "    f_mnist_transforms = nn.Sequential(\n",
    "        transforms.ConvertImageDtype(torch.float),\n",
    "        transforms.Normalize(mean=0.286, std=0.353),\n",
    "    )\n",
    "\n",
    "    return train_data_loader, validation_data_loader, f_mnist_transforms\n",
    "\n",
    "\n",
    "def get_fashion_mnist_test_data():\n",
    "    data_path = os.path.join(BASE_PATH, \"_00_data\", \"j_fashion_mnist\")\n",
    "\n",
    "    f_mnist_test_images = datasets.FashionMNIST(data_path, train=False, download=True)\n",
    "    f_mnist_test = datasets.FashionMNIST(data_path, train=False, download=True, transform=transforms.ToTensor())\n",
    "\n",
    "    print(\"Num Test Samples: \", len(f_mnist_test))\n",
    "    print(\"Sample Shape: \", f_mnist_test[0][0].shape)  # torch.Size([1, 28, 28])\n",
    "\n",
    "    test_data_loader = DataLoader(dataset=f_mnist_test, batch_size=1)\n",
    "\n",
    "    f_mnist_transforms = nn.Sequential(\n",
    "        transforms.ConvertImageDtype(torch.float),\n",
    "        transforms.Normalize(mean=0.286, std=0.353),\n",
    "    )\n",
    "\n",
    "    return f_mnist_test_images, test_data_loader, f_mnist_transforms"
   ]
  },
  {
   "cell_type": "markdown",
   "metadata": {},
   "source": [
    "## 문제 2\n",
    "#### Fashion MNIST 데이터에 대하여 CNN 학습시키기\n",
    "##### lr=7e-2, activate_func='LeakyReLU', optim='SGD', BatchSize=128, Epochs=20"
   ]
  },
  {
   "cell_type": "code",
   "execution_count": 9,
   "metadata": {},
   "outputs": [],
   "source": [
    "# 3x3, 5x5, 7x7 conv 레이어 중 2개와 입력 feature를 concated하고 채널을 맞추기 위해 1x1 conv를 통과시킨 입력 피처를 더함으로써 모델 구성\n",
    "class MyModel(nn.Module):\n",
    "    def __init__(self, in_channels, n_output, transform = None, middle_linear = 512):\n",
    "        super().__init__()\n",
    "\n",
    "        self.transform = transform\n",
    "\n",
    "        current_in_channels = in_channels\n",
    "        layers = []\n",
    "        i = 0\n",
    "        for val in wandb.config.feature_layers:\n",
    "            remain = val - current_in_channels\n",
    "            out1 = remain // 3\n",
    "            out2 = out1 * 2\n",
    "            conv33 = nn.Conv2d(in_channels=current_in_channels, out_channels=out2, kernel_size=(3, 3), stride=1, padding='same')\n",
    "            convs55 = nn.Conv2d(in_channels=current_in_channels, out_channels=out2, kernel_size=(5, 5), stride=1, padding='same')\n",
    "            conv55 = nn.Conv2d(in_channels=current_in_channels, out_channels=out1, kernel_size=(5, 5), stride=1, padding='same')\n",
    "            conv77 = nn.Conv2d(in_channels=current_in_channels, out_channels=out1, kernel_size=(7, 7), stride=1, padding='same')\n",
    "            \n",
    "            if i % 3 == 0:\n",
    "                layers.append(BranchConv(conv33, conv55, current_in_channels, val))\n",
    "                layers.append(nn.LeakyReLU(negative_slope=0.01))\n",
    "            elif i % 3 == 1:\n",
    "                layers.append(BranchConv(conv33, conv77, current_in_channels, val))\n",
    "                layers.append(nn.LeakyReLU(negative_slope=0.01))\n",
    "            else:\n",
    "                layers.append(BranchConv(convs55, conv77, current_in_channels, val))\n",
    "                layers.append(nn.LeakyReLU(negative_slope=0.01))\n",
    "                layers.append(nn.MaxPool2d(kernel_size=(2, 2)))\n",
    "            \n",
    "            current_in_channels = val\n",
    "\n",
    "            layers.append(nn.BatchNorm2d(num_features=current_in_channels))\n",
    "\n",
    "            i += 1\n",
    "\n",
    "        self.model = nn.Sequential(\n",
    "            nn.Sequential(*layers),\n",
    "            nn.Flatten(),\n",
    "            nn.Linear(current_in_channels * (28*28)//(4**(len(wandb.config.feature_layers)//3)), middle_linear),\n",
    "            nn.LeakyReLU(negative_slope=0.01),\n",
    "            nn.BatchNorm1d(middle_linear),\n",
    "            nn.Linear(middle_linear, n_output),\n",
    "        )\n",
    "\n",
    "    def forward(self, x):\n",
    "        if self.transform:\n",
    "            x = self.transform(x)\n",
    "        \n",
    "        x = self.model(x)\n",
    "        return x\n",
    "    \n",
    "class BranchConv(nn.Module):\n",
    "    def __init__(self, conv1, conv2, in_channel, val):\n",
    "        super(BranchConv, self).__init__()\n",
    "        self.conv1 = conv1\n",
    "        self.conv2 = conv2\n",
    "        self.resconv = nn.Conv2d(in_channels=in_channel, out_channels=val, kernel_size=(1, 1), stride=1, padding='same')\n",
    "    \n",
    "    def forward(self, x):\n",
    "        out1 = self.conv1(x)\n",
    "        out2 = self.conv2(x)\n",
    "        concat = torch.cat((x, out1, out2), dim=1)\n",
    "        x = self.resconv(x)\n",
    "\n",
    "        return concat + x"
   ]
  },
  {
   "cell_type": "code",
   "execution_count": 8,
   "metadata": {},
   "outputs": [
    {
     "name": "stderr",
     "output_type": "stream",
     "text": [
      "\u001b[34m\u001b[1mwandb\u001b[0m: Logging into wandb.ai. (Learn how to deploy a W&B server locally: https://wandb.me/wandb-server)\n",
      "\u001b[34m\u001b[1mwandb\u001b[0m: You can find your API key in your browser here: https://wandb.ai/authorize\n",
      "\u001b[34m\u001b[1mwandb\u001b[0m: Paste an API key from your profile and hit enter, or press ctrl+c to quit:\u001b[34m\u001b[1mwandb\u001b[0m: Appending key for api.wandb.ai to your netrc file: /home/cuj/.netrc\n"
     ]
    },
    {
     "data": {
      "text/plain": [
       "True"
      ]
     },
     "execution_count": 8,
     "metadata": {},
     "output_type": "execute_result"
    }
   ],
   "source": [
    "wandb.login()"
   ]
  },
  {
   "cell_type": "code",
   "execution_count": 12,
   "metadata": {},
   "outputs": [
    {
     "data": {
      "text/html": [
       "Tracking run with wandb version 0.18.2"
      ],
      "text/plain": [
       "<IPython.core.display.HTML object>"
      ]
     },
     "metadata": {},
     "output_type": "display_data"
    },
    {
     "data": {
      "text/html": [
       "Run data is saved locally in <code>/home/cuj/Python/deeplearning_hw3/wandb/run-20241119_193144-8syttnvl</code>"
      ],
      "text/plain": [
       "<IPython.core.display.HTML object>"
      ]
     },
     "metadata": {},
     "output_type": "display_data"
    },
    {
     "data": {
      "text/html": [
       "Syncing run <strong><a href='https://wandb.ai/cudje-cudje/homework_3%20CNN/runs/8syttnvl' target=\"_blank\">jolly-serenity-4</a></strong> to <a href='https://wandb.ai/cudje-cudje/homework_3%20CNN' target=\"_blank\">Weights & Biases</a> (<a href='https://wandb.me/run' target=\"_blank\">docs</a>)<br/>"
      ],
      "text/plain": [
       "<IPython.core.display.HTML object>"
      ]
     },
     "metadata": {},
     "output_type": "display_data"
    },
    {
     "data": {
      "text/html": [
       " View project at <a href='https://wandb.ai/cudje-cudje/homework_3%20CNN' target=\"_blank\">https://wandb.ai/cudje-cudje/homework_3%20CNN</a>"
      ],
      "text/plain": [
       "<IPython.core.display.HTML object>"
      ]
     },
     "metadata": {},
     "output_type": "display_data"
    },
    {
     "data": {
      "text/html": [
       " View run at <a href='https://wandb.ai/cudje-cudje/homework_3%20CNN/runs/8syttnvl' target=\"_blank\">https://wandb.ai/cudje-cudje/homework_3%20CNN/runs/8syttnvl</a>"
      ],
      "text/plain": [
       "<IPython.core.display.HTML object>"
      ]
     },
     "metadata": {},
     "output_type": "display_data"
    },
    {
     "name": "stdout",
     "output_type": "stream",
     "text": [
      "Num Train Samples:  55000\n",
      "Num Validation Samples:  5000\n",
      "Sample Shape:  torch.Size([1, 28, 28])\n",
      "Number of Data Loading Workers: 0\n",
      "Num Test Samples:  10000\n",
      "Sample Shape:  torch.Size([1, 28, 28])\n"
     ]
    },
    {
     "name": "stderr",
     "output_type": "stream",
     "text": [
      "Training Epoch 1/20: 100%|██████████| 429/429 [00:12<00:00, 33.32it/s, Loss=0.0025]\n",
      "Evaluation Epoch 1/20: 100%|██████████| 5000/5000 [00:11<00:00, 416.69it/s, Accuracy=90.16%]\n",
      "Training Epoch 2/20: 100%|██████████| 429/429 [00:12<00:00, 33.13it/s, Loss=0.0014]\n",
      "Evaluation Epoch 2/20: 100%|██████████| 5000/5000 [00:12<00:00, 404.71it/s, Accuracy=92.18%]\n",
      "Training Epoch 3/20: 100%|██████████| 429/429 [00:12<00:00, 33.14it/s, Loss=0.0010]\n",
      "Evaluation Epoch 3/20: 100%|██████████| 5000/5000 [00:12<00:00, 401.26it/s, Accuracy=92.48%]\n",
      "Training Epoch 4/20: 100%|██████████| 429/429 [00:12<00:00, 33.23it/s, Loss=0.0007]\n",
      "Evaluation Epoch 4/20: 100%|██████████| 5000/5000 [00:11<00:00, 421.78it/s, Accuracy=92.94%]\n",
      "Training Epoch 5/20: 100%|██████████| 429/429 [00:12<00:00, 33.25it/s, Loss=0.0004]\n",
      "Evaluation Epoch 5/20: 100%|██████████| 5000/5000 [00:11<00:00, 431.00it/s, Accuracy=93.30%]\n",
      "Training Epoch 6/20: 100%|██████████| 429/429 [00:12<00:00, 33.29it/s, Loss=0.0002]\n",
      "Evaluation Epoch 6/20: 100%|██████████| 5000/5000 [00:11<00:00, 417.17it/s, Accuracy=92.42%]\n",
      "Training Epoch 7/20: 100%|██████████| 429/429 [00:12<00:00, 33.25it/s, Loss=0.0001]\n",
      "Evaluation Epoch 7/20: 100%|██████████| 5000/5000 [00:12<00:00, 407.86it/s, Accuracy=93.06%]\n",
      "Training Epoch 8/20: 100%|██████████| 429/429 [00:13<00:00, 32.92it/s, Loss=0.0001]\n",
      "Evaluation Epoch 8/20: 100%|██████████| 5000/5000 [00:12<00:00, 408.42it/s, Accuracy=93.74%]\n",
      "Training Epoch 9/20: 100%|██████████| 429/429 [00:13<00:00, 32.97it/s, Loss=0.0000]\n",
      "Evaluation Epoch 9/20: 100%|██████████| 5000/5000 [00:12<00:00, 409.22it/s, Accuracy=93.60%]\n",
      "Training Epoch 10/20: 100%|██████████| 429/429 [00:13<00:00, 32.69it/s, Loss=0.0000]\n",
      "Evaluation Epoch 10/20: 100%|██████████| 5000/5000 [00:12<00:00, 406.22it/s, Accuracy=93.96%]\n",
      "Training Epoch 11/20: 100%|██████████| 429/429 [00:12<00:00, 33.29it/s, Loss=0.0000]\n",
      "Evaluation Epoch 11/20: 100%|██████████| 5000/5000 [00:12<00:00, 411.61it/s, Accuracy=94.12%]\n",
      "Training Epoch 12/20: 100%|██████████| 429/429 [00:13<00:00, 32.98it/s, Loss=0.0000]\n",
      "Evaluation Epoch 12/20: 100%|██████████| 5000/5000 [00:11<00:00, 440.47it/s, Accuracy=93.94%]\n",
      "Training Epoch 13/20: 100%|██████████| 429/429 [00:12<00:00, 33.19it/s, Loss=0.0000]\n",
      "Evaluation Epoch 13/20: 100%|██████████| 5000/5000 [00:12<00:00, 414.13it/s, Accuracy=93.98%]\n",
      "Training Epoch 14/20: 100%|██████████| 429/429 [00:12<00:00, 33.29it/s, Loss=0.0000]\n",
      "Evaluation Epoch 14/20: 100%|██████████| 5000/5000 [00:12<00:00, 401.35it/s, Accuracy=94.10%]\n",
      "Training Epoch 15/20: 100%|██████████| 429/429 [00:12<00:00, 33.11it/s, Loss=0.0000]\n",
      "Evaluation Epoch 15/20: 100%|██████████| 5000/5000 [00:12<00:00, 405.59it/s, Accuracy=94.06%]\n",
      "Training Epoch 16/20: 100%|██████████| 429/429 [00:12<00:00, 33.11it/s, Loss=0.0000]\n",
      "Evaluation Epoch 16/20: 100%|██████████| 5000/5000 [00:12<00:00, 406.28it/s, Accuracy=94.02%]\n",
      "Training Epoch 17/20: 100%|██████████| 429/429 [00:12<00:00, 33.13it/s, Loss=0.0000]\n",
      "Evaluation Epoch 17/20: 100%|██████████| 5000/5000 [00:12<00:00, 411.16it/s, Accuracy=94.08%]\n",
      "Training Epoch 18/20: 100%|██████████| 429/429 [00:12<00:00, 33.09it/s, Loss=0.0000]\n",
      "Evaluation Epoch 18/20: 100%|██████████| 5000/5000 [00:12<00:00, 408.82it/s, Accuracy=94.16%]\n",
      "Training Epoch 19/20: 100%|██████████| 429/429 [00:12<00:00, 33.36it/s, Loss=0.0000]\n",
      "Evaluation Epoch 19/20: 100%|██████████| 5000/5000 [00:11<00:00, 430.03it/s, Accuracy=94.12%]\n",
      "Training Epoch 20/20: 100%|██████████| 429/429 [00:12<00:00, 33.45it/s, Loss=0.0000]\n",
      "Evaluation Epoch 20/20: 100%|██████████| 5000/5000 [00:11<00:00, 419.27it/s, Accuracy=94.20%]\n"
     ]
    },
    {
     "data": {
      "text/html": [
       "<style>\n",
       "    table.wandb td:nth-child(1) { padding: 0 10px; text-align: left ; width: auto;} td:nth-child(2) {text-align: left ; width: 100%}\n",
       "    .wandb-row { display: flex; flex-direction: row; flex-wrap: wrap; justify-content: flex-start; width: 100% }\n",
       "    .wandb-col { display: flex; flex-direction: column; flex-basis: 100%; flex: 1; padding: 10px; }\n",
       "    </style>\n",
       "<div class=\"wandb-row\"><div class=\"wandb-col\"><h3>Run history:</h3><br/><table class=\"wandb\"><tr><td>Training Accuracy</td><td>▁▄▅▆▇▇██████████████</td></tr><tr><td>Training Loss</td><td>█▅▄▃▂▂▁▁▁▁▁▁▁▁▁▁▁▁▁▁</td></tr><tr><td>Validation Accuracy</td><td>▁▅▅▆▆▅▆▇▇███████████</td></tr><tr><td>Validation Loss</td><td>▆▁▁▁▃▆▆▅▇▆▆▆▇▇▇▇▇███</td></tr></table><br/></div><div class=\"wandb-col\"><h3>Run summary:</h3><br/><table class=\"wandb\"><tr><td>Training Accuracy</td><td>100</td></tr><tr><td>Training Loss</td><td>0.0</td></tr><tr><td>Validation Accuracy</td><td>94.2</td></tr><tr><td>Validation Loss</td><td>0.28317</td></tr></table><br/></div></div>"
      ],
      "text/plain": [
       "<IPython.core.display.HTML object>"
      ]
     },
     "metadata": {},
     "output_type": "display_data"
    },
    {
     "data": {
      "text/html": [
       " View run <strong style=\"color:#cdcd00\">jolly-serenity-4</strong> at: <a href='https://wandb.ai/cudje-cudje/homework_3%20CNN/runs/8syttnvl' target=\"_blank\">https://wandb.ai/cudje-cudje/homework_3%20CNN/runs/8syttnvl</a><br/> View project at: <a href='https://wandb.ai/cudje-cudje/homework_3%20CNN' target=\"_blank\">https://wandb.ai/cudje-cudje/homework_3%20CNN</a><br/>Synced 5 W&B file(s), 0 media file(s), 0 artifact file(s) and 0 other file(s)"
      ],
      "text/plain": [
       "<IPython.core.display.HTML object>"
      ]
     },
     "metadata": {},
     "output_type": "display_data"
    },
    {
     "data": {
      "text/html": [
       "Find logs at: <code>./wandb/run-20241119_193144-8syttnvl/logs</code>"
      ],
      "text/plain": [
       "<IPython.core.display.HTML object>"
      ]
     },
     "metadata": {},
     "output_type": "display_data"
    }
   ],
   "source": [
    "do_eval = True\n",
    "config = {'batch_size': 128, 'learning_rate': 7e-2, 'epochs': 20, 'feature_layers':[49, 73, 85, 181, 229, 253]}\n",
    "wandb.init(project='homework_3 CNN', config=config)\n",
    "\n",
    "train_data_loader, validation_data_loader, f_mnist_transforms = get_fashion_mnist_data()\n",
    "f_mnist_test_images, test_data_loader, f_mnist_transforms = get_fashion_mnist_test_data()\n",
    "\n",
    "device = torch.device(\"cuda:0\" if torch.cuda.is_available() else \"cpu\")\n",
    "\n",
    "model = MyModel(in_channels=1, n_output=10, transform=f_mnist_transforms, middle_linear=512)\n",
    "model = model.to(device)\n",
    "\n",
    "optimizer = optim.SGD(model.parameters(), lr=wandb.config.learning_rate)\n",
    "loss_fn = nn.CrossEntropyLoss()\n",
    "\n",
    "# Training 시작\n",
    "for epoch in range(config['epochs']):\n",
    "    # Training\n",
    "    correct = 0\n",
    "    sumloss = 0\n",
    "    total = 0\n",
    "    model.train()\n",
    "    pbar = tqdm.tqdm(train_data_loader, desc=f\"Training Epoch {epoch + 1}/{config['epochs']}\")\n",
    "    for data, targets in pbar:\n",
    "        outputs = model(data.to(device))\n",
    "        loss = loss_fn(outputs, targets.to(device))\n",
    "        _, predicted = outputs.max(1)\n",
    "\n",
    "        optimizer.zero_grad()\n",
    "        loss.backward()\n",
    "        optimizer.step()\n",
    "        \n",
    "        correct += (predicted.detach().cpu() == targets).sum().item()\n",
    "        sumloss += loss.item()\n",
    "        total += wandb.config.batch_size\n",
    "        accuracy = correct / total\n",
    "\n",
    "        pbar.set_postfix({\"Loss\": f\"{sumloss / total:.4f}\"})\n",
    "    wandb.log({\n",
    "        \"Training Loss\": sumloss / total,\n",
    "        \"Training Accuracy\": accuracy * 100\n",
    "    })\n",
    "\n",
    "    if not do_eval: continue\n",
    "    # Evaluate\n",
    "    correct = 0\n",
    "    sumloss = 0\n",
    "    total = 0\n",
    "    with torch.no_grad():\n",
    "        model.eval()\n",
    "        pbar = tqdm.tqdm(validation_data_loader, desc=f\"Evaluation Epoch {epoch + 1}/{config['epochs']}\")\n",
    "        for data, targets in pbar:\n",
    "            outputs = model(data.to(device))\n",
    "            loss = loss_fn(outputs, targets.to(device))\n",
    "            _, predicted = outputs.max(1)\n",
    "\n",
    "            correct += (predicted.detach().cpu() == targets).sum().item()\n",
    "            sumloss += loss.item()\n",
    "            total += 1\n",
    "            accuracy = correct / total\n",
    "\n",
    "            pbar.set_postfix({\"Accuracy\": f\"{accuracy * 100:.2f}%\"})\n",
    "        wandb.log({\n",
    "            \"Validation Loss\": sumloss / total,\n",
    "            \"Validation Accuracy\": accuracy * 100\n",
    "        })\n",
    "wandb.finish()"
   ]
  },
  {
   "cell_type": "code",
   "execution_count": 15,
   "metadata": {},
   "outputs": [
    {
     "data": {
      "text/plain": [
       "==========================================================================================\n",
       "Layer (type:depth-idx)                   Output Shape              Param #\n",
       "==========================================================================================\n",
       "MyModel                                  [1, 10]                   --\n",
       "├─Sequential: 1-1                        [1, 1, 28, 28]            --\n",
       "│    └─ConvertImageDtype: 2-1            [1, 1, 28, 28]            --\n",
       "│    └─Normalize: 2-2                    [1, 1, 28, 28]            --\n",
       "├─Sequential: 1-2                        [1, 10]                   --\n",
       "│    └─Sequential: 2-3                   [1, 253, 7, 7]            --\n",
       "│    │    └─BranchConv: 3-1              [1, 49, 28, 28]           834\n",
       "│    │    └─LeakyReLU: 3-2               [1, 49, 28, 28]           --\n",
       "│    │    └─BatchNorm2d: 3-3             [1, 49, 28, 28]           98\n",
       "│    │    └─BranchConv: 3-4              [1, 73, 28, 28]           29,938\n",
       "│    │    └─LeakyReLU: 3-5               [1, 73, 28, 28]           --\n",
       "│    │    └─BatchNorm2d: 3-6             [1, 73, 28, 28]           146\n",
       "│    │    └─BranchConv: 3-7              [1, 85, 28, 28]           35,210\n",
       "│    │    └─LeakyReLU: 3-8               [1, 85, 28, 28]           --\n",
       "│    │    └─MaxPool2d: 3-9               [1, 85, 14, 14]           --\n",
       "│    │    └─BatchNorm2d: 3-10            [1, 85, 14, 14]           170\n",
       "│    │    └─BranchConv: 3-11             [1, 181, 14, 14]          132,622\n",
       "│    │    └─LeakyReLU: 3-12              [1, 181, 14, 14]          --\n",
       "│    │    └─BatchNorm2d: 3-13            [1, 181, 14, 14]          362\n",
       "│    │    └─BranchConv: 3-14             [1, 229, 14, 14]          235,758\n",
       "│    │    └─LeakyReLU: 3-15              [1, 229, 14, 14]          --\n",
       "│    │    └─BatchNorm2d: 3-16            [1, 229, 14, 14]          458\n",
       "│    │    └─BranchConv: 3-17             [1, 253, 14, 14]          239,582\n",
       "│    │    └─LeakyReLU: 3-18              [1, 253, 14, 14]          --\n",
       "│    │    └─MaxPool2d: 3-19              [1, 253, 7, 7]            --\n",
       "│    │    └─BatchNorm2d: 3-20            [1, 253, 7, 7]            506\n",
       "│    └─Flatten: 2-4                      [1, 12397]                --\n",
       "│    └─Linear: 2-5                       [1, 512]                  6,347,776\n",
       "│    └─LeakyReLU: 2-6                    [1, 512]                  --\n",
       "│    └─BatchNorm1d: 2-7                  [1, 512]                  1,024\n",
       "│    └─Linear: 2-8                       [1, 10]                   5,130\n",
       "==========================================================================================\n",
       "Total params: 7,029,614\n",
       "Trainable params: 7,029,614\n",
       "Non-trainable params: 0\n",
       "Total mult-adds (M): 177.25\n",
       "==========================================================================================\n",
       "Input size (MB): 0.00\n",
       "Forward/backward pass size (MB): 4.78\n",
       "Params size (MB): 28.12\n",
       "Estimated Total Size (MB): 32.90\n",
       "=========================================================================================="
      ]
     },
     "execution_count": 15,
     "metadata": {},
     "output_type": "execute_result"
    }
   ],
   "source": [
    "# torchinfo 모듈을 사용한 모델 구조 출력\n",
    "summary(model, input_size=(1, 1, 28, 28))"
   ]
  },
  {
   "cell_type": "markdown",
   "metadata": {},
   "source": [
    "## 문제 3\n",
    "#### 학습 완료된 모델로 테스트 데이터 Accuracy 확인하기"
   ]
  },
  {
   "cell_type": "code",
   "execution_count": 16,
   "metadata": {},
   "outputs": [
    {
     "name": "stderr",
     "output_type": "stream",
     "text": [
      "Testing Epoch 1/1: 100%|██████████| 10000/10000 [00:22<00:00, 451.40it/s, Accuracy=93.61%]\n"
     ]
    }
   ],
   "source": [
    "#Testing\n",
    "correct = 0\n",
    "total = 0\n",
    "with torch.no_grad():\n",
    "    model.eval()\n",
    "    pbar = tqdm.tqdm(test_data_loader, desc=f\"Testing Epoch 1/1\")\n",
    "    for data, targets in pbar:\n",
    "        outputs = model(data.to(device))\n",
    "        _, predicted = outputs.max(1)\n",
    "\n",
    "        correct += (predicted.detach().cpu() == targets).sum().item()\n",
    "        total += targets.size(0)\n",
    "        accuracy = correct / total\n",
    "        \n",
    "        pbar.set_postfix({\"Accuracy\": f\"{accuracy * 100:.2f}%\"})"
   ]
  },
  {
   "cell_type": "markdown",
   "metadata": {},
   "source": [
    "## 문제 4\n",
    "#### 샘플 테스트 데이터 분류 예측 결과 확인하기"
   ]
  },
  {
   "cell_type": "code",
   "execution_count": 21,
   "metadata": {},
   "outputs": [
    {
     "data": {
      "image/png": "[encoded data removed]",
      "text/plain": [
       "<Figure size 1000x500 with 10 Axes>"
      ]
     },
     "metadata": {},
     "output_type": "display_data"
    }
   ],
   "source": [
    "fig, axes = plt.subplots(2, 5, figsize=(10, 5))\n",
    "\n",
    "# ne는 사진 넘기는 역할\n",
    "ne = 20\n",
    "with torch.no_grad():\n",
    "    test_iter = iter(test_data_loader)\n",
    "    for j in range(ne):\n",
    "        test_data = next(test_iter)\n",
    "\n",
    "    for i in range(10):\n",
    "        test_data = next(test_iter)\n",
    "\n",
    "        outputs = model(test_data[0].to(device))\n",
    "        _, pred = outputs.max(1)\n",
    "\n",
    "        axes[i//5][i%5].imshow(test_data[0].squeeze().numpy(), cmap=\"gray\")\n",
    "        axes[i//5][i%5].set_title(f\"pred/label: {pred.item()}/{test_data[1].item()}\")  # 레이블 추가"
   ]
  },
  {
   "cell_type": "markdown",
   "metadata": {},
   "source": [
    "2, 4번째 이미지(예측:7, 라벨:5/예측:5, 라벨:9)를 통해 샌들, 부츠, 운동화 라벨 간의 분류를 진행하는 데 어려움이 있음을 확인할 수 있었습니다.\\\n",
    "또한 라운드티(2)와 코트(4) 간의 분류를 진행하는 데도 어려움이 있음을 확인할 수 있었는데,\\\n",
    "모델이 분류에 실패하는 이유는 이미지의 크기가 작고, 채널 또한 한개 밖에 없어 모델이 학습하는 데 어려움을 겪는 것 같다고 느꼈으며\\\n",
    "이는 실제로 사람이 육안으로 분류하기에 힘든 이미지에 속한다는 것을 알 수 있었습니다."
   ]
  },
  {
   "cell_type": "markdown",
   "metadata": {},
   "source": [
    "## 숙제 후기\n",
    "이번 과제를 통해서 L2Norm, data_argumentation 등 모델의 성능을 높일 수 있는 여러 방법에 대해서 응용해봄으로써\\\n",
    "직접 성능 향상을 확인해볼 수 있는 기회를 가질 수 있었습니다.\\\n",
    "정확도 93 이상을 달성하기 위해 CNN 모델의 입력 피처의 수를 변경해보기도 했고, 옵티마이저의 learning_rate 값을 변경해보기도 했으며,\\\n",
    "activate_func을 고치거나 Convolution 연산 이후에 Drop_out을 적용시켜 보기도 하고 Convolution의 커널 사이즈 수 자체를 변경해보는 등\\\n",
    "여러 방법을 동원하여 간신히 넘길 수 있었던 것 같습니다."
   ]
  }
 ],
 "metadata": {
  "kernelspec": {
   "display_name": "environments",
   "language": "python",
   "name": "python3"
  },
  "language_info": {
   "codemirror_mode": {
    "name": "ipython",
    "version": 3
   },
   "file_extension": ".py",
   "mimetype": "text/x-python",
   "name": "python",
   "nbconvert_exporter": "python",
   "pygments_lexer": "ipython3",
   "version": "3.10.12"
  }
 },
 "nbformat": 4,
 "nbformat_minor": 2
}
